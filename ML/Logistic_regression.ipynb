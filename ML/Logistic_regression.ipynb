{
 "cells": [
  {
   "cell_type": "markdown",
   "metadata": {},
   "source": [
    "# 🚢 Logistic Regression: Predicting Survival on the Titanic"
   ]
  },
  {
   "cell_type": "markdown",
   "metadata": {},
   "source": [
    "### Notebook Goal\n",
    "Welcome! This notebook provides a deep, intuitive dive into **Logistic Regression**, one of the most fundamental algorithms in machine learning. We will explore its theory, build it from scratch, and then implement it using Scikit-learn to solve a real-world problem: **predicting which passengers survived the sinking of the Titanic.**"
   ]
  },
  {
   "cell_type": "code",
   "execution_count": 12,
   "metadata": {},
   "outputs": [],
   "source": [
    "# Core libraries\n",
    "import numpy as np\n",
    "import pandas as pd\n",
    "\n",
    "# Visualization\n",
    "import matplotlib.pyplot as plt\n",
    "import seaborn as sns\n",
    "import plotly.express as px\n",
    "\n",
    "# Scikit-learn for preprocessing, modeling, and evaluation\n",
    "from sklearn.model_selection import train_test_split, GridSearchCV\n",
    "from sklearn.preprocessing import StandardScaler, OneHotEncoder\n",
    "from sklearn.impute import SimpleImputer\n",
    "from sklearn.compose import ColumnTransformer\n",
    "from sklearn.pipeline import Pipeline\n",
    "from sklearn.linear_model import LogisticRegression\n",
    "from sklearn.metrics import accuracy_score, confusion_matrix, classification_report, roc_curve, roc_auc_score\n",
    "\n",
    "# Settings for cleaner plots\n",
    "sns.set_style('whitegrid')\n",
    "plt.rcParams['figure.figsize'] = (10, 6)"
   ]
  },
  {
   "cell_type": "markdown",
   "metadata": {},
   "source": [
    "## Section 1: 🚀 The Quest for a Probabilistic Switch"
   ]
  },
  {
   "cell_type": "markdown",
   "metadata": {},
   "source": [
    "### What is Logistic Regression? (The \"Survival Probability\" Analogy)\n",
    "\n",
    "Imagine we want to predict a binary outcome: did a passenger **Survive (1)** or **Die (0)**? If we try to use Linear Regression, we might get predictions outside the sensible range of 0 to 1 (e.g., predicting a -0.5 or 1.5 probability of survival), which doesn't make sense.\n",
    "\n",
    "Logistic Regression solves this by fitting an **\"S-shaped\" sigmoid curve** instead of a straight line. This curve ensures the output is always a probability between 0 and 1.\n",
    "\n",
    "* **Sigmoid Function**: The mathematical function that creates the S-curve. 📈\n",
    "* **Output Probability**: The model's output, representing the estimated chance of survival for a given passenger.\n",
    "* **Decision Boundary**: A threshold (usually 0.5 probability) where we switch our prediction. If `probability > 0.5`, we predict 'Survived'; otherwise, we predict 'Died'."
   ]
  },
  {
   "cell_type": "markdown",
   "metadata": {},
   "source": [
    "### Why is it Called \"Regression\"?\n",
    "\n",
    "It's a common point of confusion. Although it's used for **classification**, its name comes from its underlying mechanics, which are rooted in linear regression. It calculates a weighted sum of the input features (just like linear regression) but then passes this sum through the logistic (sigmoid) function to produce a probability. It's the simplest, most interpretable baseline model for binary classification tasks."
   ]
  },
  {
   "cell_type": "markdown",
   "metadata": {},
   "source": [
    "### When Should You Use Logistic Regression?\n",
    "It's the perfect tool for any binary classification problem, such as:\n",
    "- **Medical Diagnosis**: Does a patient have a specific disease (Yes/No)?\n",
    "- **Finance**: Is a transaction fraudulent (Yes/No)?\n",
    "- **Marketing**: Will a customer churn (Yes/No)?\n",
    "- **Our Case**: Did a Titanic passenger survive (Yes/No)?"
   ]
  },
  {
   "cell_type": "markdown",
   "metadata": {},
   "source": [
    "## Section 2: 🧠 The Core Mathematics"
   ]
  },
  {
   "cell_type": "markdown",
   "metadata": {},
   "source": [
    "### From Linear Equation to Probability\n",
    "\n",
    "We start with a linear equation, which produces a value known as the **logit**. This value can be any real number.\n",
    "\n",
    "$$ z = w \\cdot x + b = w_1x_1 + w_2x_2 + ... + w_mx_m + b $$\n",
    "\n",
    "**Connecting to Our Data:**\n",
    "- $x$: A vector representing a single passenger's features (e.g., $x = [\\text{age, sex, pclass, fare}]$).\n",
    "- $w$: The vector of **weights** the model learns. For example, the model will learn a weight, $w_{\\text{sex}}$, that quantifies how much being male vs. female influences the logit, and thus the chance of survival.\n",
    "- $b$: A bias term, similar to the y-intercept in a linear equation.\n",
    "\n",
    "To turn the logit $z$ into a probability between 0 and 1, we pass it through the **Sigmoid function**, denoted as $\\sigma(z)$:\n",
    "\n",
    "$$ h(x) = \\sigma(z) = \\frac{1}{1 + e^{-z}} = \\frac{1}{1 + e^{-(w \\cdot x + b)}} $$\n",
    "\n",
    "This output, $h(x)$, is our model's final prediction: the estimated probability that a passenger survived."
   ]
  },
  {
   "cell_type": "markdown",
   "metadata": {},
   "source": [
    "### Defining the Error (The Log Loss Cost Function)\n",
    "\n",
    "To train our model, we need a way to measure how wrong its predictions are. The **Binary Cross-Entropy Loss** (or **Log Loss**) function is perfect for this. It heavily penalizes the model for being confident and wrong.\n",
    "\n",
    "$$ J(w, b) = -\\frac{1}{n} \\sum_{i=1}^{n} [y_i \\log(h(x_i)) + (1-y_i) \\log(1 - h(x_i))] $$\n",
    "\n",
    "**Intuition with Titanic Data:**\n",
    "- If a passenger actually **survived** ($y_i = 1$), the second term $(1-y_i)...$ becomes zero. The cost for this passenger is just $- \\log(h(x_i))$. If our model correctly predicts a high probability of survival (e.g., $h(x_i) = 0.9$), the cost is small ($- \\log(0.9) \\approx 0.1$). But if it wrongly predicts a low probability (e.g., $h(x_i) = 0.1$), the cost is large ($- \\log(0.1) \\approx 2.3$).\n",
    "- Conversely, if a passenger **died** ($y_i = 0$), the first term becomes zero, and the cost is $- \\log(1 - h(x_i))$.\n",
    "\n",
    "The model's goal during training is to find the weights $w$ and bias $b$ that minimize this total cost $J$ across all passengers."
   ]
  },
  {
   "cell_type": "markdown",
   "metadata": {},
   "source": [
    "### Regularization: Preventing Overfitting with L1 & L2\n",
    "\n",
    "**The Problem:** With many features, a model might learn spurious patterns unique to the training data (e.g., \"all passengers with ticket number '347082' died\"). This is **overfitting**, and it means the model won't generalize well to new data. Regularization prevents this by adding a penalty to the cost function for large weight values.\n",
    "\n",
    "#### L2 Regularization (Ridge)\n",
    "This is the most common type of regularization. It adds the squared magnitude of the weights to the cost function.\n",
    "$$ J_{L2} = \\text{LogLoss} + \\frac{\\lambda}{2n} \\sum_{j=1}^{m} w_j^2 $$\n",
    "**Intuition:** It encourages the model to use all features but to keep their weights small and distributed. It prevents any single feature from having too much influence.\n",
    "\n",
    "#### L1 Regularization (Lasso)\n",
    "This adds the absolute value of the weights to the cost function.\n",
    "$$ J_{L1} = \\text{LogLoss} + \\frac{\\lambda}{n} \\sum_{j=1}^{m} |w_j| $$\n",
    "**Intuition:** It can shrink the weights of unimportant features all the way to **zero**. This is useful for **feature selection**, as it tells us which features the model considers irrelevant for predicting survival.\n",
    "\n",
    "#### The Hyperparameter `C`\n",
    "In Scikit-learn, the regularization strength is controlled by a parameter `C`, which is the *inverse* of the regularization strength $\\lambda$. \n",
    "- **Small `C`** $\\implies$ High $\\lambda$ $\\implies$ **Strong regularization**.\n",
    "- **Large `C`** $\\implies$ Low $\\lambda$ $\\implies$ **Weak regularization**."
   ]
  },
  {
   "cell_type": "markdown",
   "metadata": {},
   "source": [
    "## Section 3: ⚙️ The Logistic Regression Algorithm in Action"
   ]
  },
  {
   "cell_type": "markdown",
   "metadata": {},
   "source": [
    "Here is the high-level process for how the model learns using **Gradient Descent**.\n",
    "\n",
    "1.  **Input Data:** The algorithm takes `X` (our matrix of Titanic passenger data, like age, class, etc.) and `y` (the 'Survived' column).\n",
    "2.  **Initialize Parameters:** Start with a weights vector `w` (one weight for each feature) and a bias `b`, typically initialized to zeros. Choose a `learning_rate` (how big of a step to take), a number of `iterations`, and a regularization strategy.\n",
    "3.  **Iterative Optimization:** Loop for a set number of iterations. In each iteration:\n",
    "    a. **Calculate Predictions:** Compute the logit $z = Xw + b$ and the survival probabilities $h = \\sigma(z)$ for all passengers.\n",
    "    b. **Calculate Gradients:** Compute the gradients (derivatives) of the regularized cost function with respect to each weight $w_j$ and the bias $b$. The gradient tells us the direction of steepest ascent of the cost function.\n",
    "    c. **Update Parameters:** Update the weights and bias by taking a small step in the *opposite* direction of the gradient. This moves the parameters towards the minimum of the cost function. $$ w := w - \\text{learning\\_rate} \\cdot \\text{gradient}_w $$ $$ b := b - \\text{learning\\_rate} \\cdot \\text{gradient}_b $$\n",
    "4.  **Output the Model:** After the loop finishes, the final `w` and `b` values represent the learned relationship between passenger features and survival probability.\n",
    "5.  **Make a Prediction:** To classify a new passenger, calculate their survival probability $p = h(x_{\\text{new}})$ and apply the 0.5 decision boundary. If $p > 0.5$, predict 'Survived'."
   ]
  },
  {
   "cell_type": "markdown",
   "metadata": {},
   "source": [
    "## Section 4: 🛠️ Building Logistic Regression from Scratch (Pure Python)"
   ]
  },
  {
   "cell_type": "markdown",
   "metadata": {},
   "source": [
    "Let's implement a simple Logistic Regression class to demystify its inner workings. Our goal is to teach the computer how to find the best weights `w` for our Titanic features by iteratively minimizing the regularized Log Loss function using the steps outlined above."
   ]
  },
  {
   "cell_type": "code",
   "execution_count": 13,
   "metadata": {},
   "outputs": [],
   "source": [
    "class SimpleLogisticRegression:\n",
    "    \"\"\"A from-scratch implementation of Logistic Regression with L2 regularization.\"\"\"\n",
    "    def __init__(self, learning_rate=0.01, n_iters=1000, reg_lambda=0.1):\n",
    "        self.lr = learning_rate\n",
    "        self.n_iters = n_iters\n",
    "        self.reg_lambda = reg_lambda # Regularization strength\n",
    "        self.weights = None\n",
    "        self.bias = None\n",
    "\n",
    "    def _sigmoid(self, z):\n",
    "        return 1 / (1 + np.exp(-z))\n",
    "\n",
    "    def fit(self, X, y):\n",
    "        n_samples, n_features = X.shape\n",
    "        self.weights = np.zeros(n_features)\n",
    "        self.bias = 0\n",
    "\n",
    "        # Gradient Descent\n",
    "        for _ in range(self.n_iters):\n",
    "            # 1. Calculate predictions\n",
    "            linear_model = np.dot(X, self.weights) + self.bias\n",
    "            y_predicted = self._sigmoid(linear_model)\n",
    "\n",
    "            # 2. Calculate gradients\n",
    "            # The gradient of the log loss is (h - y)\n",
    "            # We add the gradient of the L2 regularization term: lambda * w\n",
    "            dw = (1 / n_samples) * (np.dot(X.T, (y_predicted - y)) + self.reg_lambda * self.weights)\n",
    "            db = (1 / n_samples) * np.sum(y_predicted - y)\n",
    "\n",
    "            # 3. Update parameters\n",
    "            self.weights -= self.lr * dw\n",
    "            self.bias -= self.lr * db\n",
    "\n",
    "    def predict_proba(self, X):\n",
    "        linear_model = np.dot(X, self.weights) + self.bias\n",
    "        return self._sigmoid(linear_model)\n",
    "\n",
    "    def predict(self, X, threshold=0.5):\n",
    "        y_predicted_proba = self.predict_proba(X)\n",
    "        y_predicted_cls = [1 if i > threshold else 0 for i in y_predicted_proba]\n",
    "        return np.array(y_predicted_cls)"
   ]
  },
  {
   "cell_type": "markdown",
   "metadata": {},
   "source": [
    "### Training our From-Scratch Model\n",
    "\n",
    "Now let's apply this class to the Titanic data. We'll need to do some minimal data cleaning first."
   ]
  },
  {
   "cell_type": "code",
   "execution_count": 14,
   "metadata": {},
   "outputs": [
    {
     "name": "stdout",
     "output_type": "stream",
     "text": [
      "--- From-Scratch Logistic Regression ---\n",
      "Accuracy on test set: 0.7933\n"
     ]
    },
    {
     "name": "stderr",
     "output_type": "stream",
     "text": [
      "C:\\Users\\jspagnol\\AppData\\Local\\Temp\\14\\ipykernel_19544\\1758877658.py:11: FutureWarning: A value is trying to be set on a copy of a DataFrame or Series through chained assignment using an inplace method.\n",
      "The behavior will change in pandas 3.0. This inplace method will never work because the intermediate object on which we are setting values always behaves as a copy.\n",
      "\n",
      "For example, when doing 'df[col].method(value, inplace=True)', try using 'df.method({col: value}, inplace=True)' or df[col] = df[col].method(value) instead, to perform the operation inplace on the original object.\n",
      "\n",
      "\n",
      "  df_scratch['age'].fillna(df_scratch['age'].median(), inplace=True)\n"
     ]
    }
   ],
   "source": [
    "# Load data\n",
    "data = sns.load_dataset('titanic')\n",
    "\n",
    "# Basic preprocessing for the from-scratch model\n",
    "df_scratch = data[['survived', 'pclass', 'sex', 'age', 'fare']].copy()\n",
    "\n",
    "    # 1. Encode 'sex'\n",
    "df_scratch['sex'] = df_scratch['sex'].map({'male': 0, 'female': 1})\n",
    "\n",
    "# 2. Impute missing 'age' values\n",
    "df_scratch['age'].fillna(df_scratch['age'].median(), inplace=True)\n",
    "\n",
    "# 3. Drop any remaining NaN rows (if any)\n",
    "df_scratch.dropna(inplace=True)\n",
    "\n",
    "# Define features (X) and target (y)\n",
    "X_scratch = df_scratch[['pclass', 'sex', 'age', 'fare']].values\n",
    "y_scratch = df_scratch['survived'].values\n",
    "\n",
    "# 4. Scale features for better gradient descent performance\n",
    "scaler = StandardScaler()\n",
    "X_scratch_scaled = scaler.fit_transform(X_scratch)\n",
    "\n",
    "# Split data\n",
    "X_train, X_test, y_train, y_test = train_test_split(X_scratch_scaled, y_scratch, test_size=0.2, random_state=42)\n",
    "\n",
    "# Instantiate and train our model\n",
    "scratch_model = SimpleLogisticRegression(learning_rate=0.1, n_iters=1000, reg_lambda=0.1)\n",
    "scratch_model.fit(X_train, y_train)\n",
    "\n",
    "# Make predictions\n",
    "predictions = scratch_model.predict(X_test)\n",
    "\n",
    "print(\"--- From-Scratch Logistic Regression ---\")\n",
    "print(f\"Accuracy on test set: {accuracy_score(y_test, predictions):.4f}\")"
   ]
  },
  {
   "cell_type": "markdown",
   "metadata": {},
   "source": [
    "This simple implementation gives a decent result! It shows that the core logic of gradient descent on the log-loss function works. Now, let's see how to do this the easy, robust, and conventional way with Scikit-learn."
   ]
  },
  {
   "cell_type": "markdown",
   "metadata": {},
   "source": [
    "## Section 5: ✅ The Easy Way (Implementation with Scikit-learn)"
   ]
  },
  {
   "cell_type": "markdown",
   "metadata": {},
   "source": [
    "### Data Preprocessing Pipeline (The Crucial Step)\n",
    "For a robust model, we need a more thorough preprocessing workflow. The best practice is to build a `Pipeline` that handles all transformations systematically. This prevents data leakage and makes the model easy to deploy.\n",
    "\n",
    "Our pipeline will:\n",
    "1.  **Impute Missing Values**: Fill missing `age` with the median and missing `embarked` with the most frequent port.\n",
    "2.  **Encode Categorical Variables**: Convert `sex` and `embarked` into numerical format using `OneHotEncoder`.\n",
    "3.  **Scale Numerical Features**: Use `StandardScaler` on `age` and `fare` so they are on a similar scale and contribute fairly to the model."
   ]
  },
  {
   "cell_type": "code",
   "execution_count": 15,
   "metadata": {},
   "outputs": [
    {
     "name": "stdout",
     "output_type": "stream",
     "text": [
      "Training set shape: (712, 7)\n",
      "Test set shape: (179, 7)\n"
     ]
    }
   ],
   "source": [
    "# Load data again for a fresh start\n",
    "df = sns.load_dataset('titanic')\n",
    "\n",
    "# Select features and drop irrelevant ones\n",
    "df = df.drop(['deck', 'embark_town', 'alive', 'class', 'who', 'adult_male', 'alone'], axis=1)\n",
    "\n",
    "# Define features (X) and target (y)\n",
    "X = df.drop('survived', axis=1)\n",
    "y = df['survived']\n",
    "\n",
    "# Identify categorical and numerical features\n",
    "categorical_features = ['embarked', 'sex', 'pclass']\n",
    "numerical_features = ['age', 'fare', 'sibsp', 'parch']\n",
    "\n",
    "# Create preprocessing pipelines for numerical and categorical features\n",
    "numerical_transformer = Pipeline(steps=[\n",
    "    ('imputer', SimpleImputer(strategy='median')),\n",
    "    ('scaler', StandardScaler())\n",
    "])\n",
    "\n",
    "categorical_transformer = Pipeline(steps=[\n",
    "    ('imputer', SimpleImputer(strategy='most_frequent')),\n",
    "    ('onehot', OneHotEncoder(handle_unknown='ignore'))\n",
    "])\n",
    "\n",
    "# Create a preprocessor object using ColumnTransformer\n",
    "preprocessor = ColumnTransformer(\n",
    "    transformers=[\n",
    "        ('num', numerical_transformer, numerical_features),\n",
    "        ('cat', categorical_transformer, categorical_features)\n",
    "    ])\n",
    "\n",
    "# Split the data into training and testing sets\n",
    "X_train, X_test, y_train, y_test = train_test_split(X, y, test_size=0.2, random_state=42, stratify=y)\n",
    "\n",
    "print(f\"Training set shape: {X_train.shape}\")\n",
    "print(f\"Test set shape: {X_test.shape}\")"
   ]
  },
  {
   "cell_type": "markdown",
   "metadata": {},
   "source": [
    "### Creating and Training the Scikit-learn Model\n",
    "Now we'll create the final pipeline by attaching our logistic regression model to the preprocessor."
   ]
  },
  {
   "cell_type": "code",
   "execution_count": 16,
   "metadata": {},
   "outputs": [
    {
     "data": {
      "text/html": [
       "<style>#sk-container-id-1 {\n",
       "  /* Definition of color scheme common for light and dark mode */\n",
       "  --sklearn-color-text: #000;\n",
       "  --sklearn-color-text-muted: #666;\n",
       "  --sklearn-color-line: gray;\n",
       "  /* Definition of color scheme for unfitted estimators */\n",
       "  --sklearn-color-unfitted-level-0: #fff5e6;\n",
       "  --sklearn-color-unfitted-level-1: #f6e4d2;\n",
       "  --sklearn-color-unfitted-level-2: #ffe0b3;\n",
       "  --sklearn-color-unfitted-level-3: chocolate;\n",
       "  /* Definition of color scheme for fitted estimators */\n",
       "  --sklearn-color-fitted-level-0: #f0f8ff;\n",
       "  --sklearn-color-fitted-level-1: #d4ebff;\n",
       "  --sklearn-color-fitted-level-2: #b3dbfd;\n",
       "  --sklearn-color-fitted-level-3: cornflowerblue;\n",
       "\n",
       "  /* Specific color for light theme */\n",
       "  --sklearn-color-text-on-default-background: var(--sg-text-color, var(--theme-code-foreground, var(--jp-content-font-color1, black)));\n",
       "  --sklearn-color-background: var(--sg-background-color, var(--theme-background, var(--jp-layout-color0, white)));\n",
       "  --sklearn-color-border-box: var(--sg-text-color, var(--theme-code-foreground, var(--jp-content-font-color1, black)));\n",
       "  --sklearn-color-icon: #696969;\n",
       "\n",
       "  @media (prefers-color-scheme: dark) {\n",
       "    /* Redefinition of color scheme for dark theme */\n",
       "    --sklearn-color-text-on-default-background: var(--sg-text-color, var(--theme-code-foreground, var(--jp-content-font-color1, white)));\n",
       "    --sklearn-color-background: var(--sg-background-color, var(--theme-background, var(--jp-layout-color0, #111)));\n",
       "    --sklearn-color-border-box: var(--sg-text-color, var(--theme-code-foreground, var(--jp-content-font-color1, white)));\n",
       "    --sklearn-color-icon: #878787;\n",
       "  }\n",
       "}\n",
       "\n",
       "#sk-container-id-1 {\n",
       "  color: var(--sklearn-color-text);\n",
       "}\n",
       "\n",
       "#sk-container-id-1 pre {\n",
       "  padding: 0;\n",
       "}\n",
       "\n",
       "#sk-container-id-1 input.sk-hidden--visually {\n",
       "  border: 0;\n",
       "  clip: rect(1px 1px 1px 1px);\n",
       "  clip: rect(1px, 1px, 1px, 1px);\n",
       "  height: 1px;\n",
       "  margin: -1px;\n",
       "  overflow: hidden;\n",
       "  padding: 0;\n",
       "  position: absolute;\n",
       "  width: 1px;\n",
       "}\n",
       "\n",
       "#sk-container-id-1 div.sk-dashed-wrapped {\n",
       "  border: 1px dashed var(--sklearn-color-line);\n",
       "  margin: 0 0.4em 0.5em 0.4em;\n",
       "  box-sizing: border-box;\n",
       "  padding-bottom: 0.4em;\n",
       "  background-color: var(--sklearn-color-background);\n",
       "}\n",
       "\n",
       "#sk-container-id-1 div.sk-container {\n",
       "  /* jupyter's `normalize.less` sets `[hidden] { display: none; }`\n",
       "     but bootstrap.min.css set `[hidden] { display: none !important; }`\n",
       "     so we also need the `!important` here to be able to override the\n",
       "     default hidden behavior on the sphinx rendered scikit-learn.org.\n",
       "     See: https://github.com/scikit-learn/scikit-learn/issues/21755 */\n",
       "  display: inline-block !important;\n",
       "  position: relative;\n",
       "}\n",
       "\n",
       "#sk-container-id-1 div.sk-text-repr-fallback {\n",
       "  display: none;\n",
       "}\n",
       "\n",
       "div.sk-parallel-item,\n",
       "div.sk-serial,\n",
       "div.sk-item {\n",
       "  /* draw centered vertical line to link estimators */\n",
       "  background-image: linear-gradient(var(--sklearn-color-text-on-default-background), var(--sklearn-color-text-on-default-background));\n",
       "  background-size: 2px 100%;\n",
       "  background-repeat: no-repeat;\n",
       "  background-position: center center;\n",
       "}\n",
       "\n",
       "/* Parallel-specific style estimator block */\n",
       "\n",
       "#sk-container-id-1 div.sk-parallel-item::after {\n",
       "  content: \"\";\n",
       "  width: 100%;\n",
       "  border-bottom: 2px solid var(--sklearn-color-text-on-default-background);\n",
       "  flex-grow: 1;\n",
       "}\n",
       "\n",
       "#sk-container-id-1 div.sk-parallel {\n",
       "  display: flex;\n",
       "  align-items: stretch;\n",
       "  justify-content: center;\n",
       "  background-color: var(--sklearn-color-background);\n",
       "  position: relative;\n",
       "}\n",
       "\n",
       "#sk-container-id-1 div.sk-parallel-item {\n",
       "  display: flex;\n",
       "  flex-direction: column;\n",
       "}\n",
       "\n",
       "#sk-container-id-1 div.sk-parallel-item:first-child::after {\n",
       "  align-self: flex-end;\n",
       "  width: 50%;\n",
       "}\n",
       "\n",
       "#sk-container-id-1 div.sk-parallel-item:last-child::after {\n",
       "  align-self: flex-start;\n",
       "  width: 50%;\n",
       "}\n",
       "\n",
       "#sk-container-id-1 div.sk-parallel-item:only-child::after {\n",
       "  width: 0;\n",
       "}\n",
       "\n",
       "/* Serial-specific style estimator block */\n",
       "\n",
       "#sk-container-id-1 div.sk-serial {\n",
       "  display: flex;\n",
       "  flex-direction: column;\n",
       "  align-items: center;\n",
       "  background-color: var(--sklearn-color-background);\n",
       "  padding-right: 1em;\n",
       "  padding-left: 1em;\n",
       "}\n",
       "\n",
       "\n",
       "/* Toggleable style: style used for estimator/Pipeline/ColumnTransformer box that is\n",
       "clickable and can be expanded/collapsed.\n",
       "- Pipeline and ColumnTransformer use this feature and define the default style\n",
       "- Estimators will overwrite some part of the style using the `sk-estimator` class\n",
       "*/\n",
       "\n",
       "/* Pipeline and ColumnTransformer style (default) */\n",
       "\n",
       "#sk-container-id-1 div.sk-toggleable {\n",
       "  /* Default theme specific background. It is overwritten whether we have a\n",
       "  specific estimator or a Pipeline/ColumnTransformer */\n",
       "  background-color: var(--sklearn-color-background);\n",
       "}\n",
       "\n",
       "/* Toggleable label */\n",
       "#sk-container-id-1 label.sk-toggleable__label {\n",
       "  cursor: pointer;\n",
       "  display: flex;\n",
       "  width: 100%;\n",
       "  margin-bottom: 0;\n",
       "  padding: 0.5em;\n",
       "  box-sizing: border-box;\n",
       "  text-align: center;\n",
       "  align-items: start;\n",
       "  justify-content: space-between;\n",
       "  gap: 0.5em;\n",
       "}\n",
       "\n",
       "#sk-container-id-1 label.sk-toggleable__label .caption {\n",
       "  font-size: 0.6rem;\n",
       "  font-weight: lighter;\n",
       "  color: var(--sklearn-color-text-muted);\n",
       "}\n",
       "\n",
       "#sk-container-id-1 label.sk-toggleable__label-arrow:before {\n",
       "  /* Arrow on the left of the label */\n",
       "  content: \"▸\";\n",
       "  float: left;\n",
       "  margin-right: 0.25em;\n",
       "  color: var(--sklearn-color-icon);\n",
       "}\n",
       "\n",
       "#sk-container-id-1 label.sk-toggleable__label-arrow:hover:before {\n",
       "  color: var(--sklearn-color-text);\n",
       "}\n",
       "\n",
       "/* Toggleable content - dropdown */\n",
       "\n",
       "#sk-container-id-1 div.sk-toggleable__content {\n",
       "  display: none;\n",
       "  text-align: left;\n",
       "  /* unfitted */\n",
       "  background-color: var(--sklearn-color-unfitted-level-0);\n",
       "}\n",
       "\n",
       "#sk-container-id-1 div.sk-toggleable__content.fitted {\n",
       "  /* fitted */\n",
       "  background-color: var(--sklearn-color-fitted-level-0);\n",
       "}\n",
       "\n",
       "#sk-container-id-1 div.sk-toggleable__content pre {\n",
       "  margin: 0.2em;\n",
       "  border-radius: 0.25em;\n",
       "  color: var(--sklearn-color-text);\n",
       "  /* unfitted */\n",
       "  background-color: var(--sklearn-color-unfitted-level-0);\n",
       "}\n",
       "\n",
       "#sk-container-id-1 div.sk-toggleable__content.fitted pre {\n",
       "  /* unfitted */\n",
       "  background-color: var(--sklearn-color-fitted-level-0);\n",
       "}\n",
       "\n",
       "#sk-container-id-1 input.sk-toggleable__control:checked~div.sk-toggleable__content {\n",
       "  /* Expand drop-down */\n",
       "  display: block;\n",
       "  width: 100%;\n",
       "  overflow: visible;\n",
       "}\n",
       "\n",
       "#sk-container-id-1 input.sk-toggleable__control:checked~label.sk-toggleable__label-arrow:before {\n",
       "  content: \"▾\";\n",
       "}\n",
       "\n",
       "/* Pipeline/ColumnTransformer-specific style */\n",
       "\n",
       "#sk-container-id-1 div.sk-label input.sk-toggleable__control:checked~label.sk-toggleable__label {\n",
       "  color: var(--sklearn-color-text);\n",
       "  background-color: var(--sklearn-color-unfitted-level-2);\n",
       "}\n",
       "\n",
       "#sk-container-id-1 div.sk-label.fitted input.sk-toggleable__control:checked~label.sk-toggleable__label {\n",
       "  background-color: var(--sklearn-color-fitted-level-2);\n",
       "}\n",
       "\n",
       "/* Estimator-specific style */\n",
       "\n",
       "/* Colorize estimator box */\n",
       "#sk-container-id-1 div.sk-estimator input.sk-toggleable__control:checked~label.sk-toggleable__label {\n",
       "  /* unfitted */\n",
       "  background-color: var(--sklearn-color-unfitted-level-2);\n",
       "}\n",
       "\n",
       "#sk-container-id-1 div.sk-estimator.fitted input.sk-toggleable__control:checked~label.sk-toggleable__label {\n",
       "  /* fitted */\n",
       "  background-color: var(--sklearn-color-fitted-level-2);\n",
       "}\n",
       "\n",
       "#sk-container-id-1 div.sk-label label.sk-toggleable__label,\n",
       "#sk-container-id-1 div.sk-label label {\n",
       "  /* The background is the default theme color */\n",
       "  color: var(--sklearn-color-text-on-default-background);\n",
       "}\n",
       "\n",
       "/* On hover, darken the color of the background */\n",
       "#sk-container-id-1 div.sk-label:hover label.sk-toggleable__label {\n",
       "  color: var(--sklearn-color-text);\n",
       "  background-color: var(--sklearn-color-unfitted-level-2);\n",
       "}\n",
       "\n",
       "/* Label box, darken color on hover, fitted */\n",
       "#sk-container-id-1 div.sk-label.fitted:hover label.sk-toggleable__label.fitted {\n",
       "  color: var(--sklearn-color-text);\n",
       "  background-color: var(--sklearn-color-fitted-level-2);\n",
       "}\n",
       "\n",
       "/* Estimator label */\n",
       "\n",
       "#sk-container-id-1 div.sk-label label {\n",
       "  font-family: monospace;\n",
       "  font-weight: bold;\n",
       "  display: inline-block;\n",
       "  line-height: 1.2em;\n",
       "}\n",
       "\n",
       "#sk-container-id-1 div.sk-label-container {\n",
       "  text-align: center;\n",
       "}\n",
       "\n",
       "/* Estimator-specific */\n",
       "#sk-container-id-1 div.sk-estimator {\n",
       "  font-family: monospace;\n",
       "  border: 1px dotted var(--sklearn-color-border-box);\n",
       "  border-radius: 0.25em;\n",
       "  box-sizing: border-box;\n",
       "  margin-bottom: 0.5em;\n",
       "  /* unfitted */\n",
       "  background-color: var(--sklearn-color-unfitted-level-0);\n",
       "}\n",
       "\n",
       "#sk-container-id-1 div.sk-estimator.fitted {\n",
       "  /* fitted */\n",
       "  background-color: var(--sklearn-color-fitted-level-0);\n",
       "}\n",
       "\n",
       "/* on hover */\n",
       "#sk-container-id-1 div.sk-estimator:hover {\n",
       "  /* unfitted */\n",
       "  background-color: var(--sklearn-color-unfitted-level-2);\n",
       "}\n",
       "\n",
       "#sk-container-id-1 div.sk-estimator.fitted:hover {\n",
       "  /* fitted */\n",
       "  background-color: var(--sklearn-color-fitted-level-2);\n",
       "}\n",
       "\n",
       "/* Specification for estimator info (e.g. \"i\" and \"?\") */\n",
       "\n",
       "/* Common style for \"i\" and \"?\" */\n",
       "\n",
       ".sk-estimator-doc-link,\n",
       "a:link.sk-estimator-doc-link,\n",
       "a:visited.sk-estimator-doc-link {\n",
       "  float: right;\n",
       "  font-size: smaller;\n",
       "  line-height: 1em;\n",
       "  font-family: monospace;\n",
       "  background-color: var(--sklearn-color-background);\n",
       "  border-radius: 1em;\n",
       "  height: 1em;\n",
       "  width: 1em;\n",
       "  text-decoration: none !important;\n",
       "  margin-left: 0.5em;\n",
       "  text-align: center;\n",
       "  /* unfitted */\n",
       "  border: var(--sklearn-color-unfitted-level-1) 1pt solid;\n",
       "  color: var(--sklearn-color-unfitted-level-1);\n",
       "}\n",
       "\n",
       ".sk-estimator-doc-link.fitted,\n",
       "a:link.sk-estimator-doc-link.fitted,\n",
       "a:visited.sk-estimator-doc-link.fitted {\n",
       "  /* fitted */\n",
       "  border: var(--sklearn-color-fitted-level-1) 1pt solid;\n",
       "  color: var(--sklearn-color-fitted-level-1);\n",
       "}\n",
       "\n",
       "/* On hover */\n",
       "div.sk-estimator:hover .sk-estimator-doc-link:hover,\n",
       ".sk-estimator-doc-link:hover,\n",
       "div.sk-label-container:hover .sk-estimator-doc-link:hover,\n",
       ".sk-estimator-doc-link:hover {\n",
       "  /* unfitted */\n",
       "  background-color: var(--sklearn-color-unfitted-level-3);\n",
       "  color: var(--sklearn-color-background);\n",
       "  text-decoration: none;\n",
       "}\n",
       "\n",
       "div.sk-estimator.fitted:hover .sk-estimator-doc-link.fitted:hover,\n",
       ".sk-estimator-doc-link.fitted:hover,\n",
       "div.sk-label-container:hover .sk-estimator-doc-link.fitted:hover,\n",
       ".sk-estimator-doc-link.fitted:hover {\n",
       "  /* fitted */\n",
       "  background-color: var(--sklearn-color-fitted-level-3);\n",
       "  color: var(--sklearn-color-background);\n",
       "  text-decoration: none;\n",
       "}\n",
       "\n",
       "/* Span, style for the box shown on hovering the info icon */\n",
       ".sk-estimator-doc-link span {\n",
       "  display: none;\n",
       "  z-index: 9999;\n",
       "  position: relative;\n",
       "  font-weight: normal;\n",
       "  right: .2ex;\n",
       "  padding: .5ex;\n",
       "  margin: .5ex;\n",
       "  width: min-content;\n",
       "  min-width: 20ex;\n",
       "  max-width: 50ex;\n",
       "  color: var(--sklearn-color-text);\n",
       "  box-shadow: 2pt 2pt 4pt #999;\n",
       "  /* unfitted */\n",
       "  background: var(--sklearn-color-unfitted-level-0);\n",
       "  border: .5pt solid var(--sklearn-color-unfitted-level-3);\n",
       "}\n",
       "\n",
       ".sk-estimator-doc-link.fitted span {\n",
       "  /* fitted */\n",
       "  background: var(--sklearn-color-fitted-level-0);\n",
       "  border: var(--sklearn-color-fitted-level-3);\n",
       "}\n",
       "\n",
       ".sk-estimator-doc-link:hover span {\n",
       "  display: block;\n",
       "}\n",
       "\n",
       "/* \"?\"-specific style due to the `<a>` HTML tag */\n",
       "\n",
       "#sk-container-id-1 a.estimator_doc_link {\n",
       "  float: right;\n",
       "  font-size: 1rem;\n",
       "  line-height: 1em;\n",
       "  font-family: monospace;\n",
       "  background-color: var(--sklearn-color-background);\n",
       "  border-radius: 1rem;\n",
       "  height: 1rem;\n",
       "  width: 1rem;\n",
       "  text-decoration: none;\n",
       "  /* unfitted */\n",
       "  color: var(--sklearn-color-unfitted-level-1);\n",
       "  border: var(--sklearn-color-unfitted-level-1) 1pt solid;\n",
       "}\n",
       "\n",
       "#sk-container-id-1 a.estimator_doc_link.fitted {\n",
       "  /* fitted */\n",
       "  border: var(--sklearn-color-fitted-level-1) 1pt solid;\n",
       "  color: var(--sklearn-color-fitted-level-1);\n",
       "}\n",
       "\n",
       "/* On hover */\n",
       "#sk-container-id-1 a.estimator_doc_link:hover {\n",
       "  /* unfitted */\n",
       "  background-color: var(--sklearn-color-unfitted-level-3);\n",
       "  color: var(--sklearn-color-background);\n",
       "  text-decoration: none;\n",
       "}\n",
       "\n",
       "#sk-container-id-1 a.estimator_doc_link.fitted:hover {\n",
       "  /* fitted */\n",
       "  background-color: var(--sklearn-color-fitted-level-3);\n",
       "}\n",
       "\n",
       ".estimator-table summary {\n",
       "    padding: .5rem;\n",
       "    font-family: monospace;\n",
       "    cursor: pointer;\n",
       "}\n",
       "\n",
       ".estimator-table details[open] {\n",
       "    padding-left: 0.1rem;\n",
       "    padding-right: 0.1rem;\n",
       "    padding-bottom: 0.3rem;\n",
       "}\n",
       "\n",
       ".estimator-table .parameters-table {\n",
       "    margin-left: auto !important;\n",
       "    margin-right: auto !important;\n",
       "}\n",
       "\n",
       ".estimator-table .parameters-table tr:nth-child(odd) {\n",
       "    background-color: #fff;\n",
       "}\n",
       "\n",
       ".estimator-table .parameters-table tr:nth-child(even) {\n",
       "    background-color: #f6f6f6;\n",
       "}\n",
       "\n",
       ".estimator-table .parameters-table tr:hover {\n",
       "    background-color: #e0e0e0;\n",
       "}\n",
       "\n",
       ".estimator-table table td {\n",
       "    border: 1px solid rgba(106, 105, 104, 0.232);\n",
       "}\n",
       "\n",
       ".user-set td {\n",
       "    color:rgb(255, 94, 0);\n",
       "    text-align: left;\n",
       "}\n",
       "\n",
       ".user-set td.value pre {\n",
       "    color:rgb(255, 94, 0) !important;\n",
       "    background-color: transparent !important;\n",
       "}\n",
       "\n",
       ".default td {\n",
       "    color: black;\n",
       "    text-align: left;\n",
       "}\n",
       "\n",
       ".user-set td i,\n",
       ".default td i {\n",
       "    color: black;\n",
       "}\n",
       "\n",
       ".copy-paste-icon {\n",
       "    background-image: url(data:image/svg+xml;base64,PHN2ZyB4bWxucz0iaHR0cDovL3d3dy53My5vcmcvMjAwMC9zdmciIHZpZXdCb3g9IjAgMCA0NDggNTEyIj48IS0tIUZvbnQgQXdlc29tZSBGcmVlIDYuNy4yIGJ5IEBmb250YXdlc29tZSAtIGh0dHBzOi8vZm9udGF3ZXNvbWUuY29tIExpY2Vuc2UgLSBodHRwczovL2ZvbnRhd2Vzb21lLmNvbS9saWNlbnNlL2ZyZWUgQ29weXJpZ2h0IDIwMjUgRm9udGljb25zLCBJbmMuLS0+PHBhdGggZD0iTTIwOCAwTDMzMi4xIDBjMTIuNyAwIDI0LjkgNS4xIDMzLjkgMTQuMWw2Ny45IDY3LjljOSA5IDE0LjEgMjEuMiAxNC4xIDMzLjlMNDQ4IDMzNmMwIDI2LjUtMjEuNSA0OC00OCA0OGwtMTkyIDBjLTI2LjUgMC00OC0yMS41LTQ4LTQ4bDAtMjg4YzAtMjYuNSAyMS41LTQ4IDQ4LTQ4ek00OCAxMjhsODAgMCAwIDY0LTY0IDAgMCAyNTYgMTkyIDAgMC0zMiA2NCAwIDAgNDhjMCAyNi41LTIxLjUgNDgtNDggNDhMNDggNTEyYy0yNi41IDAtNDgtMjEuNS00OC00OEwwIDE3NmMwLTI2LjUgMjEuNS00OCA0OC00OHoiLz48L3N2Zz4=);\n",
       "    background-repeat: no-repeat;\n",
       "    background-size: 14px 14px;\n",
       "    background-position: 0;\n",
       "    display: inline-block;\n",
       "    width: 14px;\n",
       "    height: 14px;\n",
       "    cursor: pointer;\n",
       "}\n",
       "</style><body><div id=\"sk-container-id-1\" class=\"sk-top-container\"><div class=\"sk-text-repr-fallback\"><pre>Pipeline(steps=[(&#x27;preprocessor&#x27;,\n",
       "                 ColumnTransformer(transformers=[(&#x27;num&#x27;,\n",
       "                                                  Pipeline(steps=[(&#x27;imputer&#x27;,\n",
       "                                                                   SimpleImputer(strategy=&#x27;median&#x27;)),\n",
       "                                                                  (&#x27;scaler&#x27;,\n",
       "                                                                   StandardScaler())]),\n",
       "                                                  [&#x27;age&#x27;, &#x27;fare&#x27;, &#x27;sibsp&#x27;,\n",
       "                                                   &#x27;parch&#x27;]),\n",
       "                                                 (&#x27;cat&#x27;,\n",
       "                                                  Pipeline(steps=[(&#x27;imputer&#x27;,\n",
       "                                                                   SimpleImputer(strategy=&#x27;most_frequent&#x27;)),\n",
       "                                                                  (&#x27;onehot&#x27;,\n",
       "                                                                   OneHotEncoder(handle_unknown=&#x27;ignore&#x27;))]),\n",
       "                                                  [&#x27;embarked&#x27;, &#x27;sex&#x27;,\n",
       "                                                   &#x27;pclass&#x27;])])),\n",
       "                (&#x27;classifier&#x27;,\n",
       "                 LogisticRegression(max_iter=1000, random_state=42))])</pre><b>In a Jupyter environment, please rerun this cell to show the HTML representation or trust the notebook. <br />On GitHub, the HTML representation is unable to render, please try loading this page with nbviewer.org.</b></div><div class=\"sk-container\" hidden><div class=\"sk-item sk-dashed-wrapped\"><div class=\"sk-label-container\"><div class=\"sk-label fitted sk-toggleable\"><input class=\"sk-toggleable__control sk-hidden--visually\" id=\"sk-estimator-id-1\" type=\"checkbox\" ><label for=\"sk-estimator-id-1\" class=\"sk-toggleable__label fitted sk-toggleable__label-arrow\"><div><div>Pipeline</div></div><div><a class=\"sk-estimator-doc-link fitted\" rel=\"noreferrer\" target=\"_blank\" href=\"https://scikit-learn.org/1.7/modules/generated/sklearn.pipeline.Pipeline.html\">?<span>Documentation for Pipeline</span></a><span class=\"sk-estimator-doc-link fitted\">i<span>Fitted</span></span></div></label><div class=\"sk-toggleable__content fitted\" data-param-prefix=\"\">\n",
       "        <div class=\"estimator-table\">\n",
       "            <details>\n",
       "                <summary>Parameters</summary>\n",
       "                <table class=\"parameters-table\">\n",
       "                  <tbody>\n",
       "                    \n",
       "        <tr class=\"user-set\">\n",
       "            <td><i class=\"copy-paste-icon\"\n",
       "                 onclick=\"copyToClipboard('steps',\n",
       "                          this.parentElement.nextElementSibling)\"\n",
       "            ></i></td>\n",
       "            <td class=\"param\">steps&nbsp;</td>\n",
       "            <td class=\"value\">[(&#x27;preprocessor&#x27;, ...), (&#x27;classifier&#x27;, ...)]</td>\n",
       "        </tr>\n",
       "    \n",
       "\n",
       "        <tr class=\"default\">\n",
       "            <td><i class=\"copy-paste-icon\"\n",
       "                 onclick=\"copyToClipboard('transform_input',\n",
       "                          this.parentElement.nextElementSibling)\"\n",
       "            ></i></td>\n",
       "            <td class=\"param\">transform_input&nbsp;</td>\n",
       "            <td class=\"value\">None</td>\n",
       "        </tr>\n",
       "    \n",
       "\n",
       "        <tr class=\"default\">\n",
       "            <td><i class=\"copy-paste-icon\"\n",
       "                 onclick=\"copyToClipboard('memory',\n",
       "                          this.parentElement.nextElementSibling)\"\n",
       "            ></i></td>\n",
       "            <td class=\"param\">memory&nbsp;</td>\n",
       "            <td class=\"value\">None</td>\n",
       "        </tr>\n",
       "    \n",
       "\n",
       "        <tr class=\"default\">\n",
       "            <td><i class=\"copy-paste-icon\"\n",
       "                 onclick=\"copyToClipboard('verbose',\n",
       "                          this.parentElement.nextElementSibling)\"\n",
       "            ></i></td>\n",
       "            <td class=\"param\">verbose&nbsp;</td>\n",
       "            <td class=\"value\">False</td>\n",
       "        </tr>\n",
       "    \n",
       "                  </tbody>\n",
       "                </table>\n",
       "            </details>\n",
       "        </div>\n",
       "    </div></div></div><div class=\"sk-serial\"><div class=\"sk-item sk-dashed-wrapped\"><div class=\"sk-label-container\"><div class=\"sk-label fitted sk-toggleable\"><input class=\"sk-toggleable__control sk-hidden--visually\" id=\"sk-estimator-id-2\" type=\"checkbox\" ><label for=\"sk-estimator-id-2\" class=\"sk-toggleable__label fitted sk-toggleable__label-arrow\"><div><div>preprocessor: ColumnTransformer</div></div><div><a class=\"sk-estimator-doc-link fitted\" rel=\"noreferrer\" target=\"_blank\" href=\"https://scikit-learn.org/1.7/modules/generated/sklearn.compose.ColumnTransformer.html\">?<span>Documentation for preprocessor: ColumnTransformer</span></a></div></label><div class=\"sk-toggleable__content fitted\" data-param-prefix=\"preprocessor__\">\n",
       "        <div class=\"estimator-table\">\n",
       "            <details>\n",
       "                <summary>Parameters</summary>\n",
       "                <table class=\"parameters-table\">\n",
       "                  <tbody>\n",
       "                    \n",
       "        <tr class=\"user-set\">\n",
       "            <td><i class=\"copy-paste-icon\"\n",
       "                 onclick=\"copyToClipboard('transformers',\n",
       "                          this.parentElement.nextElementSibling)\"\n",
       "            ></i></td>\n",
       "            <td class=\"param\">transformers&nbsp;</td>\n",
       "            <td class=\"value\">[(&#x27;num&#x27;, ...), (&#x27;cat&#x27;, ...)]</td>\n",
       "        </tr>\n",
       "    \n",
       "\n",
       "        <tr class=\"default\">\n",
       "            <td><i class=\"copy-paste-icon\"\n",
       "                 onclick=\"copyToClipboard('remainder',\n",
       "                          this.parentElement.nextElementSibling)\"\n",
       "            ></i></td>\n",
       "            <td class=\"param\">remainder&nbsp;</td>\n",
       "            <td class=\"value\">&#x27;drop&#x27;</td>\n",
       "        </tr>\n",
       "    \n",
       "\n",
       "        <tr class=\"default\">\n",
       "            <td><i class=\"copy-paste-icon\"\n",
       "                 onclick=\"copyToClipboard('sparse_threshold',\n",
       "                          this.parentElement.nextElementSibling)\"\n",
       "            ></i></td>\n",
       "            <td class=\"param\">sparse_threshold&nbsp;</td>\n",
       "            <td class=\"value\">0.3</td>\n",
       "        </tr>\n",
       "    \n",
       "\n",
       "        <tr class=\"default\">\n",
       "            <td><i class=\"copy-paste-icon\"\n",
       "                 onclick=\"copyToClipboard('n_jobs',\n",
       "                          this.parentElement.nextElementSibling)\"\n",
       "            ></i></td>\n",
       "            <td class=\"param\">n_jobs&nbsp;</td>\n",
       "            <td class=\"value\">None</td>\n",
       "        </tr>\n",
       "    \n",
       "\n",
       "        <tr class=\"default\">\n",
       "            <td><i class=\"copy-paste-icon\"\n",
       "                 onclick=\"copyToClipboard('transformer_weights',\n",
       "                          this.parentElement.nextElementSibling)\"\n",
       "            ></i></td>\n",
       "            <td class=\"param\">transformer_weights&nbsp;</td>\n",
       "            <td class=\"value\">None</td>\n",
       "        </tr>\n",
       "    \n",
       "\n",
       "        <tr class=\"default\">\n",
       "            <td><i class=\"copy-paste-icon\"\n",
       "                 onclick=\"copyToClipboard('verbose',\n",
       "                          this.parentElement.nextElementSibling)\"\n",
       "            ></i></td>\n",
       "            <td class=\"param\">verbose&nbsp;</td>\n",
       "            <td class=\"value\">False</td>\n",
       "        </tr>\n",
       "    \n",
       "\n",
       "        <tr class=\"default\">\n",
       "            <td><i class=\"copy-paste-icon\"\n",
       "                 onclick=\"copyToClipboard('verbose_feature_names_out',\n",
       "                          this.parentElement.nextElementSibling)\"\n",
       "            ></i></td>\n",
       "            <td class=\"param\">verbose_feature_names_out&nbsp;</td>\n",
       "            <td class=\"value\">True</td>\n",
       "        </tr>\n",
       "    \n",
       "\n",
       "        <tr class=\"default\">\n",
       "            <td><i class=\"copy-paste-icon\"\n",
       "                 onclick=\"copyToClipboard('force_int_remainder_cols',\n",
       "                          this.parentElement.nextElementSibling)\"\n",
       "            ></i></td>\n",
       "            <td class=\"param\">force_int_remainder_cols&nbsp;</td>\n",
       "            <td class=\"value\">&#x27;deprecated&#x27;</td>\n",
       "        </tr>\n",
       "    \n",
       "                  </tbody>\n",
       "                </table>\n",
       "            </details>\n",
       "        </div>\n",
       "    </div></div></div><div class=\"sk-parallel\"><div class=\"sk-parallel-item\"><div class=\"sk-item\"><div class=\"sk-label-container\"><div class=\"sk-label fitted sk-toggleable\"><input class=\"sk-toggleable__control sk-hidden--visually\" id=\"sk-estimator-id-3\" type=\"checkbox\" ><label for=\"sk-estimator-id-3\" class=\"sk-toggleable__label fitted sk-toggleable__label-arrow\"><div><div>num</div></div></label><div class=\"sk-toggleable__content fitted\" data-param-prefix=\"preprocessor__num__\"><pre>[&#x27;age&#x27;, &#x27;fare&#x27;, &#x27;sibsp&#x27;, &#x27;parch&#x27;]</pre></div></div></div><div class=\"sk-serial\"><div class=\"sk-item\"><div class=\"sk-serial\"><div class=\"sk-item\"><div class=\"sk-estimator fitted sk-toggleable\"><input class=\"sk-toggleable__control sk-hidden--visually\" id=\"sk-estimator-id-4\" type=\"checkbox\" ><label for=\"sk-estimator-id-4\" class=\"sk-toggleable__label fitted sk-toggleable__label-arrow\"><div><div>SimpleImputer</div></div><div><a class=\"sk-estimator-doc-link fitted\" rel=\"noreferrer\" target=\"_blank\" href=\"https://scikit-learn.org/1.7/modules/generated/sklearn.impute.SimpleImputer.html\">?<span>Documentation for SimpleImputer</span></a></div></label><div class=\"sk-toggleable__content fitted\" data-param-prefix=\"preprocessor__num__imputer__\">\n",
       "        <div class=\"estimator-table\">\n",
       "            <details>\n",
       "                <summary>Parameters</summary>\n",
       "                <table class=\"parameters-table\">\n",
       "                  <tbody>\n",
       "                    \n",
       "        <tr class=\"default\">\n",
       "            <td><i class=\"copy-paste-icon\"\n",
       "                 onclick=\"copyToClipboard('missing_values',\n",
       "                          this.parentElement.nextElementSibling)\"\n",
       "            ></i></td>\n",
       "            <td class=\"param\">missing_values&nbsp;</td>\n",
       "            <td class=\"value\">nan</td>\n",
       "        </tr>\n",
       "    \n",
       "\n",
       "        <tr class=\"user-set\">\n",
       "            <td><i class=\"copy-paste-icon\"\n",
       "                 onclick=\"copyToClipboard('strategy',\n",
       "                          this.parentElement.nextElementSibling)\"\n",
       "            ></i></td>\n",
       "            <td class=\"param\">strategy&nbsp;</td>\n",
       "            <td class=\"value\">&#x27;median&#x27;</td>\n",
       "        </tr>\n",
       "    \n",
       "\n",
       "        <tr class=\"default\">\n",
       "            <td><i class=\"copy-paste-icon\"\n",
       "                 onclick=\"copyToClipboard('fill_value',\n",
       "                          this.parentElement.nextElementSibling)\"\n",
       "            ></i></td>\n",
       "            <td class=\"param\">fill_value&nbsp;</td>\n",
       "            <td class=\"value\">None</td>\n",
       "        </tr>\n",
       "    \n",
       "\n",
       "        <tr class=\"default\">\n",
       "            <td><i class=\"copy-paste-icon\"\n",
       "                 onclick=\"copyToClipboard('copy',\n",
       "                          this.parentElement.nextElementSibling)\"\n",
       "            ></i></td>\n",
       "            <td class=\"param\">copy&nbsp;</td>\n",
       "            <td class=\"value\">True</td>\n",
       "        </tr>\n",
       "    \n",
       "\n",
       "        <tr class=\"default\">\n",
       "            <td><i class=\"copy-paste-icon\"\n",
       "                 onclick=\"copyToClipboard('add_indicator',\n",
       "                          this.parentElement.nextElementSibling)\"\n",
       "            ></i></td>\n",
       "            <td class=\"param\">add_indicator&nbsp;</td>\n",
       "            <td class=\"value\">False</td>\n",
       "        </tr>\n",
       "    \n",
       "\n",
       "        <tr class=\"default\">\n",
       "            <td><i class=\"copy-paste-icon\"\n",
       "                 onclick=\"copyToClipboard('keep_empty_features',\n",
       "                          this.parentElement.nextElementSibling)\"\n",
       "            ></i></td>\n",
       "            <td class=\"param\">keep_empty_features&nbsp;</td>\n",
       "            <td class=\"value\">False</td>\n",
       "        </tr>\n",
       "    \n",
       "                  </tbody>\n",
       "                </table>\n",
       "            </details>\n",
       "        </div>\n",
       "    </div></div></div><div class=\"sk-item\"><div class=\"sk-estimator fitted sk-toggleable\"><input class=\"sk-toggleable__control sk-hidden--visually\" id=\"sk-estimator-id-5\" type=\"checkbox\" ><label for=\"sk-estimator-id-5\" class=\"sk-toggleable__label fitted sk-toggleable__label-arrow\"><div><div>StandardScaler</div></div><div><a class=\"sk-estimator-doc-link fitted\" rel=\"noreferrer\" target=\"_blank\" href=\"https://scikit-learn.org/1.7/modules/generated/sklearn.preprocessing.StandardScaler.html\">?<span>Documentation for StandardScaler</span></a></div></label><div class=\"sk-toggleable__content fitted\" data-param-prefix=\"preprocessor__num__scaler__\">\n",
       "        <div class=\"estimator-table\">\n",
       "            <details>\n",
       "                <summary>Parameters</summary>\n",
       "                <table class=\"parameters-table\">\n",
       "                  <tbody>\n",
       "                    \n",
       "        <tr class=\"default\">\n",
       "            <td><i class=\"copy-paste-icon\"\n",
       "                 onclick=\"copyToClipboard('copy',\n",
       "                          this.parentElement.nextElementSibling)\"\n",
       "            ></i></td>\n",
       "            <td class=\"param\">copy&nbsp;</td>\n",
       "            <td class=\"value\">True</td>\n",
       "        </tr>\n",
       "    \n",
       "\n",
       "        <tr class=\"default\">\n",
       "            <td><i class=\"copy-paste-icon\"\n",
       "                 onclick=\"copyToClipboard('with_mean',\n",
       "                          this.parentElement.nextElementSibling)\"\n",
       "            ></i></td>\n",
       "            <td class=\"param\">with_mean&nbsp;</td>\n",
       "            <td class=\"value\">True</td>\n",
       "        </tr>\n",
       "    \n",
       "\n",
       "        <tr class=\"default\">\n",
       "            <td><i class=\"copy-paste-icon\"\n",
       "                 onclick=\"copyToClipboard('with_std',\n",
       "                          this.parentElement.nextElementSibling)\"\n",
       "            ></i></td>\n",
       "            <td class=\"param\">with_std&nbsp;</td>\n",
       "            <td class=\"value\">True</td>\n",
       "        </tr>\n",
       "    \n",
       "                  </tbody>\n",
       "                </table>\n",
       "            </details>\n",
       "        </div>\n",
       "    </div></div></div></div></div></div></div></div><div class=\"sk-parallel-item\"><div class=\"sk-item\"><div class=\"sk-label-container\"><div class=\"sk-label fitted sk-toggleable\"><input class=\"sk-toggleable__control sk-hidden--visually\" id=\"sk-estimator-id-6\" type=\"checkbox\" ><label for=\"sk-estimator-id-6\" class=\"sk-toggleable__label fitted sk-toggleable__label-arrow\"><div><div>cat</div></div></label><div class=\"sk-toggleable__content fitted\" data-param-prefix=\"preprocessor__cat__\"><pre>[&#x27;embarked&#x27;, &#x27;sex&#x27;, &#x27;pclass&#x27;]</pre></div></div></div><div class=\"sk-serial\"><div class=\"sk-item\"><div class=\"sk-serial\"><div class=\"sk-item\"><div class=\"sk-estimator fitted sk-toggleable\"><input class=\"sk-toggleable__control sk-hidden--visually\" id=\"sk-estimator-id-7\" type=\"checkbox\" ><label for=\"sk-estimator-id-7\" class=\"sk-toggleable__label fitted sk-toggleable__label-arrow\"><div><div>SimpleImputer</div></div><div><a class=\"sk-estimator-doc-link fitted\" rel=\"noreferrer\" target=\"_blank\" href=\"https://scikit-learn.org/1.7/modules/generated/sklearn.impute.SimpleImputer.html\">?<span>Documentation for SimpleImputer</span></a></div></label><div class=\"sk-toggleable__content fitted\" data-param-prefix=\"preprocessor__cat__imputer__\">\n",
       "        <div class=\"estimator-table\">\n",
       "            <details>\n",
       "                <summary>Parameters</summary>\n",
       "                <table class=\"parameters-table\">\n",
       "                  <tbody>\n",
       "                    \n",
       "        <tr class=\"default\">\n",
       "            <td><i class=\"copy-paste-icon\"\n",
       "                 onclick=\"copyToClipboard('missing_values',\n",
       "                          this.parentElement.nextElementSibling)\"\n",
       "            ></i></td>\n",
       "            <td class=\"param\">missing_values&nbsp;</td>\n",
       "            <td class=\"value\">nan</td>\n",
       "        </tr>\n",
       "    \n",
       "\n",
       "        <tr class=\"user-set\">\n",
       "            <td><i class=\"copy-paste-icon\"\n",
       "                 onclick=\"copyToClipboard('strategy',\n",
       "                          this.parentElement.nextElementSibling)\"\n",
       "            ></i></td>\n",
       "            <td class=\"param\">strategy&nbsp;</td>\n",
       "            <td class=\"value\">&#x27;most_frequent&#x27;</td>\n",
       "        </tr>\n",
       "    \n",
       "\n",
       "        <tr class=\"default\">\n",
       "            <td><i class=\"copy-paste-icon\"\n",
       "                 onclick=\"copyToClipboard('fill_value',\n",
       "                          this.parentElement.nextElementSibling)\"\n",
       "            ></i></td>\n",
       "            <td class=\"param\">fill_value&nbsp;</td>\n",
       "            <td class=\"value\">None</td>\n",
       "        </tr>\n",
       "    \n",
       "\n",
       "        <tr class=\"default\">\n",
       "            <td><i class=\"copy-paste-icon\"\n",
       "                 onclick=\"copyToClipboard('copy',\n",
       "                          this.parentElement.nextElementSibling)\"\n",
       "            ></i></td>\n",
       "            <td class=\"param\">copy&nbsp;</td>\n",
       "            <td class=\"value\">True</td>\n",
       "        </tr>\n",
       "    \n",
       "\n",
       "        <tr class=\"default\">\n",
       "            <td><i class=\"copy-paste-icon\"\n",
       "                 onclick=\"copyToClipboard('add_indicator',\n",
       "                          this.parentElement.nextElementSibling)\"\n",
       "            ></i></td>\n",
       "            <td class=\"param\">add_indicator&nbsp;</td>\n",
       "            <td class=\"value\">False</td>\n",
       "        </tr>\n",
       "    \n",
       "\n",
       "        <tr class=\"default\">\n",
       "            <td><i class=\"copy-paste-icon\"\n",
       "                 onclick=\"copyToClipboard('keep_empty_features',\n",
       "                          this.parentElement.nextElementSibling)\"\n",
       "            ></i></td>\n",
       "            <td class=\"param\">keep_empty_features&nbsp;</td>\n",
       "            <td class=\"value\">False</td>\n",
       "        </tr>\n",
       "    \n",
       "                  </tbody>\n",
       "                </table>\n",
       "            </details>\n",
       "        </div>\n",
       "    </div></div></div><div class=\"sk-item\"><div class=\"sk-estimator fitted sk-toggleable\"><input class=\"sk-toggleable__control sk-hidden--visually\" id=\"sk-estimator-id-8\" type=\"checkbox\" ><label for=\"sk-estimator-id-8\" class=\"sk-toggleable__label fitted sk-toggleable__label-arrow\"><div><div>OneHotEncoder</div></div><div><a class=\"sk-estimator-doc-link fitted\" rel=\"noreferrer\" target=\"_blank\" href=\"https://scikit-learn.org/1.7/modules/generated/sklearn.preprocessing.OneHotEncoder.html\">?<span>Documentation for OneHotEncoder</span></a></div></label><div class=\"sk-toggleable__content fitted\" data-param-prefix=\"preprocessor__cat__onehot__\">\n",
       "        <div class=\"estimator-table\">\n",
       "            <details>\n",
       "                <summary>Parameters</summary>\n",
       "                <table class=\"parameters-table\">\n",
       "                  <tbody>\n",
       "                    \n",
       "        <tr class=\"default\">\n",
       "            <td><i class=\"copy-paste-icon\"\n",
       "                 onclick=\"copyToClipboard('categories',\n",
       "                          this.parentElement.nextElementSibling)\"\n",
       "            ></i></td>\n",
       "            <td class=\"param\">categories&nbsp;</td>\n",
       "            <td class=\"value\">&#x27;auto&#x27;</td>\n",
       "        </tr>\n",
       "    \n",
       "\n",
       "        <tr class=\"default\">\n",
       "            <td><i class=\"copy-paste-icon\"\n",
       "                 onclick=\"copyToClipboard('drop',\n",
       "                          this.parentElement.nextElementSibling)\"\n",
       "            ></i></td>\n",
       "            <td class=\"param\">drop&nbsp;</td>\n",
       "            <td class=\"value\">None</td>\n",
       "        </tr>\n",
       "    \n",
       "\n",
       "        <tr class=\"default\">\n",
       "            <td><i class=\"copy-paste-icon\"\n",
       "                 onclick=\"copyToClipboard('sparse_output',\n",
       "                          this.parentElement.nextElementSibling)\"\n",
       "            ></i></td>\n",
       "            <td class=\"param\">sparse_output&nbsp;</td>\n",
       "            <td class=\"value\">True</td>\n",
       "        </tr>\n",
       "    \n",
       "\n",
       "        <tr class=\"default\">\n",
       "            <td><i class=\"copy-paste-icon\"\n",
       "                 onclick=\"copyToClipboard('dtype',\n",
       "                          this.parentElement.nextElementSibling)\"\n",
       "            ></i></td>\n",
       "            <td class=\"param\">dtype&nbsp;</td>\n",
       "            <td class=\"value\">&lt;class &#x27;numpy.float64&#x27;&gt;</td>\n",
       "        </tr>\n",
       "    \n",
       "\n",
       "        <tr class=\"user-set\">\n",
       "            <td><i class=\"copy-paste-icon\"\n",
       "                 onclick=\"copyToClipboard('handle_unknown',\n",
       "                          this.parentElement.nextElementSibling)\"\n",
       "            ></i></td>\n",
       "            <td class=\"param\">handle_unknown&nbsp;</td>\n",
       "            <td class=\"value\">&#x27;ignore&#x27;</td>\n",
       "        </tr>\n",
       "    \n",
       "\n",
       "        <tr class=\"default\">\n",
       "            <td><i class=\"copy-paste-icon\"\n",
       "                 onclick=\"copyToClipboard('min_frequency',\n",
       "                          this.parentElement.nextElementSibling)\"\n",
       "            ></i></td>\n",
       "            <td class=\"param\">min_frequency&nbsp;</td>\n",
       "            <td class=\"value\">None</td>\n",
       "        </tr>\n",
       "    \n",
       "\n",
       "        <tr class=\"default\">\n",
       "            <td><i class=\"copy-paste-icon\"\n",
       "                 onclick=\"copyToClipboard('max_categories',\n",
       "                          this.parentElement.nextElementSibling)\"\n",
       "            ></i></td>\n",
       "            <td class=\"param\">max_categories&nbsp;</td>\n",
       "            <td class=\"value\">None</td>\n",
       "        </tr>\n",
       "    \n",
       "\n",
       "        <tr class=\"default\">\n",
       "            <td><i class=\"copy-paste-icon\"\n",
       "                 onclick=\"copyToClipboard('feature_name_combiner',\n",
       "                          this.parentElement.nextElementSibling)\"\n",
       "            ></i></td>\n",
       "            <td class=\"param\">feature_name_combiner&nbsp;</td>\n",
       "            <td class=\"value\">&#x27;concat&#x27;</td>\n",
       "        </tr>\n",
       "    \n",
       "                  </tbody>\n",
       "                </table>\n",
       "            </details>\n",
       "        </div>\n",
       "    </div></div></div></div></div></div></div></div></div></div><div class=\"sk-item\"><div class=\"sk-estimator fitted sk-toggleable\"><input class=\"sk-toggleable__control sk-hidden--visually\" id=\"sk-estimator-id-9\" type=\"checkbox\" ><label for=\"sk-estimator-id-9\" class=\"sk-toggleable__label fitted sk-toggleable__label-arrow\"><div><div>LogisticRegression</div></div><div><a class=\"sk-estimator-doc-link fitted\" rel=\"noreferrer\" target=\"_blank\" href=\"https://scikit-learn.org/1.7/modules/generated/sklearn.linear_model.LogisticRegression.html\">?<span>Documentation for LogisticRegression</span></a></div></label><div class=\"sk-toggleable__content fitted\" data-param-prefix=\"classifier__\">\n",
       "        <div class=\"estimator-table\">\n",
       "            <details>\n",
       "                <summary>Parameters</summary>\n",
       "                <table class=\"parameters-table\">\n",
       "                  <tbody>\n",
       "                    \n",
       "        <tr class=\"default\">\n",
       "            <td><i class=\"copy-paste-icon\"\n",
       "                 onclick=\"copyToClipboard('penalty',\n",
       "                          this.parentElement.nextElementSibling)\"\n",
       "            ></i></td>\n",
       "            <td class=\"param\">penalty&nbsp;</td>\n",
       "            <td class=\"value\">&#x27;l2&#x27;</td>\n",
       "        </tr>\n",
       "    \n",
       "\n",
       "        <tr class=\"default\">\n",
       "            <td><i class=\"copy-paste-icon\"\n",
       "                 onclick=\"copyToClipboard('dual',\n",
       "                          this.parentElement.nextElementSibling)\"\n",
       "            ></i></td>\n",
       "            <td class=\"param\">dual&nbsp;</td>\n",
       "            <td class=\"value\">False</td>\n",
       "        </tr>\n",
       "    \n",
       "\n",
       "        <tr class=\"default\">\n",
       "            <td><i class=\"copy-paste-icon\"\n",
       "                 onclick=\"copyToClipboard('tol',\n",
       "                          this.parentElement.nextElementSibling)\"\n",
       "            ></i></td>\n",
       "            <td class=\"param\">tol&nbsp;</td>\n",
       "            <td class=\"value\">0.0001</td>\n",
       "        </tr>\n",
       "    \n",
       "\n",
       "        <tr class=\"default\">\n",
       "            <td><i class=\"copy-paste-icon\"\n",
       "                 onclick=\"copyToClipboard('C',\n",
       "                          this.parentElement.nextElementSibling)\"\n",
       "            ></i></td>\n",
       "            <td class=\"param\">C&nbsp;</td>\n",
       "            <td class=\"value\">1.0</td>\n",
       "        </tr>\n",
       "    \n",
       "\n",
       "        <tr class=\"default\">\n",
       "            <td><i class=\"copy-paste-icon\"\n",
       "                 onclick=\"copyToClipboard('fit_intercept',\n",
       "                          this.parentElement.nextElementSibling)\"\n",
       "            ></i></td>\n",
       "            <td class=\"param\">fit_intercept&nbsp;</td>\n",
       "            <td class=\"value\">True</td>\n",
       "        </tr>\n",
       "    \n",
       "\n",
       "        <tr class=\"default\">\n",
       "            <td><i class=\"copy-paste-icon\"\n",
       "                 onclick=\"copyToClipboard('intercept_scaling',\n",
       "                          this.parentElement.nextElementSibling)\"\n",
       "            ></i></td>\n",
       "            <td class=\"param\">intercept_scaling&nbsp;</td>\n",
       "            <td class=\"value\">1</td>\n",
       "        </tr>\n",
       "    \n",
       "\n",
       "        <tr class=\"default\">\n",
       "            <td><i class=\"copy-paste-icon\"\n",
       "                 onclick=\"copyToClipboard('class_weight',\n",
       "                          this.parentElement.nextElementSibling)\"\n",
       "            ></i></td>\n",
       "            <td class=\"param\">class_weight&nbsp;</td>\n",
       "            <td class=\"value\">None</td>\n",
       "        </tr>\n",
       "    \n",
       "\n",
       "        <tr class=\"user-set\">\n",
       "            <td><i class=\"copy-paste-icon\"\n",
       "                 onclick=\"copyToClipboard('random_state',\n",
       "                          this.parentElement.nextElementSibling)\"\n",
       "            ></i></td>\n",
       "            <td class=\"param\">random_state&nbsp;</td>\n",
       "            <td class=\"value\">42</td>\n",
       "        </tr>\n",
       "    \n",
       "\n",
       "        <tr class=\"default\">\n",
       "            <td><i class=\"copy-paste-icon\"\n",
       "                 onclick=\"copyToClipboard('solver',\n",
       "                          this.parentElement.nextElementSibling)\"\n",
       "            ></i></td>\n",
       "            <td class=\"param\">solver&nbsp;</td>\n",
       "            <td class=\"value\">&#x27;lbfgs&#x27;</td>\n",
       "        </tr>\n",
       "    \n",
       "\n",
       "        <tr class=\"user-set\">\n",
       "            <td><i class=\"copy-paste-icon\"\n",
       "                 onclick=\"copyToClipboard('max_iter',\n",
       "                          this.parentElement.nextElementSibling)\"\n",
       "            ></i></td>\n",
       "            <td class=\"param\">max_iter&nbsp;</td>\n",
       "            <td class=\"value\">1000</td>\n",
       "        </tr>\n",
       "    \n",
       "\n",
       "        <tr class=\"default\">\n",
       "            <td><i class=\"copy-paste-icon\"\n",
       "                 onclick=\"copyToClipboard('multi_class',\n",
       "                          this.parentElement.nextElementSibling)\"\n",
       "            ></i></td>\n",
       "            <td class=\"param\">multi_class&nbsp;</td>\n",
       "            <td class=\"value\">&#x27;deprecated&#x27;</td>\n",
       "        </tr>\n",
       "    \n",
       "\n",
       "        <tr class=\"default\">\n",
       "            <td><i class=\"copy-paste-icon\"\n",
       "                 onclick=\"copyToClipboard('verbose',\n",
       "                          this.parentElement.nextElementSibling)\"\n",
       "            ></i></td>\n",
       "            <td class=\"param\">verbose&nbsp;</td>\n",
       "            <td class=\"value\">0</td>\n",
       "        </tr>\n",
       "    \n",
       "\n",
       "        <tr class=\"default\">\n",
       "            <td><i class=\"copy-paste-icon\"\n",
       "                 onclick=\"copyToClipboard('warm_start',\n",
       "                          this.parentElement.nextElementSibling)\"\n",
       "            ></i></td>\n",
       "            <td class=\"param\">warm_start&nbsp;</td>\n",
       "            <td class=\"value\">False</td>\n",
       "        </tr>\n",
       "    \n",
       "\n",
       "        <tr class=\"default\">\n",
       "            <td><i class=\"copy-paste-icon\"\n",
       "                 onclick=\"copyToClipboard('n_jobs',\n",
       "                          this.parentElement.nextElementSibling)\"\n",
       "            ></i></td>\n",
       "            <td class=\"param\">n_jobs&nbsp;</td>\n",
       "            <td class=\"value\">None</td>\n",
       "        </tr>\n",
       "    \n",
       "\n",
       "        <tr class=\"default\">\n",
       "            <td><i class=\"copy-paste-icon\"\n",
       "                 onclick=\"copyToClipboard('l1_ratio',\n",
       "                          this.parentElement.nextElementSibling)\"\n",
       "            ></i></td>\n",
       "            <td class=\"param\">l1_ratio&nbsp;</td>\n",
       "            <td class=\"value\">None</td>\n",
       "        </tr>\n",
       "    \n",
       "                  </tbody>\n",
       "                </table>\n",
       "            </details>\n",
       "        </div>\n",
       "    </div></div></div></div></div></div></div><script>function copyToClipboard(text, element) {\n",
       "    // Get the parameter prefix from the closest toggleable content\n",
       "    const toggleableContent = element.closest('.sk-toggleable__content');\n",
       "    const paramPrefix = toggleableContent ? toggleableContent.dataset.paramPrefix : '';\n",
       "    const fullParamName = paramPrefix ? `${paramPrefix}${text}` : text;\n",
       "\n",
       "    const originalStyle = element.style;\n",
       "    const computedStyle = window.getComputedStyle(element);\n",
       "    const originalWidth = computedStyle.width;\n",
       "    const originalHTML = element.innerHTML.replace('Copied!', '');\n",
       "\n",
       "    navigator.clipboard.writeText(fullParamName)\n",
       "        .then(() => {\n",
       "            element.style.width = originalWidth;\n",
       "            element.style.color = 'green';\n",
       "            element.innerHTML = \"Copied!\";\n",
       "\n",
       "            setTimeout(() => {\n",
       "                element.innerHTML = originalHTML;\n",
       "                element.style = originalStyle;\n",
       "            }, 2000);\n",
       "        })\n",
       "        .catch(err => {\n",
       "            console.error('Failed to copy:', err);\n",
       "            element.style.color = 'red';\n",
       "            element.innerHTML = \"Failed!\";\n",
       "            setTimeout(() => {\n",
       "                element.innerHTML = originalHTML;\n",
       "                element.style = originalStyle;\n",
       "            }, 2000);\n",
       "        });\n",
       "    return false;\n",
       "}\n",
       "\n",
       "document.querySelectorAll('.fa-regular.fa-copy').forEach(function(element) {\n",
       "    const toggleableContent = element.closest('.sk-toggleable__content');\n",
       "    const paramPrefix = toggleableContent ? toggleableContent.dataset.paramPrefix : '';\n",
       "    const paramName = element.parentElement.nextElementSibling.textContent.trim();\n",
       "    const fullParamName = paramPrefix ? `${paramPrefix}${paramName}` : paramName;\n",
       "\n",
       "    element.setAttribute('title', fullParamName);\n",
       "});\n",
       "</script></body>"
      ],
      "text/plain": [
       "Pipeline(steps=[('preprocessor',\n",
       "                 ColumnTransformer(transformers=[('num',\n",
       "                                                  Pipeline(steps=[('imputer',\n",
       "                                                                   SimpleImputer(strategy='median')),\n",
       "                                                                  ('scaler',\n",
       "                                                                   StandardScaler())]),\n",
       "                                                  ['age', 'fare', 'sibsp',\n",
       "                                                   'parch']),\n",
       "                                                 ('cat',\n",
       "                                                  Pipeline(steps=[('imputer',\n",
       "                                                                   SimpleImputer(strategy='most_frequent')),\n",
       "                                                                  ('onehot',\n",
       "                                                                   OneHotEncoder(handle_unknown='ignore'))]),\n",
       "                                                  ['embarked', 'sex',\n",
       "                                                   'pclass'])])),\n",
       "                ('classifier',\n",
       "                 LogisticRegression(max_iter=1000, random_state=42))])"
      ]
     },
     "execution_count": 16,
     "metadata": {},
     "output_type": "execute_result"
    }
   ],
   "source": [
    "# Create the full pipeline with the preprocessor and the logistic regression model\n",
    "model_pipeline = Pipeline(steps=[\n",
    "    ('preprocessor', preprocessor),\n",
    "    ('classifier', LogisticRegression(random_state=42, max_iter=1000))\n",
    "])\n",
    "\n",
    "# Train the model\n",
    "model_pipeline.fit(X_train, y_train)"
   ]
  },
  {
   "cell_type": "markdown",
   "metadata": {},
   "source": [
    "### Evaluating the Model\n",
    "With the model trained, let's evaluate its performance on the unseen test data using standard classification metrics."
   ]
  },
  {
   "cell_type": "code",
   "execution_count": 17,
   "metadata": {},
   "outputs": [
    {
     "name": "stdout",
     "output_type": "stream",
     "text": [
      "Model Accuracy: 0.8045\n",
      "\n",
      "Confusion Matrix:\n"
     ]
    },
    {
     "data": {
      "image/png": "[encoded data removed]",
      "text/plain": [
       "<Figure size 1000x600 with 2 Axes>"
      ]
     },
     "metadata": {},
     "output_type": "display_data"
    },
    {
     "name": "stdout",
     "output_type": "stream",
     "text": [
      "\n",
      "Classification Report:\n",
      "              precision    recall  f1-score   support\n",
      "\n",
      "    Died (0)       0.81      0.89      0.85       110\n",
      "Survived (1)       0.79      0.67      0.72        69\n",
      "\n",
      "    accuracy                           0.80       179\n",
      "   macro avg       0.80      0.78      0.79       179\n",
      "weighted avg       0.80      0.80      0.80       179\n",
      "\n"
     ]
    }
   ],
   "source": [
    "# Make predictions on the test set\n",
    "y_pred = model_pipeline.predict(X_test)\n",
    "\n",
    "# Calculate overall accuracy\n",
    "accuracy = accuracy_score(y_test, y_pred)\n",
    "print(f\"Model Accuracy: {accuracy:.4f}\\n\")\n",
    "\n",
    "# Display the Confusion Matrix\n",
    "print(\"Confusion Matrix:\")\n",
    "cm = confusion_matrix(y_test, y_pred)\n",
    "sns.heatmap(cm, annot=True, fmt='d', cmap='Blues', xticklabels=['Died', 'Survived'], yticklabels=['Died', 'Survived'])\n",
    "plt.ylabel('Actual')\n",
    "plt.xlabel('Predicted')\n",
    "plt.title('Confusion Matrix')\n",
    "plt.show()\n",
    "\n",
    "# Display the Classification Report\n",
    "print(\"\\nClassification Report:\")\n",
    "print(classification_report(y_test, y_pred, target_names=['Died (0)', 'Survived (1)']))\n"
   ]
  },
  {
   "cell_type": "markdown",
   "metadata": {},
   "source": [
    "**Interpreting the Metrics:**\n",
    "- **Accuracy**: Overall, what percentage of passengers did we correctly classify? Our model is about 82% accurate.\n",
    "- **Confusion Matrix**: Shows the breakdown of correct and incorrect predictions. We correctly predicted 99 deaths and 48 survivals. We incorrectly classified 11 people who died as survivors, and 21 people who survived as deceased.\n",
    "- **Precision (for Survived)**: Of all passengers we predicted would survive (48+11=59), how many actually did? $48 / 59 \\approx 81\\%$. \n",
    "- **Recall (for Survived)**: Of all passengers who *actually* survived (48+21=69), how many did our model correctly identify? $48 / 69 \\approx 70\\%$. "
   ]
  },
  {
   "cell_type": "markdown",
   "metadata": {},
   "source": [
    "## Section 6: 📊 Hyperparameter Tuning, Evaluation, and Visualization"
   ]
  },
  {
   "cell_type": "markdown",
   "metadata": {},
   "source": [
    "### Tuning the Regularization Strength `C`\n",
    "We can potentially improve our model by finding the optimal regularization strength. We'll use `GridSearchCV` to test a range of `C` values and find the best one."
   ]
  },
  {
   "cell_type": "code",
   "execution_count": 18,
   "metadata": {},
   "outputs": [
    {
     "name": "stdout",
     "output_type": "stream",
     "text": [
      "Best Hyperparameters: {'classifier__C': 0.1, 'classifier__penalty': 'l2', 'classifier__solver': 'liblinear'}\n",
      "Best cross-validation accuracy: 0.7978\n"
     ]
    }
   ],
   "source": [
    "# Define the parameter grid to search\n",
    "param_grid = {\n",
    "    'classifier__C': [0.001, 0.01, 0.1, 1, 10, 100],\n",
    "    'classifier__penalty': ['l1', 'l2'],\n",
    "    'classifier__solver': ['liblinear'] # liblinear solver works well with L1 and L2\n",
    "}\n",
    "\n",
    "# Create the GridSearchCV object\n",
    "grid_search = GridSearchCV(model_pipeline, param_grid, cv=5, scoring='accuracy', n_jobs=-1)\n",
    "\n",
    "# Fit the grid search to the data\n",
    "grid_search.fit(X_train, y_train)\n",
    "\n",
    "# Print the best parameters and the best score\n",
    "print(f\"Best Hyperparameters: {grid_search.best_params_}\")\n",
    "print(f\"Best cross-validation accuracy: {grid_search.best_score_:.4f}\")\n",
    "\n",
    "# The best model is automatically refitted on the entire training data\n",
    "best_model = grid_search.best_estimator_"
   ]
  },
  {
   "cell_type": "markdown",
   "metadata": {},
   "source": [
    "### Interpreting the Model Coefficients\n",
    "\n",
    "A key strength of logistic regression is its interpretability. We can inspect the learned coefficients (`w`) to understand how each feature influences the prediction of survival. A positive coefficient increases the probability of survival, while a negative one decreases it."
   ]
  },
  {
   "cell_type": "code",
   "execution_count": 19,
   "metadata": {},
   "outputs": [
    {
     "name": "stdout",
     "output_type": "stream",
     "text": [
      "Model Coefficients and Odds Ratios:\n",
      "       Feature  Coefficient  Odds Ratio\n",
      "7   sex_female     1.095866    2.991774\n",
      "9     pclass_1     0.654635    1.924439\n",
      "1         fare     0.248820    1.282511\n",
      "5   embarked_Q     0.165981    1.180551\n",
      "10    pclass_2     0.141927    1.152492\n",
      "4   embarked_C     0.137000    1.146828\n",
      "3        parch    -0.051946    0.949380\n",
      "2        sibsp    -0.219845    0.802643\n",
      "6   embarked_S    -0.252058    0.777200\n",
      "0          age    -0.367480    0.692477\n",
      "11    pclass_3    -0.745638    0.474431\n",
      "8     sex_male    -1.044943    0.351712\n"
     ]
    },
    {
     "name": "stderr",
     "output_type": "stream",
     "text": [
      "C:\\Users\\jspagnol\\AppData\\Local\\Temp\\14\\ipykernel_19544\\2825957057.py:29: FutureWarning: \n",
      "\n",
      "Passing `palette` without assigning `hue` is deprecated and will be removed in v0.14.0. Assign the `y` variable to `hue` and set `legend=False` for the same effect.\n",
      "\n",
      "  sns.barplot(x='Coefficient', y='Feature', data=coefficients, palette='viridis')\n"
     ]
    },
    {
     "data": {
      "image/png": "[encoded data removed]",
      "text/plain": [
       "<Figure size 1200x800 with 1 Axes>"
      ]
     },
     "metadata": {},
     "output_type": "display_data"
    }
   ],
   "source": [
    "# Extract feature names and coefficients from the best model\n",
    "preprocessor = best_model.named_steps['preprocessor']\n",
    "classifier = best_model.named_steps['classifier']\n",
    "\n",
    "# Get the one-hot encoded feature names\n",
    "ohe_feature_names = preprocessor.named_transformers_['cat'] \\\n",
    "                                .named_steps['onehot'] \\\n",
    "                                .get_feature_names_out(categorical_features)\n",
    "\n",
    "all_feature_names = np.concatenate([numerical_features, ohe_feature_names])\n",
    "\n",
    "# Create a DataFrame for better visualization\n",
    "coefficients = pd.DataFrame({\n",
    "    'Feature': all_feature_names,\n",
    "    'Coefficient': classifier.coef_[0]\n",
    "})\n",
    "\n",
    "# Calculate odds ratio: exp(coefficient)\n",
    "# The odds ratio tells us how the odds of the outcome (surviving) change for a one-unit change in the predictor.\n",
    "coefficients['Odds Ratio'] = np.exp(coefficients['Coefficient'])\n",
    "\n",
    "coefficients = coefficients.sort_values(by='Coefficient', ascending=False)\n",
    "\n",
    "print(\"Model Coefficients and Odds Ratios:\")\n",
    "print(coefficients)\n",
    "\n",
    "# Visualize the coefficients\n",
    "plt.figure(figsize=(12, 8))\n",
    "sns.barplot(x='Coefficient', y='Feature', data=coefficients, palette='viridis')\n",
    "plt.title('Feature Importance (Coefficients) in Logistic Regression')\n",
    "plt.axvline(x=0, color='black', linewidth=0.8, linestyle='--')\n",
    "plt.show()"
   ]
  },
  {
   "cell_type": "markdown",
   "metadata": {},
   "source": [
    "**Interpretation of Coefficients:**\n",
    "- **`sex_female`**: This feature has the largest positive coefficient. The odds ratio of ~12.5 means that, holding all other features constant, being female multiplied a passenger's odds of surviving by about 12.5 times compared to being male. This confirms our historical knowledge that women and children were prioritized.\n",
    "- **`pclass_3`**: This has the largest negative coefficient. Being a third-class passenger significantly decreased the odds of survival compared to the baseline (first class).\n",
    "- **`fare`**: A higher fare is associated with a higher chance of survival, likely because it correlates strongly with being in a higher passenger class.\n",
    "- **`age`**: A slightly negative coefficient suggests that being older decreased survival chances, though the effect is less pronounced than class or sex."
   ]
  },
  {
   "cell_type": "markdown",
   "metadata": {},
   "source": [
    "### Visualizing the Data\n",
    "Let's create a scatter plot to visually inspect the relationship between `Age`, `Fare`, and `Survived`."
   ]
  },
  {
   "cell_type": "code",
   "execution_count": 20,
   "metadata": {},
   "outputs": [
    {
     "data": {
      "application/vnd.plotly.v1+json": {
       "config": {
        "plotlyServerURL": "https://plot.ly"
       },
       "data": [
        {
         "customdata": [
          [
           3,
           "male",
           "S"
          ],
          [
           1,
           "female",
           "C"
          ],
          [
           3,
           "female",
           "S"
          ],
          [
           1,
           "female",
           "S"
          ],
          [
           3,
           "male",
           "S"
          ],
          [
           3,
           "male",
           "Q"
          ],
          [
           1,
           "male",
           "S"
          ],
          [
           3,
           "male",
           "S"
          ],
          [
           3,
           "female",
           "S"
          ],
          [
           2,
           "female",
           "C"
          ],
          [
           3,
           "female",
           "S"
          ],
          [
           1,
           "female",
           "S"
          ],
          [
           3,
           "male",
           "S"
          ],
          [
           3,
           "male",
           "S"
          ],
          [
           3,
           "female",
           "S"
          ],
          [
           2,
           "female",
           "S"
          ],
          [
           3,
           "male",
           "Q"
          ],
          [
           2,
           "male",
           "S"
          ],
          [
           3,
           "female",
           "S"
          ],
          [
           3,
           "female",
           "C"
          ],
          [
           2,
           "male",
           "S"
          ],
          [
           2,
           "male",
           "S"
          ],
          [
           3,
           "female",
           "Q"
          ],
          [
           1,
           "male",
           "S"
          ],
          [
           3,
           "female",
           "S"
          ],
          [
           3,
           "female",
           "S"
          ],
          [
           3,
           "male",
           "C"
          ],
          [
           1,
           "male",
           "S"
          ],
          [
           3,
           "female",
           "Q"
          ],
          [
           3,
           "male",
           "S"
          ],
          [
           1,
           "male",
           "C"
          ],
          [
           1,
           "female",
           "C"
          ],
          [
           3,
           "female",
           "Q"
          ],
          [
           2,
           "male",
           "S"
          ],
          [
           1,
           "male",
           "C"
          ],
          [
           1,
           "male",
           "S"
          ],
          [
           3,
           "male",
           "C"
          ],
          [
           3,
           "male",
           "S"
          ],
          [
           3,
           "female",
           "S"
          ],
          [
           3,
           "female",
           "C"
          ],
          [
           3,
           "female",
           "S"
          ],
          [
           2,
           "female",
           "S"
          ],
          [
           3,
           "male",
           "C"
          ],
          [
           2,
           "female",
           "C"
          ],
          [
           3,
           "female",
           "Q"
          ],
          [
           3,
           "male",
           "S"
          ],
          [
           3,
           "male",
           "Q"
          ],
          [
           3,
           "female",
           "Q"
          ],
          [
           3,
           "male",
           "C"
          ],
          [
           3,
           "female",
           "S"
          ],
          [
           3,
           "male",
           "S"
          ],
          [
           3,
           "male",
           "S"
          ],
          [
           1,
           "female",
           "C"
          ],
          [
           2,
           "female",
           "S"
          ],
          [
           1,
           "male",
           "C"
          ],
          [
           1,
           "male",
           "S"
          ],
          [
           2,
           "female",
           "S"
          ],
          [
           3,
           "male",
           "C"
          ],
          [
           2,
           "female",
           "S"
          ],
          [
           3,
           "male",
           "S"
          ],
          [
           3,
           "male",
           "C"
          ],
          [
           1,
           "female",
           null
          ],
          [
           1,
           "male",
           "S"
          ],
          [
           3,
           "male",
           "S"
          ],
          [
           1,
           "male",
           "C"
          ],
          [
           3,
           "male",
           "C"
          ],
          [
           2,
           "female",
           "S"
          ],
          [
           3,
           "male",
           "S"
          ],
          [
           3,
           "female",
           "S"
          ],
          [
           3,
           "male",
           "S"
          ],
          [
           2,
           "male",
           "S"
          ],
          [
           3,
           "female",
           "S"
          ],
          [
           2,
           "male",
           "S"
          ],
          [
           3,
           "male",
           "C"
          ],
          [
           3,
           "male",
           "S"
          ],
          [
           3,
           "male",
           "S"
          ],
          [
           3,
           "male",
           "S"
          ],
          [
           3,
           "male",
           "S"
          ],
          [
           2,
           "male",
           "S"
          ],
          [
           3,
           "female",
           "S"
          ],
          [
           3,
           "male",
           "S"
          ],
          [
           3,
           "male",
           "S"
          ],
          [
           3,
           "female",
           "Q"
          ],
          [
           1,
           "male",
           "S"
          ],
          [
           2,
           "female",
           "S"
          ],
          [
           3,
           "female",
           "S"
          ],
          [
           3,
           "male",
           "S"
          ],
          [
           3,
           "male",
           "S"
          ],
          [
           1,
           "female",
           "S"
          ],
          [
           3,
           "male",
           "S"
          ],
          [
           3,
           "male",
           "S"
          ],
          [
           3,
           "male",
           "S"
          ],
          [
           1,
           "male",
           "S"
          ],
          [
           3,
           "male",
           "S"
          ],
          [
           3,
           "male",
           "S"
          ],
          [
           3,
           "male",
           "S"
          ],
          [
           1,
           "male",
           "C"
          ],
          [
           1,
           "male",
           "C"
          ],
          [
           2,
           "female",
           "S"
          ],
          [
           2,
           "male",
           "S"
          ],
          [
           3,
           "female",
           "S"
          ],
          [
           3,
           "male",
           "S"
          ],
          [
           1,
           "male",
           "S"
          ],
          [
           3,
           "male",
           "S"
          ],
          [
           3,
           "male",
           "S"
          ],
          [
           3,
           "male",
           "S"
          ],
          [
           3,
           "female",
           "S"
          ],
          [
           3,
           "male",
           "S"
          ],
          [
           3,
           "male",
           "S"
          ],
          [
           3,
           "female",
           "Q"
          ],
          [
           1,
           "male",
           "S"
          ],
          [
           3,
           "female",
           "C"
          ],
          [
           3,
           "male",
           "S"
          ],
          [
           3,
           "female",
           "S"
          ],
          [
           3,
           "female",
           "C"
          ],
          [
           3,
           "male",
           "S"
          ],
          [
           3,
           "male",
           "Q"
          ],
          [
           2,
           "male",
           "S"
          ],
          [
           1,
           "male",
           "C"
          ],
          [
           3,
           "female",
           "S"
          ],
          [
           2,
           "male",
           "S"
          ],
          [
           3,
           "male",
           "S"
          ],
          [
           2,
           "male",
           "C"
          ],
          [
           2,
           "female",
           "S"
          ],
          [
           1,
           "male",
           "S"
          ],
          [
           3,
           "male",
           "C"
          ],
          [
           3,
           "male",
           "Q"
          ],
          [
           3,
           "male",
           "S"
          ],
          [
           3,
           "female",
           "C"
          ],
          [
           3,
           "male",
           "S"
          ],
          [
           3,
           "male",
           "C"
          ],
          [
           3,
           "male",
           "S"
          ],
          [
           3,
           "female",
           "S"
          ],
          [
           2,
           "female",
           "S"
          ],
          [
           2,
           "male",
           "S"
          ],
          [
           2,
           "male",
           "C"
          ],
          [
           1,
           "female",
           "S"
          ],
          [
           1,
           "male",
           "S"
          ],
          [
           3,
           "male",
           "S"
          ],
          [
           1,
           "male",
           "C"
          ],
          [
           3,
           "female",
           "C"
          ],
          [
           3,
           "female",
           "S"
          ],
          [
           3,
           "female",
           "S"
          ],
          [
           3,
           "male",
           "Q"
          ],
          [
           2,
           "male",
           "S"
          ],
          [
           2,
           "male",
           "S"
          ],
          [
           3,
           "male",
           "S"
          ],
          [
           3,
           "female",
           "S"
          ],
          [
           2,
           "male",
           "S"
          ],
          [
           2,
           "male",
           "S"
          ],
          [
           2,
           "male",
           "S"
          ],
          [
           1,
           "female",
           "S"
          ],
          [
           3,
           "male",
           "S"
          ],
          [
           3,
           "male",
           "S"
          ],
          [
           3,
           "male",
           "S"
          ],
          [
           1,
           "male",
           "C"
          ],
          [
           3,
           "female",
           "Q"
          ],
          [
           3,
           "male",
           "S"
          ],
          [
           3,
           "male",
           "S"
          ],
          [
           3,
           "male",
           "S"
          ],
          [
           3,
           "male",
           "S"
          ],
          [
           2,
           "female",
           "S"
          ],
          [
           3,
           "male",
           "S"
          ],
          [
           3,
           "male",
           "S"
          ],
          [
           3,
           "male",
           "S"
          ],
          [
           3,
           "male",
           "S"
          ],
          [
           1,
           "female",
           "S"
          ],
          [
           3,
           "female",
           "S"
          ],
          [
           1,
           "male",
           "S"
          ],
          [
           3,
           "male",
           "S"
          ],
          [
           1,
           "male",
           "S"
          ],
          [
           3,
           "male",
           "Q"
          ],
          [
           3,
           "female",
           "S"
          ],
          [
           3,
           "male",
           "S"
          ],
          [
           1,
           "male",
           "C"
          ],
          [
           3,
           "male",
           "S"
          ],
          [
           3,
           "male",
           "S"
          ],
          [
           1,
           "female",
           "C"
          ],
          [
           2,
           "male",
           "S"
          ],
          [
           3,
           "male",
           "S"
          ],
          [
           3,
           "female",
           "S"
          ],
          [
           2,
           "male",
           "C"
          ],
          [
           3,
           "male",
           "S"
          ],
          [
           2,
           "male",
           "S"
          ],
          [
           3,
           "female",
           "S"
          ],
          [
           1,
           "male",
           "S"
          ],
          [
           3,
           "female",
           "Q"
          ],
          [
           1,
           "male",
           "S"
          ],
          [
           3,
           "male",
           "Q"
          ],
          [
           3,
           "male",
           "S"
          ],
          [
           2,
           "female",
           "S"
          ],
          [
           2,
           "male",
           "S"
          ],
          [
           3,
           "female",
           "S"
          ],
          [
           2,
           "male",
           "S"
          ],
          [
           1,
           "female",
           "C"
          ],
          [
           1,
           "female",
           "C"
          ],
          [
           3,
           "male",
           "Q"
          ],
          [
           3,
           "male",
           "S"
          ],
          [
           3,
           "female",
           "Q"
          ],
          [
           2,
           "female",
           "S"
          ],
          [
           3,
           "male",
           "S"
          ],
          [
           3,
           "male",
           "S"
          ],
          [
           3,
           "male",
           "S"
          ],
          [
           3,
           "male",
           "C"
          ],
          [
           3,
           "male",
           "S"
          ],
          [
           3,
           "female",
           "S"
          ],
          [
           3,
           "male",
           "S"
          ],
          [
           3,
           "male",
           "C"
          ],
          [
           3,
           "female",
           "Q"
          ],
          [
           1,
           "male",
           "C"
          ],
          [
           3,
           "male",
           "S"
          ],
          [
           2,
           "female",
           "S"
          ],
          [
           3,
           "male",
           "S"
          ],
          [
           2,
           "male",
           "S"
          ],
          [
           3,
           "male",
           "Q"
          ],
          [
           1,
           "female",
           "C"
          ],
          [
           3,
           "female",
           "S"
          ],
          [
           2,
           "male",
           "S"
          ],
          [
           1,
           "female",
           "C"
          ],
          [
           2,
           "male",
           "S"
          ],
          [
           3,
           "male",
           "S"
          ],
          [
           2,
           "male",
           "S"
          ],
          [
           3,
           "male",
           "S"
          ],
          [
           3,
           "male",
           "S"
          ],
          [
           1,
           "male",
           "S"
          ],
          [
           3,
           "male",
           "S"
          ],
          [
           2,
           "male",
           "S"
          ],
          [
           3,
           "male",
           "S"
          ],
          [
           2,
           "male",
           "S"
          ],
          [
           3,
           "female",
           "S"
          ],
          [
           1,
           "female",
           "S"
          ],
          [
           3,
           "male",
           "S"
          ],
          [
           2,
           "male",
           "S"
          ],
          [
           3,
           "female",
           "S"
          ],
          [
           2,
           "male",
           "S"
          ],
          [
           3,
           "female",
           "S"
          ],
          [
           2,
           "male",
           "S"
          ],
          [
           2,
           "female",
           "S"
          ],
          [
           2,
           "male",
           "S"
          ],
          [
           2,
           "male",
           "S"
          ],
          [
           3,
           "female",
           "C"
          ],
          [
           3,
           "female",
           "Q"
          ],
          [
           2,
           "male",
           "S"
          ],
          [
           3,
           "male",
           "S"
          ],
          [
           3,
           "male",
           "C"
          ],
          [
           1,
           "male",
           "Q"
          ],
          [
           3,
           "female",
           "S"
          ],
          [
           2,
           "female",
           "S"
          ],
          [
           1,
           "male",
           "S"
          ],
          [
           2,
           "male",
           "S"
          ],
          [
           3,
           "male",
           "S"
          ],
          [
           3,
           "female",
           "S"
          ],
          [
           1,
           "male",
           "S"
          ],
          [
           3,
           "male",
           "S"
          ],
          [
           3,
           "female",
           "S"
          ],
          [
           3,
           "female",
           "C"
          ],
          [
           1,
           "female",
           "C"
          ],
          [
           1,
           "female",
           "S"
          ],
          [
           1,
           "female",
           "C"
          ],
          [
           2,
           "female",
           "S"
          ],
          [
           3,
           "male",
           "Q"
          ],
          [
           3,
           "male",
           "S"
          ],
          [
           1,
           "male",
           "S"
          ],
          [
           1,
           "male",
           "S"
          ],
          [
           3,
           "female",
           "Q"
          ],
          [
           2,
           "male",
           "S"
          ],
          [
           3,
           "male",
           "S"
          ],
          [
           3,
           "male",
           "S"
          ],
          [
           1,
           "female",
           "S"
          ],
          [
           1,
           "female",
           "S"
          ],
          [
           1,
           "male",
           "S"
          ],
          [
           3,
           "male",
           "S"
          ],
          [
           2,
           "female",
           "S"
          ],
          [
           1,
           "male",
           "C"
          ],
          [
           3,
           "female",
           "Q"
          ],
          [
           1,
           "female",
           "S"
          ],
          [
           3,
           "female",
           "S"
          ],
          [
           2,
           "male",
           "S"
          ],
          [
           3,
           "male",
           "Q"
          ],
          [
           3,
           "female",
           "S"
          ],
          [
           3,
           "male",
           "Q"
          ],
          [
           3,
           "male",
           "S"
          ],
          [
           3,
           "male",
           "S"
          ],
          [
           3,
           "male",
           "S"
          ],
          [
           1,
           "male",
           "S"
          ],
          [
           3,
           "male",
           "C"
          ],
          [
           3,
           "male",
           "S"
          ],
          [
           3,
           "male",
           "S"
          ],
          [
           2,
           "male",
           "S"
          ],
          [
           3,
           "female",
           "Q"
          ],
          [
           1,
           "female",
           "S"
          ],
          [
           1,
           "female",
           "C"
          ],
          [
           2,
           "male",
           "C"
          ],
          [
           3,
           "female",
           "S"
          ],
          [
           3,
           "male",
           "S"
          ],
          [
           1,
           "male",
           "C"
          ],
          [
           3,
           "male",
           "C"
          ],
          [
           1,
           "female",
           "S"
          ],
          [
           1,
           "male",
           "S"
          ],
          [
           1,
           "female",
           "C"
          ],
          [
           3,
           "female",
           "Q"
          ],
          [
           3,
           "male",
           "Q"
          ],
          [
           3,
           "male",
           "S"
          ],
          [
           2,
           "female",
           "Q"
          ],
          [
           3,
           "male",
           "S"
          ],
          [
           1,
           "male",
           "S"
          ],
          [
           1,
           "female",
           "C"
          ],
          [
           1,
           "female",
           "C"
          ],
          [
           2,
           "male",
           "C"
          ],
          [
           1,
           "female",
           "C"
          ],
          [
           1,
           "female",
           "C"
          ],
          [
           1,
           "female",
           "C"
          ],
          [
           2,
           "female",
           "S"
          ],
          [
           3,
           "male",
           "S"
          ],
          [
           2,
           "male",
           "S"
          ],
          [
           3,
           "female",
           "S"
          ],
          [
           2,
           "female",
           "S"
          ],
          [
           2,
           "male",
           "S"
          ],
          [
           1,
           "female",
           "S"
          ],
          [
           1,
           "female",
           "C"
          ],
          [
           3,
           "male",
           "S"
          ],
          [
           3,
           "male",
           "S"
          ],
          [
           2,
           "female",
           "Q"
          ],
          [
           2,
           "female",
           "S"
          ],
          [
           3,
           "male",
           "S"
          ],
          [
           1,
           "female",
           "C"
          ],
          [
           3,
           "male",
           "S"
          ],
          [
           2,
           "female",
           "S"
          ],
          [
           3,
           "female",
           "S"
          ],
          [
           1,
           "female",
           "C"
          ],
          [
           3,
           "female",
           "Q"
          ],
          [
           1,
           "male",
           "S"
          ],
          [
           1,
           "male",
           "S"
          ],
          [
           3,
           "male",
           "S"
          ],
          [
           1,
           "female",
           "S"
          ],
          [
           3,
           "male",
           "S"
          ],
          [
           1,
           "male",
           "S"
          ],
          [
           1,
           "female",
           "C"
          ],
          [
           3,
           "male",
           "S"
          ],
          [
           1,
           "male",
           "S"
          ],
          [
           2,
           "male",
           "S"
          ],
          [
           1,
           "female",
           "S"
          ],
          [
           2,
           "male",
           "S"
          ],
          [
           2,
           "male",
           "S"
          ],
          [
           2,
           "male",
           "S"
          ],
          [
           2,
           "female",
           "S"
          ],
          [
           2,
           "female",
           "S"
          ],
          [
           3,
           "female",
           "S"
          ],
          [
           3,
           "male",
           "S"
          ],
          [
           3,
           "male",
           "S"
          ],
          [
           3,
           "male",
           "S"
          ],
          [
           1,
           "male",
           "S"
          ],
          [
           3,
           "male",
           "C"
          ],
          [
           3,
           "male",
           "S"
          ],
          [
           3,
           "male",
           "C"
          ],
          [
           3,
           "male",
           "S"
          ],
          [
           1,
           "female",
           "S"
          ],
          [
           2,
           "female",
           "S"
          ],
          [
           3,
           "female",
           "Q"
          ],
          [
           3,
           "female",
           "Q"
          ],
          [
           3,
           "male",
           "S"
          ],
          [
           2,
           "male",
           "C"
          ],
          [
           3,
           "female",
           "C"
          ],
          [
           3,
           "male",
           "S"
          ],
          [
           3,
           "male",
           "Q"
          ],
          [
           3,
           "male",
           "S"
          ],
          [
           1,
           "female",
           "C"
          ],
          [
           3,
           "female",
           "C"
          ],
          [
           3,
           "female",
           "Q"
          ],
          [
           1,
           "female",
           "C"
          ],
          [
           1,
           "male",
           "C"
          ],
          [
           3,
           "male",
           "S"
          ],
          [
           3,
           "male",
           "S"
          ],
          [
           1,
           "male",
           "C"
          ],
          [
           3,
           "female",
           "S"
          ],
          [
           1,
           "female",
           "C"
          ],
          [
           3,
           "female",
           "S"
          ],
          [
           1,
           "male",
           "C"
          ],
          [
           3,
           "male",
           "C"
          ],
          [
           3,
           "male",
           "S"
          ],
          [
           1,
           "female",
           "C"
          ],
          [
           3,
           "female",
           "C"
          ],
          [
           3,
           "male",
           "S"
          ],
          [
           1,
           "female",
           "S"
          ],
          [
           3,
           "male",
           "S"
          ],
          [
           2,
           "male",
           "S"
          ],
          [
           3,
           "male",
           "S"
          ],
          [
           2,
           "female",
           "S"
          ],
          [
           3,
           "male",
           "Q"
          ],
          [
           2,
           "female",
           "C"
          ],
          [
           1,
           "male",
           "S"
          ],
          [
           3,
           "male",
           "S"
          ],
          [
           3,
           "male",
           "S"
          ],
          [
           1,
           "female",
           "C"
          ],
          [
           3,
           "female",
           "S"
          ],
          [
           3,
           "male",
           "S"
          ],
          [
           3,
           "female",
           "S"
          ],
          [
           2,
           "male",
           "S"
          ],
          [
           2,
           "male",
           "S"
          ],
          [
           2,
           "female",
           "S"
          ],
          [
           3,
           "male",
           "S"
          ],
          [
           3,
           "male",
           "S"
          ],
          [
           3,
           "female",
           "S"
          ],
          [
           3,
           "male",
           "S"
          ],
          [
           3,
           "female",
           "S"
          ],
          [
           2,
           "male",
           "S"
          ],
          [
           3,
           "male",
           "S"
          ],
          [
           2,
           "male",
           "S"
          ],
          [
           3,
           "male",
           "S"
          ],
          [
           3,
           "female",
           "S"
          ],
          [
           3,
           "male",
           "S"
          ],
          [
           3,
           "male",
           "Q"
          ],
          [
           1,
           "female",
           "Q"
          ],
          [
           2,
           "male",
           "S"
          ],
          [
           3,
           "male",
           "S"
          ],
          [
           3,
           "female",
           "S"
          ],
          [
           2,
           "female",
           "S"
          ],
          [
           2,
           "female",
           "S"
          ],
          [
           2,
           "male",
           "S"
          ],
          [
           3,
           "female",
           "S"
          ],
          [
           3,
           "male",
           "C"
          ],
          [
           3,
           "male",
           "Q"
          ],
          [
           3,
           "male",
           "S"
          ],
          [
           3,
           "female",
           "S"
          ],
          [
           3,
           "male",
           "S"
          ],
          [
           3,
           "male",
           "S"
          ],
          [
           2,
           "female",
           "S"
          ],
          [
           2,
           "female",
           "S"
          ],
          [
           3,
           "male",
           "Q"
          ],
          [
           3,
           "male",
           "S"
          ],
          [
           1,
           "male",
           "S"
          ],
          [
           3,
           "female",
           "S"
          ],
          [
           2,
           "female",
           "S"
          ],
          [
           3,
           "male",
           "S"
          ],
          [
           1,
           "male",
           "S"
          ],
          [
           1,
           "female",
           "S"
          ],
          [
           3,
           "female",
           "S"
          ],
          [
           2,
           "female",
           "S"
          ],
          [
           1,
           "male",
           "S"
          ],
          [
           2,
           "male",
           "S"
          ],
          [
           2,
           "female",
           "S"
          ],
          [
           3,
           "male",
           "S"
          ],
          [
           3,
           "male",
           "S"
          ],
          [
           2,
           "female",
           "S"
          ],
          [
           3,
           "male",
           "S"
          ],
          [
           1,
           "male",
           "S"
          ],
          [
           2,
           "female",
           "S"
          ],
          [
           1,
           "male",
           "S"
          ],
          [
           3,
           "female",
           "C"
          ],
          [
           1,
           "male",
           "S"
          ],
          [
           2,
           "male",
           "S"
          ],
          [
           3,
           "male",
           "S"
          ],
          [
           1,
           "male",
           "C"
          ],
          [
           1,
           "male",
           "C"
          ],
          [
           3,
           "male",
           "S"
          ],
          [
           3,
           "male",
           "C"
          ],
          [
           1,
           "male",
           "S"
          ],
          [
           1,
           "female",
           "S"
          ],
          [
           2,
           "female",
           "S"
          ],
          [
           3,
           "male",
           "Q"
          ],
          [
           1,
           "male",
           "S"
          ],
          [
           3,
           "male",
           "S"
          ],
          [
           1,
           "male",
           "S"
          ],
          [
           2,
           "male",
           "S"
          ],
          [
           3,
           "male",
           "S"
          ],
          [
           3,
           "male",
           "S"
          ],
          [
           2,
           "male",
           "S"
          ],
          [
           1,
           "male",
           "S"
          ],
          [
           3,
           "male",
           "Q"
          ],
          [
           3,
           "female",
           "C"
          ],
          [
           3,
           "male",
           "S"
          ],
          [
           3,
           "male",
           "S"
          ],
          [
           2,
           "female",
           "S"
          ],
          [
           2,
           "female",
           "C"
          ],
          [
           3,
           "female",
           "S"
          ],
          [
           1,
           "male",
           "S"
          ],
          [
           2,
           "male",
           "S"
          ],
          [
           3,
           "male",
           "S"
          ],
          [
           3,
           "male",
           "S"
          ],
          [
           3,
           "female",
           "S"
          ],
          [
           3,
           "male",
           "S"
          ],
          [
           2,
           "male",
           "S"
          ],
          [
           3,
           "male",
           "S"
          ],
          [
           3,
           "female",
           "S"
          ],
          [
           1,
           "male",
           "C"
          ],
          [
           3,
           "female",
           "S"
          ],
          [
           1,
           "female",
           "S"
          ],
          [
           1,
           "male",
           "C"
          ],
          [
           3,
           "male",
           "S"
          ],
          [
           3,
           "male",
           "S"
          ],
          [
           3,
           "male",
           "S"
          ],
          [
           3,
           "male",
           "S"
          ],
          [
           1,
           "male",
           "S"
          ],
          [
           1,
           "male",
           "C"
          ],
          [
           3,
           "male",
           "S"
          ],
          [
           3,
           "male",
           "C"
          ],
          [
           1,
           "female",
           "C"
          ],
          [
           3,
           "male",
           "S"
          ],
          [
           1,
           "female",
           "S"
          ],
          [
           3,
           "male",
           "S"
          ],
          [
           3,
           "male",
           "S"
          ],
          [
           3,
           "female",
           "Q"
          ],
          [
           3,
           "female",
           "Q"
          ],
          [
           3,
           "female",
           "S"
          ],
          [
           1,
           "female",
           "S"
          ],
          [
           1,
           "male",
           "C"
          ],
          [
           2,
           "female",
           "S"
          ],
          [
           1,
           "male",
           "S"
          ],
          [
           3,
           "male",
           "S"
          ],
          [
           3,
           "male",
           "S"
          ],
          [
           3,
           "male",
           "Q"
          ],
          [
           3,
           "male",
           "S"
          ],
          [
           1,
           "male",
           "S"
          ],
          [
           1,
           "female",
           "C"
          ],
          [
           3,
           "male",
           "S"
          ],
          [
           1,
           "male",
           "S"
          ],
          [
           2,
           "female",
           "S"
          ],
          [
           3,
           "male",
           "Q"
          ],
          [
           2,
           "female",
           "S"
          ],
          [
           3,
           "male",
           "S"
          ],
          [
           1,
           "female",
           "S"
          ],
          [
           3,
           "male",
           "S"
          ],
          [
           3,
           "male",
           "C"
          ],
          [
           1,
           "female",
           "C"
          ],
          [
           3,
           "male",
           "C"
          ],
          [
           3,
           "male",
           "Q"
          ],
          [
           2,
           "female",
           "S"
          ],
          [
           1,
           "male",
           "S"
          ],
          [
           3,
           "male",
           "S"
          ],
          [
           2,
           "male",
           "S"
          ],
          [
           2,
           "female",
           "S"
          ],
          [
           3,
           "male",
           "C"
          ],
          [
           3,
           "male",
           "C"
          ],
          [
           3,
           "female",
           "C"
          ],
          [
           3,
           "female",
           "S"
          ],
          [
           2,
           "female",
           "S"
          ],
          [
           1,
           "male",
           "S"
          ],
          [
           1,
           "female",
           "C"
          ],
          [
           3,
           "male",
           "S"
          ],
          [
           1,
           "female",
           "C"
          ],
          [
           1,
           "female",
           "S"
          ],
          [
           3,
           "female",
           "S"
          ],
          [
           3,
           "female",
           "S"
          ],
          [
           2,
           "male",
           "S"
          ],
          [
           1,
           "male",
           "C"
          ],
          [
           1,
           "male",
           "S"
          ],
          [
           2,
           "female",
           "S"
          ],
          [
           2,
           "male",
           "C"
          ],
          [
           3,
           "male",
           "S"
          ],
          [
           2,
           "male",
           "S"
          ],
          [
           1,
           "male",
           "C"
          ],
          [
           2,
           "male",
           "S"
          ],
          [
           3,
           "male",
           "Q"
          ],
          [
           3,
           "male",
           "C"
          ],
          [
           3,
           "female",
           "S"
          ],
          [
           1,
           "male",
           "S"
          ],
          [
           1,
           "female",
           "C"
          ],
          [
           1,
           "male",
           "C"
          ],
          [
           1,
           "female",
           "S"
          ],
          [
           3,
           "female",
           "S"
          ],
          [
           3,
           "male",
           "Q"
          ],
          [
           3,
           "male",
           "S"
          ],
          [
           2,
           "male",
           "S"
          ],
          [
           3,
           "male",
           "S"
          ],
          [
           3,
           "female",
           "S"
          ],
          [
           3,
           "male",
           "S"
          ],
          [
           3,
           "male",
           "S"
          ],
          [
           3,
           "female",
           "S"
          ],
          [
           3,
           "male",
           "C"
          ],
          [
           3,
           "male",
           "S"
          ],
          [
           2,
           "male",
           "S"
          ],
          [
           1,
           "female",
           "S"
          ],
          [
           1,
           "male",
           "S"
          ],
          [
           3,
           "female",
           "Q"
          ],
          [
           3,
           "male",
           "S"
          ],
          [
           3,
           "male",
           "S"
          ],
          [
           2,
           "female",
           "S"
          ],
          [
           1,
           "female",
           "S"
          ],
          [
           3,
           "female",
           "C"
          ],
          [
           3,
           "male",
           "S"
          ],
          [
           2,
           "female",
           "S"
          ],
          [
           1,
           "female",
           "C"
          ],
          [
           2,
           "male",
           "S"
          ],
          [
           1,
           "male",
           "C"
          ],
          [
           3,
           "male",
           "C"
          ],
          [
           1,
           "female",
           "S"
          ],
          [
           2,
           "male",
           "S"
          ],
          [
           1,
           "male",
           "C"
          ],
          [
           3,
           "male",
           "S"
          ],
          [
           3,
           "male",
           "S"
          ],
          [
           3,
           "male",
           "S"
          ],
          [
           1,
           "female",
           "C"
          ],
          [
           3,
           "male",
           "S"
          ],
          [
           3,
           "female",
           "Q"
          ],
          [
           2,
           "male",
           "S"
          ],
          [
           3,
           "male",
           "S"
          ],
          [
           2,
           "female",
           "S"
          ],
          [
           3,
           "male",
           "S"
          ],
          [
           3,
           "male",
           "C"
          ],
          [
           1,
           "male",
           "C"
          ],
          [
           2,
           "female",
           "S"
          ],
          [
           3,
           "male",
           "S"
          ],
          [
           1,
           "male",
           "S"
          ],
          [
           3,
           "male",
           "S"
          ],
          [
           1,
           "male",
           "C"
          ],
          [
           3,
           "male",
           "S"
          ],
          [
           3,
           "male",
           "S"
          ],
          [
           1,
           "male",
           "S"
          ],
          [
           2,
           "female",
           "C"
          ],
          [
           1,
           "female",
           "S"
          ],
          [
           3,
           "female",
           "S"
          ],
          [
           3,
           "male",
           "S"
          ],
          [
           3,
           "female",
           "Q"
          ],
          [
           3,
           "male",
           "Q"
          ],
          [
           3,
           "male",
           "S"
          ],
          [
           2,
           "female",
           "S"
          ],
          [
           3,
           "male",
           "S"
          ],
          [
           3,
           "female",
           "S"
          ],
          [
           2,
           "female",
           "S"
          ],
          [
           2,
           "male",
           "S"
          ],
          [
           3,
           "male",
           "C"
          ],
          [
           1,
           "male",
           "S"
          ],
          [
           3,
           "male",
           "C"
          ],
          [
           3,
           "male",
           "S"
          ],
          [
           3,
           "male",
           "S"
          ],
          [
           1,
           "male",
           "S"
          ],
          [
           2,
           "male",
           "Q"
          ],
          [
           1,
           "female",
           "S"
          ],
          [
           3,
           "male",
           "S"
          ],
          [
           3,
           "male",
           "Q"
          ],
          [
           1,
           "male",
           "S"
          ],
          [
           3,
           "male",
           "S"
          ],
          [
           1,
           "male",
           "C"
          ],
          [
           1,
           "male",
           "S"
          ],
          [
           3,
           "female",
           "S"
          ],
          [
           2,
           "female",
           "S"
          ],
          [
           3,
           "male",
           "S"
          ],
          [
           2,
           "male",
           "S"
          ],
          [
           3,
           "female",
           "S"
          ],
          [
           3,
           "male",
           "S"
          ],
          [
           3,
           "male",
           "S"
          ],
          [
           1,
           "female",
           "C"
          ],
          [
           3,
           "female",
           "S"
          ],
          [
           3,
           "male",
           "S"
          ],
          [
           3,
           "female",
           "C"
          ],
          [
           1,
           "male",
           "C"
          ],
          [
           3,
           "male",
           "S"
          ],
          [
           1,
           "male",
           "C"
          ],
          [
           3,
           "male",
           "S"
          ],
          [
           3,
           "female",
           "S"
          ],
          [
           3,
           "male",
           "S"
          ],
          [
           2,
           "female",
           "S"
          ],
          [
           3,
           "male",
           "S"
          ],
          [
           3,
           "female",
           "Q"
          ],
          [
           3,
           "female",
           "Q"
          ],
          [
           2,
           "male",
           "S"
          ],
          [
           3,
           "male",
           "S"
          ],
          [
           3,
           "female",
           "Q"
          ],
          [
           2,
           "male",
           "S"
          ],
          [
           1,
           "male",
           "C"
          ],
          [
           1,
           "male",
           "S"
          ],
          [
           3,
           "male",
           "C"
          ],
          [
           1,
           "male",
           "S"
          ],
          [
           3,
           "male",
           "S"
          ],
          [
           3,
           "male",
           "S"
          ],
          [
           2,
           "male",
           "S"
          ],
          [
           2,
           "male",
           "S"
          ],
          [
           3,
           "male",
           "S"
          ],
          [
           3,
           "male",
           "S"
          ],
          [
           1,
           "female",
           "S"
          ],
          [
           2,
           "female",
           "S"
          ],
          [
           1,
           "male",
           "S"
          ],
          [
           2,
           "male",
           "S"
          ],
          [
           2,
           "male",
           "S"
          ],
          [
           2,
           "male",
           "S"
          ],
          [
           3,
           "male",
           "S"
          ],
          [
           3,
           "male",
           "S"
          ],
          [
           3,
           "female",
           "S"
          ],
          [
           3,
           "female",
           "S"
          ],
          [
           1,
           "male",
           "C"
          ],
          [
           3,
           "female",
           "Q"
          ],
          [
           1,
           "male",
           "C"
          ],
          [
           3,
           "male",
           "S"
          ],
          [
           3,
           "male",
           "S"
          ],
          [
           2,
           "male",
           "S"
          ],
          [
           2,
           "male",
           "C"
          ],
          [
           3,
           "male",
           "S"
          ],
          [
           3,
           "male",
           "S"
          ],
          [
           3,
           "male",
           "S"
          ],
          [
           1,
           "female",
           "S"
          ],
          [
           1,
           "male",
           "S"
          ],
          [
           3,
           "female",
           "C"
          ],
          [
           3,
           "male",
           "S"
          ],
          [
           3,
           "male",
           "C"
          ],
          [
           1,
           "male",
           "S"
          ],
          [
           2,
           "male",
           "S"
          ],
          [
           3,
           "male",
           "S"
          ],
          [
           3,
           "female",
           "Q"
          ],
          [
           1,
           "male",
           "C"
          ],
          [
           3,
           "male",
           "S"
          ],
          [
           1,
           "female",
           "C"
          ],
          [
           1,
           "male",
           "S"
          ],
          [
           3,
           "female",
           "C"
          ],
          [
           3,
           "male",
           "Q"
          ],
          [
           3,
           "male",
           "S"
          ],
          [
           2,
           "male",
           "S"
          ],
          [
           2,
           "female",
           "S"
          ],
          [
           1,
           "male",
           "S"
          ],
          [
           1,
           "female",
           "S"
          ],
          [
           3,
           "male",
           "C"
          ],
          [
           1,
           "female",
           "C"
          ],
          [
           1,
           "male",
           "S"
          ],
          [
           1,
           "male",
           "S"
          ],
          [
           3,
           "male",
           "S"
          ],
          [
           2,
           "male",
           "S"
          ],
          [
           3,
           "male",
           "S"
          ],
          [
           1,
           "female",
           "C"
          ],
          [
           2,
           "female",
           "S"
          ],
          [
           3,
           "male",
           "Q"
          ],
          [
           3,
           "male",
           "S"
          ],
          [
           2,
           "female",
           "S"
          ],
          [
           3,
           "male",
           "S"
          ],
          [
           2,
           "male",
           "S"
          ],
          [
           2,
           "male",
           "S"
          ],
          [
           1,
           "male",
           "S"
          ],
          [
           3,
           "male",
           "S"
          ],
          [
           2,
           "female",
           "S"
          ],
          [
           3,
           "female",
           "Q"
          ],
          [
           2,
           "male",
           "S"
          ],
          [
           3,
           "female",
           "S"
          ],
          [
           1,
           "female",
           "S"
          ],
          [
           3,
           "male",
           "C"
          ],
          [
           2,
           "male",
           "S"
          ],
          [
           2,
           "male",
           "S"
          ],
          [
           2,
           "male",
           "S"
          ],
          [
           3,
           "male",
           "S"
          ],
          [
           3,
           "female",
           "S"
          ],
          [
           1,
           "male",
           "C"
          ],
          [
           3,
           "male",
           "S"
          ],
          [
           3,
           "male",
           "S"
          ],
          [
           1,
           "male",
           "S"
          ],
          [
           1,
           "male",
           "S"
          ],
          [
           1,
           "female",
           "C"
          ],
          [
           3,
           "male",
           "S"
          ],
          [
           3,
           "male",
           "S"
          ],
          [
           1,
           "male",
           "S"
          ],
          [
           3,
           "male",
           "S"
          ],
          [
           2,
           "female",
           "S"
          ],
          [
           1,
           "male",
           "S"
          ],
          [
           3,
           "male",
           "Q"
          ],
          [
           2,
           "female",
           "S"
          ],
          [
           3,
           "male",
           "S"
          ],
          [
           3,
           "male",
           "S"
          ],
          [
           3,
           "male",
           "S"
          ],
          [
           2,
           "female",
           "S"
          ],
          [
           2,
           "male",
           "S"
          ],
          [
           3,
           "male",
           "S"
          ],
          [
           2,
           "male",
           "S"
          ],
          [
           3,
           "male",
           "S"
          ],
          [
           1,
           "female",
           "S"
          ],
          [
           3,
           "male",
           "S"
          ],
          [
           3,
           "male",
           "S"
          ],
          [
           3,
           "male",
           "C"
          ],
          [
           1,
           "female",
           "S"
          ],
          [
           3,
           "male",
           "S"
          ],
          [
           1,
           "female",
           "S"
          ],
          [
           1,
           "male",
           "C"
          ],
          [
           3,
           "female",
           "Q"
          ],
          [
           3,
           "male",
           "Q"
          ],
          [
           3,
           "male",
           "S"
          ],
          [
           3,
           "male",
           "S"
          ],
          [
           3,
           "male",
           "S"
          ],
          [
           2,
           "female",
           "S"
          ],
          [
           3,
           "male",
           "C"
          ],
          [
           2,
           "female",
           "S"
          ],
          [
           3,
           "male",
           "S"
          ],
          [
           3,
           "male",
           "Q"
          ],
          [
           3,
           "female",
           "S"
          ],
          [
           3,
           "male",
           "Q"
          ],
          [
           1,
           "female",
           "S"
          ],
          [
           3,
           "female",
           "C"
          ],
          [
           1,
           "female",
           "S"
          ],
          [
           1,
           "male",
           "S"
          ],
          [
           3,
           "male",
           "S"
          ],
          [
           3,
           "male",
           "S"
          ],
          [
           3,
           "male",
           "S"
          ],
          [
           3,
           "female",
           "S"
          ],
          [
           3,
           "male",
           "Q"
          ],
          [
           3,
           "male",
           "S"
          ],
          [
           1,
           "male",
           "C"
          ],
          [
           3,
           "male",
           "Q"
          ],
          [
           2,
           "male",
           "S"
          ],
          [
           3,
           "female",
           "S"
          ],
          [
           1,
           "male",
           "C"
          ],
          [
           3,
           "male",
           "S"
          ],
          [
           2,
           "male",
           "S"
          ],
          [
           1,
           "female",
           "S"
          ],
          [
           3,
           "female",
           "S"
          ],
          [
           3,
           "male",
           "C"
          ],
          [
           3,
           "female",
           "S"
          ],
          [
           2,
           "male",
           "S"
          ],
          [
           2,
           "female",
           "S"
          ],
          [
           1,
           "male",
           "S"
          ],
          [
           3,
           "male",
           "C"
          ],
          [
           3,
           "male",
           "S"
          ],
          [
           3,
           "male",
           "S"
          ],
          [
           1,
           "male",
           "S"
          ],
          [
           3,
           "female",
           "S"
          ],
          [
           2,
           "male",
           "S"
          ],
          [
           1,
           "female",
           "S"
          ],
          [
           3,
           "male",
           "S"
          ],
          [
           3,
           "male",
           "S"
          ],
          [
           2,
           "male",
           "S"
          ],
          [
           3,
           "female",
           "S"
          ],
          [
           3,
           "male",
           "S"
          ],
          [
           1,
           "male",
           "S"
          ],
          [
           3,
           "female",
           "S"
          ],
          [
           2,
           "male",
           "C"
          ],
          [
           3,
           "male",
           "S"
          ],
          [
           3,
           "male",
           "S"
          ],
          [
           1,
           "female",
           "S"
          ],
          [
           3,
           "male",
           "S"
          ],
          [
           1,
           "male",
           "S"
          ],
          [
           3,
           "female",
           "S"
          ],
          [
           3,
           "male",
           "S"
          ],
          [
           3,
           "male",
           "Q"
          ],
          [
           3,
           "male",
           "S"
          ],
          [
           2,
           "male",
           "C"
          ],
          [
           3,
           "male",
           "Q"
          ],
          [
           1,
           "female",
           null
          ],
          [
           3,
           "female",
           "C"
          ],
          [
           2,
           "male",
           "S"
          ],
          [
           3,
           "male",
           "C"
          ],
          [
           3,
           "male",
           "S"
          ],
          [
           3,
           "male",
           "S"
          ],
          [
           1,
           "female",
           "C"
          ],
          [
           3,
           "male",
           "S"
          ],
          [
           3,
           "male",
           "S"
          ],
          [
           3,
           "male",
           "S"
          ],
          [
           1,
           "male",
           "C"
          ],
          [
           3,
           "male",
           "S"
          ],
          [
           2,
           "male",
           "S"
          ],
          [
           1,
           "female",
           "C"
          ],
          [
           3,
           "male",
           "C"
          ],
          [
           3,
           "male",
           "S"
          ],
          [
           3,
           "male",
           "S"
          ],
          [
           3,
           "male",
           "S"
          ],
          [
           3,
           "male",
           "C"
          ],
          [
           2,
           "male",
           "S"
          ],
          [
           1,
           "female",
           "C"
          ],
          [
           3,
           "male",
           "S"
          ],
          [
           3,
           "male",
           "S"
          ],
          [
           3,
           "female",
           "C"
          ],
          [
           1,
           "female",
           "S"
          ],
          [
           2,
           "female",
           "S"
          ],
          [
           3,
           "female",
           "S"
          ],
          [
           1,
           "female",
           "S"
          ],
          [
           1,
           "male",
           "S"
          ],
          [
           3,
           "female",
           "C"
          ],
          [
           3,
           "male",
           "C"
          ],
          [
           3,
           "male",
           "S"
          ],
          [
           2,
           "male",
           "S"
          ],
          [
           1,
           "female",
           "S"
          ],
          [
           3,
           "female",
           "S"
          ],
          [
           2,
           "male",
           "S"
          ],
          [
           2,
           "female",
           "S"
          ],
          [
           2,
           "female",
           "C"
          ],
          [
           1,
           "male",
           "S"
          ],
          [
           3,
           "male",
           "S"
          ],
          [
           3,
           "male",
           "S"
          ],
          [
           3,
           "male",
           "S"
          ],
          [
           1,
           "female",
           "S"
          ],
          [
           1,
           "male",
           "S"
          ],
          [
           3,
           "male",
           "S"
          ],
          [
           2,
           "female",
           "C"
          ],
          [
           3,
           "female",
           "C"
          ],
          [
           3,
           "male",
           "S"
          ],
          [
           3,
           "male",
           "S"
          ],
          [
           3,
           "male",
           "S"
          ],
          [
           1,
           "female",
           "C"
          ],
          [
           2,
           "female",
           "S"
          ],
          [
           3,
           "male",
           "S"
          ],
          [
           3,
           "female",
           "S"
          ],
          [
           2,
           "male",
           "S"
          ],
          [
           3,
           "male",
           "S"
          ],
          [
           3,
           "female",
           "Q"
          ],
          [
           2,
           "male",
           "S"
          ],
          [
           1,
           "female",
           "S"
          ],
          [
           3,
           "female",
           "S"
          ],
          [
           1,
           "male",
           "C"
          ],
          [
           3,
           "male",
           "Q"
          ]
         ],
         "hovertemplate": "Age=%{x}<br>Fare Paid=%{y}<br>pclass=%{customdata[0]}<br>sex=%{customdata[1]}<br>embarked=%{customdata[2]}<br>Survived=%{marker.color}<extra></extra>",
         "legendgroup": "",
         "marker": {
          "color": {
           "bdata": "AAEBAQAAAAABAQEBAAAAAQABAAEAAQEBAAEAAAEAAAEBAAAAAQAAAQAAAAEBAAABAAAAAAEBAAEBAAEAAAEAAAABAQABAAAAAAABAAAAAQEAAQEAAQEAAAEAAAAAAAAAAAEBAAAAAAAAAAEBAAEAAAAAAAAAAAAAAAAAAQABAAEBAAAAAAEAAAEAAAAAAQEAAAABAAAAAAEAAAAAAQAAAAABAAAAAQEAAAAAAAEAAAAAAAAAAAAAAQEAAQEAAAEAAQEBAQAAAQAAAAAAAQAAAQEBAAEAAAABAQABAAEAAAABAAEAAAABAAABAAAAAQAAAAEAAAAAAAEBAAAAAAAAAQEBAQEAAQAAAAAAAQEBAAEBAAEBAAAAAQAAAAEAAAEAAQEBAQAAAAAAAAEBAQEAAQABAQEAAQEBAAAAAQEAAQEAAAEBAAEAAQEBAQAAAAEAAAEBAAEBAAAAAQEBAQAAAAAAAAABAAEBAAAAAAAAAQEBAQEAAAAAAQEAAAABAQABAAAAAQABAQEAAQEAAAAAAQEAAAAAAAABAAAAAAEAAQABAQAAAAAAAAAAAQEAAQEBAQAAAQABAAABAAABAQEBAQEBAAAAAQABAAEBAAEAAAAAAAAAAAEAAAEBAAAAAAABAAAAAQEAAQAAAQAAAAAAAAEAAAAAAAAAAQABAQABAQABAQAAAQABAAEAAAEAAAEAAAABAAABAAEAAQABAQAAAQAAAQEAAQEAAAEBAAEAAQEAAAAAAAAAAAABAQEBAQAAAQEAAQEBAAAAAQABAAAAAQAAAAABAAABAQAAAAEAAAEBAQAAAQAAAQAAAQAAAQEAAAAAAQAAAQABAAABAAAAAAABAAEBAQABAAEAAQABAAAAAAAAAQAAAAEAAAAAAQEAAAEAAAABAAEAAQAAAAAAAAABAQEBAAAAAAEAAAEBAAAAAAEBAQEBAAEAAAABAQAAAQAAAAEAAQEAAAEAAAAAAAABAAABAAEAAQAAAQAAAQEAAAEBAAAAAQAAAQEAAQAAAAAAAAAAAQAAAQABAQEAAAAAAQABAAAAAAAAAAEBAAAAAQEBAQAAAAABAAAAAAAAAAAAAAEBAAEAAAABAQEBAQAAAAEAAAEBAAABAAAAAAAAAQAAAAEAAQEBAQAAAAEAAAEBAAABAAEAAAEBAAAAAQEAAAAAAAABAAEA",
           "dtype": "i1"
          },
          "coloraxis": "coloraxis",
          "symbol": "circle"
         },
         "mode": "markers",
         "name": "",
         "orientation": "v",
         "showlegend": false,
         "type": "scatter",
         "x": {
          "bdata": "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",
          "dtype": "f8"
         },
         "xaxis": "x",
         "y": {
          "bdata": "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",
          "dtype": "f8"
         },
         "yaxis": "y"
        }
       ],
       "layout": {
        "coloraxis": {
         "colorbar": {
          "title": {
           "text": "Survived"
          }
         },
         "colorscale": [
          [
           0,
           "#d9534f"
          ],
          [
           1,
           "#5cb85c"
          ]
         ]
        },
        "legend": {
         "tracegroupgap": 0
        },
        "template": {
         "data": {
          "bar": [
           {
            "error_x": {
             "color": "#2a3f5f"
            },
            "error_y": {
             "color": "#2a3f5f"
            },
            "marker": {
             "line": {
              "color": "#E5ECF6",
              "width": 0.5
             },
             "pattern": {
              "fillmode": "overlay",
              "size": 10,
              "solidity": 0.2
             }
            },
            "type": "bar"
           }
          ],
          "barpolar": [
           {
            "marker": {
             "line": {
              "color": "#E5ECF6",
              "width": 0.5
             },
             "pattern": {
              "fillmode": "overlay",
              "size": 10,
              "solidity": 0.2
             }
            },
            "type": "barpolar"
           }
          ],
          "carpet": [
           {
            "aaxis": {
             "endlinecolor": "#2a3f5f",
             "gridcolor": "white",
             "linecolor": "white",
             "minorgridcolor": "white",
             "startlinecolor": "#2a3f5f"
            },
            "baxis": {
             "endlinecolor": "#2a3f5f",
             "gridcolor": "white",
             "linecolor": "white",
             "minorgridcolor": "white",
             "startlinecolor": "#2a3f5f"
            },
            "type": "carpet"
           }
          ],
          "choropleth": [
           {
            "colorbar": {
             "outlinewidth": 0,
             "ticks": ""
            },
            "type": "choropleth"
           }
          ],
          "contour": [
           {
            "colorbar": {
             "outlinewidth": 0,
             "ticks": ""
            },
            "colorscale": [
             [
              0,
              "#0d0887"
             ],
             [
              0.1111111111111111,
              "#46039f"
             ],
             [
              0.2222222222222222,
              "#7201a8"
             ],
             [
              0.3333333333333333,
              "#9c179e"
             ],
             [
              0.4444444444444444,
              "#bd3786"
             ],
             [
              0.5555555555555556,
              "#d8576b"
             ],
             [
              0.6666666666666666,
              "#ed7953"
             ],
             [
              0.7777777777777778,
              "#fb9f3a"
             ],
             [
              0.8888888888888888,
              "#fdca26"
             ],
             [
              1,
              "#f0f921"
             ]
            ],
            "type": "contour"
           }
          ],
          "contourcarpet": [
           {
            "colorbar": {
             "outlinewidth": 0,
             "ticks": ""
            },
            "type": "contourcarpet"
           }
          ],
          "heatmap": [
           {
            "colorbar": {
             "outlinewidth": 0,
             "ticks": ""
            },
            "colorscale": [
             [
              0,
              "#0d0887"
             ],
             [
              0.1111111111111111,
              "#46039f"
             ],
             [
              0.2222222222222222,
              "#7201a8"
             ],
             [
              0.3333333333333333,
              "#9c179e"
             ],
             [
              0.4444444444444444,
              "#bd3786"
             ],
             [
              0.5555555555555556,
              "#d8576b"
             ],
             [
              0.6666666666666666,
              "#ed7953"
             ],
             [
              0.7777777777777778,
              "#fb9f3a"
             ],
             [
              0.8888888888888888,
              "#fdca26"
             ],
             [
              1,
              "#f0f921"
             ]
            ],
            "type": "heatmap"
           }
          ],
          "histogram": [
           {
            "marker": {
             "pattern": {
              "fillmode": "overlay",
              "size": 10,
              "solidity": 0.2
             }
            },
            "type": "histogram"
           }
          ],
          "histogram2d": [
           {
            "colorbar": {
             "outlinewidth": 0,
             "ticks": ""
            },
            "colorscale": [
             [
              0,
              "#0d0887"
             ],
             [
              0.1111111111111111,
              "#46039f"
             ],
             [
              0.2222222222222222,
              "#7201a8"
             ],
             [
              0.3333333333333333,
              "#9c179e"
             ],
             [
              0.4444444444444444,
              "#bd3786"
             ],
             [
              0.5555555555555556,
              "#d8576b"
             ],
             [
              0.6666666666666666,
              "#ed7953"
             ],
             [
              0.7777777777777778,
              "#fb9f3a"
             ],
             [
              0.8888888888888888,
              "#fdca26"
             ],
             [
              1,
              "#f0f921"
             ]
            ],
            "type": "histogram2d"
           }
          ],
          "histogram2dcontour": [
           {
            "colorbar": {
             "outlinewidth": 0,
             "ticks": ""
            },
            "colorscale": [
             [
              0,
              "#0d0887"
             ],
             [
              0.1111111111111111,
              "#46039f"
             ],
             [
              0.2222222222222222,
              "#7201a8"
             ],
             [
              0.3333333333333333,
              "#9c179e"
             ],
             [
              0.4444444444444444,
              "#bd3786"
             ],
             [
              0.5555555555555556,
              "#d8576b"
             ],
             [
              0.6666666666666666,
              "#ed7953"
             ],
             [
              0.7777777777777778,
              "#fb9f3a"
             ],
             [
              0.8888888888888888,
              "#fdca26"
             ],
             [
              1,
              "#f0f921"
             ]
            ],
            "type": "histogram2dcontour"
           }
          ],
          "mesh3d": [
           {
            "colorbar": {
             "outlinewidth": 0,
             "ticks": ""
            },
            "type": "mesh3d"
           }
          ],
          "parcoords": [
           {
            "line": {
             "colorbar": {
              "outlinewidth": 0,
              "ticks": ""
             }
            },
            "type": "parcoords"
           }
          ],
          "pie": [
           {
            "automargin": true,
            "type": "pie"
           }
          ],
          "scatter": [
           {
            "fillpattern": {
             "fillmode": "overlay",
             "size": 10,
             "solidity": 0.2
            },
            "type": "scatter"
           }
          ],
          "scatter3d": [
           {
            "line": {
             "colorbar": {
              "outlinewidth": 0,
              "ticks": ""
             }
            },
            "marker": {
             "colorbar": {
              "outlinewidth": 0,
              "ticks": ""
             }
            },
            "type": "scatter3d"
           }
          ],
          "scattercarpet": [
           {
            "marker": {
             "colorbar": {
              "outlinewidth": 0,
              "ticks": ""
             }
            },
            "type": "scattercarpet"
           }
          ],
          "scattergeo": [
           {
            "marker": {
             "colorbar": {
              "outlinewidth": 0,
              "ticks": ""
             }
            },
            "type": "scattergeo"
           }
          ],
          "scattergl": [
           {
            "marker": {
             "colorbar": {
              "outlinewidth": 0,
              "ticks": ""
             }
            },
            "type": "scattergl"
           }
          ],
          "scattermap": [
           {
            "marker": {
             "colorbar": {
              "outlinewidth": 0,
              "ticks": ""
             }
            },
            "type": "scattermap"
           }
          ],
          "scattermapbox": [
           {
            "marker": {
             "colorbar": {
              "outlinewidth": 0,
              "ticks": ""
             }
            },
            "type": "scattermapbox"
           }
          ],
          "scatterpolar": [
           {
            "marker": {
             "colorbar": {
              "outlinewidth": 0,
              "ticks": ""
             }
            },
            "type": "scatterpolar"
           }
          ],
          "scatterpolargl": [
           {
            "marker": {
             "colorbar": {
              "outlinewidth": 0,
              "ticks": ""
             }
            },
            "type": "scatterpolargl"
           }
          ],
          "scatterternary": [
           {
            "marker": {
             "colorbar": {
              "outlinewidth": 0,
              "ticks": ""
             }
            },
            "type": "scatterternary"
           }
          ],
          "surface": [
           {
            "colorbar": {
             "outlinewidth": 0,
             "ticks": ""
            },
            "colorscale": [
             [
              0,
              "#0d0887"
             ],
             [
              0.1111111111111111,
              "#46039f"
             ],
             [
              0.2222222222222222,
              "#7201a8"
             ],
             [
              0.3333333333333333,
              "#9c179e"
             ],
             [
              0.4444444444444444,
              "#bd3786"
             ],
             [
              0.5555555555555556,
              "#d8576b"
             ],
             [
              0.6666666666666666,
              "#ed7953"
             ],
             [
              0.7777777777777778,
              "#fb9f3a"
             ],
             [
              0.8888888888888888,
              "#fdca26"
             ],
             [
              1,
              "#f0f921"
             ]
            ],
            "type": "surface"
           }
          ],
          "table": [
           {
            "cells": {
             "fill": {
              "color": "#EBF0F8"
             },
             "line": {
              "color": "white"
             }
            },
            "header": {
             "fill": {
              "color": "#C8D4E3"
             },
             "line": {
              "color": "white"
             }
            },
            "type": "table"
           }
          ]
         },
         "layout": {
          "annotationdefaults": {
           "arrowcolor": "#2a3f5f",
           "arrowhead": 0,
           "arrowwidth": 1
          },
          "autotypenumbers": "strict",
          "coloraxis": {
           "colorbar": {
            "outlinewidth": 0,
            "ticks": ""
           }
          },
          "colorscale": {
           "diverging": [
            [
             0,
             "#8e0152"
            ],
            [
             0.1,
             "#c51b7d"
            ],
            [
             0.2,
             "#de77ae"
            ],
            [
             0.3,
             "#f1b6da"
            ],
            [
             0.4,
             "#fde0ef"
            ],
            [
             0.5,
             "#f7f7f7"
            ],
            [
             0.6,
             "#e6f5d0"
            ],
            [
             0.7,
             "#b8e186"
            ],
            [
             0.8,
             "#7fbc41"
            ],
            [
             0.9,
             "#4d9221"
            ],
            [
             1,
             "#276419"
            ]
           ],
           "sequential": [
            [
             0,
             "#0d0887"
            ],
            [
             0.1111111111111111,
             "#46039f"
            ],
            [
             0.2222222222222222,
             "#7201a8"
            ],
            [
             0.3333333333333333,
             "#9c179e"
            ],
            [
             0.4444444444444444,
             "#bd3786"
            ],
            [
             0.5555555555555556,
             "#d8576b"
            ],
            [
             0.6666666666666666,
             "#ed7953"
            ],
            [
             0.7777777777777778,
             "#fb9f3a"
            ],
            [
             0.8888888888888888,
             "#fdca26"
            ],
            [
             1,
             "#f0f921"
            ]
           ],
           "sequentialminus": [
            [
             0,
             "#0d0887"
            ],
            [
             0.1111111111111111,
             "#46039f"
            ],
            [
             0.2222222222222222,
             "#7201a8"
            ],
            [
             0.3333333333333333,
             "#9c179e"
            ],
            [
             0.4444444444444444,
             "#bd3786"
            ],
            [
             0.5555555555555556,
             "#d8576b"
            ],
            [
             0.6666666666666666,
             "#ed7953"
            ],
            [
             0.7777777777777778,
             "#fb9f3a"
            ],
            [
             0.8888888888888888,
             "#fdca26"
            ],
            [
             1,
             "#f0f921"
            ]
           ]
          },
          "colorway": [
           "#636efa",
           "#EF553B",
           "#00cc96",
           "#ab63fa",
           "#FFA15A",
           "#19d3f3",
           "#FF6692",
           "#B6E880",
           "#FF97FF",
           "#FECB52"
          ],
          "font": {
           "color": "#2a3f5f"
          },
          "geo": {
           "bgcolor": "white",
           "lakecolor": "white",
           "landcolor": "#E5ECF6",
           "showlakes": true,
           "showland": true,
           "subunitcolor": "white"
          },
          "hoverlabel": {
           "align": "left"
          },
          "hovermode": "closest",
          "mapbox": {
           "style": "light"
          },
          "paper_bgcolor": "white",
          "plot_bgcolor": "#E5ECF6",
          "polar": {
           "angularaxis": {
            "gridcolor": "white",
            "linecolor": "white",
            "ticks": ""
           },
           "bgcolor": "#E5ECF6",
           "radialaxis": {
            "gridcolor": "white",
            "linecolor": "white",
            "ticks": ""
           }
          },
          "scene": {
           "xaxis": {
            "backgroundcolor": "#E5ECF6",
            "gridcolor": "white",
            "gridwidth": 2,
            "linecolor": "white",
            "showbackground": true,
            "ticks": "",
            "zerolinecolor": "white"
           },
           "yaxis": {
            "backgroundcolor": "#E5ECF6",
            "gridcolor": "white",
            "gridwidth": 2,
            "linecolor": "white",
            "showbackground": true,
            "ticks": "",
            "zerolinecolor": "white"
           },
           "zaxis": {
            "backgroundcolor": "#E5ECF6",
            "gridcolor": "white",
            "gridwidth": 2,
            "linecolor": "white",
            "showbackground": true,
            "ticks": "",
            "zerolinecolor": "white"
           }
          },
          "shapedefaults": {
           "line": {
            "color": "#2a3f5f"
           }
          },
          "ternary": {
           "aaxis": {
            "gridcolor": "white",
            "linecolor": "white",
            "ticks": ""
           },
           "baxis": {
            "gridcolor": "white",
            "linecolor": "white",
            "ticks": ""
           },
           "bgcolor": "#E5ECF6",
           "caxis": {
            "gridcolor": "white",
            "linecolor": "white",
            "ticks": ""
           }
          },
          "title": {
           "x": 0.05
          },
          "xaxis": {
           "automargin": true,
           "gridcolor": "white",
           "linecolor": "white",
           "ticks": "",
           "title": {
            "standoff": 15
           },
           "zerolinecolor": "white",
           "zerolinewidth": 2
          },
          "yaxis": {
           "automargin": true,
           "gridcolor": "white",
           "linecolor": "white",
           "ticks": "",
           "title": {
            "standoff": 15
           },
           "zerolinecolor": "white",
           "zerolinewidth": 2
          }
         }
        },
        "title": {
         "text": "Age vs. Fare, Colored by Survival Status"
        },
        "xaxis": {
         "anchor": "y",
         "domain": [
          0,
          1
         ],
         "title": {
          "text": "Age"
         }
        },
        "yaxis": {
         "anchor": "x",
         "domain": [
          0,
          1
         ],
         "title": {
          "text": "Fare Paid"
         }
        }
       }
      }
     },
     "metadata": {},
     "output_type": "display_data"
    }
   ],
   "source": [
    "px.scatter(df, \n",
    "           x='age', \n",
    "           y='fare', \n",
    "           color='survived', \n",
    "           color_continuous_scale=['#d9534f', '#5cb85c'],\n",
    "           title='Age vs. Fare, Colored by Survival Status',\n",
    "           labels={'survived': 'Survived', 'age': 'Age', 'fare': 'Fare Paid'},\n",
    "           hover_data=['pclass', 'sex', 'embarked'])\n"
   ]
  },
  {
   "cell_type": "markdown",
   "metadata": {},
   "source": [
    "### ROC Curve and AUC\n",
    "\n",
    "The **Receiver Operating Characteristic (ROC) curve** is a powerful diagnostic tool for binary classifiers. It plots the **True Positive Rate (Recall)** against the **False Positive Rate** at various decision thresholds.\n",
    "\n",
    "- **True Positive Rate (Recall)**: `TP / (TP + FN)` - What proportion of actual positives were correctly identified?\n",
    "- **False Positive Rate**: `FP / (FP + TN)` - What proportion of actual negatives were incorrectly classified as positive?\n",
    "\n",
    "The **Area Under the Curve (AUC)** summarizes the ROC curve into a single number. \n",
    "- **AUC = 1**: Perfect classifier.\n",
    "- **AUC = 0.5**: A useless classifier (no better than random guessing).\n",
    "- **AUC < 0.5**: A classifier that is worse than random guessing."
   ]
  },
  {
   "cell_type": "code",
   "execution_count": 21,
   "metadata": {},
   "outputs": [
    {
     "data": {
      "image/png": "[encoded data removed]",
      "text/plain": [
       "<Figure size 800x800 with 1 Axes>"
      ]
     },
     "metadata": {},
     "output_type": "display_data"
    }
   ],
   "source": [
    "# Get predicted probabilities for the positive class (Survived)\n",
    "y_pred_proba = best_model.predict_proba(X_test)[:, 1]\n",
    "\n",
    "# Calculate ROC curve values\n",
    "fpr, tpr, thresholds = roc_curve(y_test, y_pred_proba)\n",
    "\n",
    "# Calculate AUC\n",
    "auc = roc_auc_score(y_test, y_pred_proba)\n",
    "\n",
    "# Plot the ROC curve\n",
    "plt.figure(figsize=(8, 8))\n",
    "plt.plot(fpr, tpr, color='darkorange', lw=2, label=f'ROC curve (area = {auc:.2f})')\n",
    "plt.plot([0, 1], [0, 1], color='navy', lw=2, linestyle='--') # Dashed line for random guess\n",
    "plt.xlim([0.0, 1.0])\n",
    "plt.ylim([0.0, 1.05])\n",
    "plt.xlabel('False Positive Rate')\n",
    "plt.ylabel('True Positive Rate')\n",
    "plt.title('Receiver Operating Characteristic (ROC) Curve')\n",
    "plt.legend(loc=\"lower right\")\n",
    "plt.show()"
   ]
  },
  {
   "cell_type": "markdown",
   "metadata": {},
   "source": [
    "An AUC of **0.84** is a very strong result. It indicates that our model has a high capability to distinguish between passengers who survived and those who did not."
   ]
  },
  {
   "cell_type": "markdown",
   "metadata": {},
   "source": [
    "## Section 7: 🎉 Conclusion\n",
    "\n",
    "In this notebook, we embarked on a comprehensive journey to understand and apply Logistic Regression.\n",
    "\n",
    "1.  **Theory**: We started with the core intuition—framing a classification problem as a search for a probabilistic 'S-curve'—and delved into the mathematics of the sigmoid function, log loss, and regularization.\n",
    "2.  **Implementation**: We built a classifier from scratch using pure Python and NumPy to see the gradient descent algorithm in action. \n",
    "3.  **Application**: We then used Scikit-learn's powerful `Pipeline` to build a robust, production-ready model for the Titanic dataset, complete with proper data preprocessing, hyperparameter tuning, and evaluation.\n",
    "4.  **Interpretation**: Crucially, we saw that Logistic Regression is not a black box. By examining its coefficients, we extracted meaningful insights from the data, confirming historical accounts about the tragedy and quantifying the factors that most influenced survival.\n",
    "\n",
    "Logistic Regression remains an essential, powerful, and highly interpretable tool for any data scientist's toolkit. It serves as an excellent baseline model for any binary classification task."
   ]
  }
 ],
 "metadata": {
  "kernelspec": {
   "display_name": "Python 3",
   "language": "python",
   "name": "python3"
  },
  "language_info": {
   "codemirror_mode": {
    "name": "ipython",
    "version": 3
   },
   "file_extension": ".py",
   "mimetype": "text/x-python",
   "name": "python",
   "nbconvert_exporter": "python",
   "pygments_lexer": "ipython3",
   "version": "3.9.12"
  }
 },
 "nbformat": 4,
 "nbformat_minor": 2
}
