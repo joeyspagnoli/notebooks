{
 "cells": [
  {
   "cell_type": "markdown",
   "metadata": {},
   "source": [
    "# Chapter 4: Exploring Level by Level with BFS"
   ]
  },
  {
   "cell_type": "code",
   "execution_count": 1,
   "metadata": {},
   "outputs": [],
   "source": [
    "from collections import deque\n",
    "from typing import List, Optional"
   ]
  },
  {
   "cell_type": "markdown",
   "metadata": {},
   "source": [
    "## 4.1 The Ripple Effect: Breadth-First Search\n",
    "\n",
    "### Intuition\n",
    "Breadth-First Search (BFS) is a graph traversal algorithm that explores nodes and edges in layers. Imagine dropping a stone into a still pond. The ripple expands outwards from the center, reaching all points at a distance of one unit, then all points at a distance of two units, and so on. BFS operates on the same principle. It starts at a source node and explores its immediate neighbors first. Only after it has visited all nodes at the current \"level\" or \"depth\" does it move on to the next level of neighbors. This level-by-level exploration is the defining characteristic of BFS.\n",
    "\n",
    "### Mechanism\n",
    "To achieve this layer-by-layer traversal, BFS employs a **Queue** data structure, which adheres to a First-In, First-Out (FIFO) policy. The process is as follows:\n",
    "1. Initialize a queue and add the starting (source) node to it.\n",
    "2. Maintain a `visited` set to prevent cycles and redundant processing.\n",
    "3. While the queue is not empty, dequeue a node.\n",
    "4. For the dequeued node, visit all its unvisited neighbors.\n",
    "5. Mark each of these neighbors as visited and enqueue them.\n",
    "\n",
    "By enqueuing all neighbors of a node before processing any of those neighbors' neighbors, BFS ensures that it fully explores depth `d` before any node at depth `d+1` is ever considered.\n",
    "In Python, the `collections.deque` object is a highly optimized double-ended queue, making it the ideal choice for implementing BFS.\n",
    "\n",
    "### Core Strength\n",
    "The primary and most significant application of BFS is **finding the shortest path between two nodes in an unweighted graph**. The path length is measured by the number of edges."
   ]
  },
  {
   "cell_type": "markdown",
   "metadata": {},
   "source": [
    "## 4.2 BFS on Trees: Level-Order Traversal\n",
    "\n",
    "When BFS is applied to a tree data structure, the resulting traversal is known as a **Level-Order Traversal**. Starting from the root, the algorithm visits every node on a level from left to right before moving to the next level. \n",
    "\n",
    "Consider the following binary tree:\n",
    "```\n",
    "      3\n",
    "     / \\\n",
    "    9   20\n",
    "       /  \\\n",
    "      15   7\n",
    "```\n",
    "A level-order traversal would visit the nodes in the following sequence: `[3]`, then `[9, 20]`, and finally `[15, 7]`. This is a direct consequence of the BFS mechanism exploring the graph one layer at a time."
   ]
  },
  {
   "cell_type": "markdown",
   "metadata": {},
   "source": [
    "### Boilerplate: Level-Order Traversal"
   ]
  },
  {
   "cell_type": "code",
   "execution_count": 2,
   "metadata": {},
   "outputs": [
    {
     "name": "stdout",
     "output_type": "stream",
     "text": [
      "Level-order traversal: [[3], [9, 20], [15, 7]]\n"
     ]
    }
   ],
   "source": [
    "# Definition for a binary tree node.\n",
    "class TreeNode:\n",
    "    def __init__(self, val=0, left=None, right=None):\n",
    "        self.val = val\n",
    "        self.left = left\n",
    "        self.right = right\n",
    "\n",
    "def level_order_traversal(root: Optional[TreeNode]) -> List[List[int]]:\n",
    "    \"\"\"Performs level-order traversal on a binary tree using BFS.\"\"\"\n",
    "    if not root:\n",
    "        return []\n",
    "\n",
    "    result = []\n",
    "    queue = deque([root])\n",
    "\n",
    "    while queue:\n",
    "        level_size = len(queue)\n",
    "        current_level_nodes = []\n",
    "\n",
    "        # Iterate through all nodes currently in the queue (i.e., the current level)\n",
    "        for _ in range(level_size):\n",
    "            node = queue.popleft()\n",
    "            current_level_nodes.append(node.val)\n",
    "\n",
    "            # Add children of the current node to the queue for the next level\n",
    "            if node.left:\n",
    "                queue.append(node.left)\n",
    "            if node.right:\n",
    "                queue.append(node.right)\n",
    "        \n",
    "        result.append(current_level_nodes)\n",
    "            \n",
    "    return result\n",
    "\n",
    "# Example Usage:\n",
    "root = TreeNode(3, TreeNode(9), TreeNode(20, TreeNode(15), TreeNode(7)))\n",
    "print(f\"Level-order traversal: {level_order_traversal(root)}\")"
   ]
  },
  {
   "cell_type": "markdown",
   "metadata": {},
   "source": [
    "## 4.3 The Superpower of BFS: Shortest Path in Unweighted Graphs\n",
    "\n",
    "The level-by-level exploration of BFS is precisely why it is guaranteed to find the shortest path in an unweighted graph (or any graph where all edge weights are uniform). \n",
    "\n",
    "Let's revisit the ripple analogy. The first time the ripple (our search) reaches a destination node, it must have traveled along the most direct path. Any other path to that same destination would, by definition, involve more steps and would thus be discovered at a later, outer ripple (a subsequent level in the search). \n",
    "\n",
    "When BFS finds the target node, we can be certain that there is no shorter path to it. This is because to find a shorter path, BFS would have had to discover the target node in an earlier level of the search, which is a contradiction. It found the node at the earliest possible level, which corresponds to the shortest possible path.\n",
    "\n",
    "This stands in stark contrast to Depth-First Search (DFS), which explores as far as possible down one path before backtracking. A DFS might traverse a long, circuitous route to a target node, when a much shorter path may have been available via a different branch near the source."
   ]
  },
  {
   "cell_type": "markdown",
   "metadata": {},
   "source": [
    "## 4.4 Problem Identification: When to Use BFS\n",
    "\n",
    "Recognizing when to apply BFS is a critical skill for technical interviews. The problem statement often contains strong hints. BFS should be the default algorithm when you encounter the following patterns:\n",
    "\n",
    "* The problem explicitly asks for the **shortest path**, **fewest steps**, **minimum number of moves**, or the **fastest time** to get from a source to a destination.\n",
    "* This guarantee only applies if all steps, moves, or edges have the **same weight** (e.g., each move costs 1).\n",
    "* The problem involves a **level-by-level**, \"layer-by-layer,\" or \"ripple-like\" exploration.\n",
    "* Problem descriptions include keywords such as: \"shortest,\" \"minimum,\" \"fewest,\" \"nearest,\" or \"level-order.\"\n",
    "* If you encounter a problem on a grid or matrix that asks for the shortest path from a starting cell to an ending cell (e.g., in a maze), BFS is almost always the optimal approach."
   ]
  },
  {
   "cell_type": "markdown",
   "metadata": {},
   "source": [
    "## 4.5 The BFS Boilerplate (for Grids and Graphs)\n",
    "\n",
    "Many BFS problems, especially those on a 2D grid, can be solved using a standard template. Mastering this boilerplate provides a robust foundation for a wide range of interview questions."
   ]
  },
  {
   "cell_type": "code",
   "execution_count": 3,
   "metadata": {},
   "outputs": [],
   "source": [
    "def bfs_grid_template(grid):\n",
    "    rows, cols = len(grid), len(grid[0])\n",
    "    queue = deque()\n",
    "    visited = set()\n",
    "\n",
    "    # 1. Initialize queue and visited set with starting point(s)\n",
    "    # Example for a single starting point at (0, 0):\n",
    "    # start_row, start_col = 0, 0\n",
    "    # queue.append((start_row, start_col, 0)) # (row, col, distance)\n",
    "    # visited.add((start_row, start_col))\n",
    "\n",
    "    while queue:\n",
    "        # 2. Dequeue the current element\n",
    "        row, col, dist = queue.popleft()\n",
    "\n",
    "        # 3. Check for the goal condition\n",
    "        # if (row, col) is the target:\n",
    "        #     return dist\n",
    "\n",
    "        # 4. Explore neighbors (e.g., 4-directional)\n",
    "        directions = [(0, 1), (0, -1), (1, 0), (-1, 0)]\n",
    "        for dr, dc in directions:\n",
    "            nr, nc = row + dr, col + dc\n",
    "\n",
    "            # 5. Validate the neighbor\n",
    "            if 0 <= nr < rows and 0 <= nc < cols and \\\n",
    "               grid[nr][nc] != 'obstacle' and (nr, nc) not in visited:\n",
    "                \n",
    "                # 6. Mark as visited and enqueue\n",
    "                visited.add((nr, nc))\n",
    "                queue.append((nr, nc, dist + 1))\n",
    "    \n",
    "    return -1 # Target not reachable"
   ]
  },
  {
   "cell_type": "markdown",
   "metadata": {},
   "source": [
    "### Explanation of the Boilerplate Steps\n",
    "\n",
    "1.  **Initialization**: We start by populating the queue with our starting position(s). Crucially, the state stored in the queue often includes not just the coordinates `(row, col)` but also the distance or number of steps taken to reach that state, e.g., `(row, col, distance)`. We also initialize a `visited` set to store the coordinates of cells we have already added to the queue, preventing us from processing the same cell multiple times.\n",
    "2.  **Dequeue**: The main loop of the BFS begins by removing the element at the front of the queue. This ensures we process nodes in the order they were discovered (FIFO), which is the essence of the level-by-level search.\n",
    "3.  **Goal Check**: This is where we determine if the current state `(row, col)` meets the problem's objective. If it does, we can often return the distance immediately, as BFS guarantees this is the shortest path.\n",
    "4.  **Explore Neighbors**: For the current cell, we generate the coordinates of all valid adjacent cells. For a grid, this typically means moving up, down, left, and right.\n",
    "5.  **Validate Neighbor**: Before processing a neighbor, we must perform several checks: \n",
    "    - **Bounds Check**: Is the neighbor `(nr, nc)` within the grid's dimensions? \n",
    "    - **Condition Check**: Does the neighbor meet problem-specific criteria (e.g., it's not a wall or obstacle)?\n",
    "    - **Visited Check**: Have we already enqueued this neighbor? This is vital to avoid infinite loops in graphs with cycles and to ensure efficiency.\n",
    "6.  **Mark and Enqueue**: If a neighbor is valid, we first add it to the `visited` set. It is critical to mark a node as visited *before* enqueuing it, not after dequeuing it. This prevents multiple paths from adding the same node to the queue. We then enqueue the neighbor's state, incrementing the distance by one."
   ]
  },
  {
   "cell_type": "markdown",
   "metadata": {},
   "source": [
    "## 4.6 LeetCode Case Study: \"Rotting Oranges\""
   ]
  },
  {
   "cell_type": "markdown",
   "metadata": {},
   "source": [
    "### Problem Statement\n",
    "\n",
    "**LeetCode 994: Rotting Oranges**\n",
    "\n",
    "You are given an `m x n` grid where each cell can have one of three values:\n",
    "- `0` representing an empty cell,\n",
    "- `1` representing a fresh orange, or\n",
    "- `2` representing a rotten orange.\n",
    "\n",
    "Every minute, any fresh orange that is 4-directionally adjacent to a rotten orange becomes rotten.\n",
    "\n",
    "Return the minimum number of minutes that must elapse until no cell has a fresh orange. If this is impossible, return `-1`."
   ]
  },
  {
   "cell_type": "markdown",
   "metadata": {},
   "source": [
    "### Problem Identification & Strategy\n",
    "\n",
    "Applying our checklist from section 4.4, we can quickly identify this as a BFS problem:\n",
    "* The problem asks for the **\"minimum number of minutes.\"** This is a classic signal for the shortest path.\n",
    "* Each step (a minute) is a uniform cost of 1. The rotting process spreads one layer at a time.\n",
    "* The problem describes a level-by-level process: all oranges adjacent to currently rotten ones become rotten in the next minute simultaneously.\n",
    "\n",
    "The key insight here is that the process does not start from a single source. It begins from *all* initially rotten oranges at the same time. This is a pattern known as **multi-source BFS**. The strategy is to initialize the queue with the coordinates of *all* rotten oranges at `minute = 0`."
   ]
  },
  {
   "cell_type": "markdown",
   "metadata": {},
   "source": [
    "### Step-by-Step Solution Walkthrough\n",
    "\n",
    "Let's trace the algorithm on the grid `[[2,1,1],[1,1,0],[0,1,1]]`.\n",
    "\n",
    "1.  **Initialization**:\n",
    "    - We scan the grid to find all fresh oranges (`fresh_count = 6`) and all initial rotten oranges.\n",
    "    - The queue is initialized with the starting rotten orange: `queue = deque([(0, 0, 0)])` where the tuple is `(row, col, minutes)`.\n",
    "\n",
    "2.  **Minute = 0**:\n",
    "    - Dequeue `(0, 0, 0)`.\n",
    "    - Its neighbors are `(0, 1)` and `(1, 0)`. Both contain fresh oranges.\n",
    "    - We mark them as rotten (change grid value to 2) and enqueue them with `minutes = 1`.\n",
    "    - `queue = deque([(0, 1, 1), (1, 0, 1)])`.\n",
    "    - Grid state: `[[2,2,1],[2,1,0],[0,1,1]]`.\n",
    "\n",
    "3.  **Minute = 1**:\n",
    "    - Dequeue `(0, 1, 1)`. Its fresh neighbors are `(0, 2)`. Enqueue `(0, 2, 2)`.\n",
    "    - Dequeue `(1, 0, 1)`. Its fresh neighbors are `(1, 1)`. Enqueue `(1, 1, 2)`.\n",
    "    - `queue = deque([(0, 2, 2), (1, 1, 2)])`.\n",
    "    - Grid state: `[[2,2,2],[2,2,0],[0,1,1]]`.\n",
    "\n",
    "4.  **Minute = 2**:\n",
    "    - Dequeue `(0, 2, 2)`. It has no fresh neighbors.\n",
    "    - Dequeue `(1, 1, 2)`. Its fresh neighbor is `(2, 1)`. Enqueue `(2, 1, 3)`.\n",
    "    - `queue = deque([(2, 1, 3)])`.\n",
    "    - Grid state: `[[2,2,2],[2,2,0],[0,2,1]]`.\n",
    "\n",
    "5.  **Minute = 3**:\n",
    "    - Dequeue `(2, 1, 3)`. Its fresh neighbor is `(2, 2)`. Enqueue `(2, 2, 4)`.\n",
    "    - `queue = deque([(2, 2, 4)])`.\n",
    "    - Grid state: `[[2,2,2],[2,2,0],[0,2,2]]`.\n",
    "\n",
    "6.  **Minute = 4**:\n",
    "    - Dequeue `(2, 2, 4)`. It has no fresh neighbors. The queue is now empty.\n",
    "    - The last minute recorded was 4. We check if all fresh oranges were turned rotten. They were. The answer is 4."
   ]
  },
  {
   "cell_type": "markdown",
   "metadata": {},
   "source": [
    "### Code Implementation"
   ]
  },
  {
   "cell_type": "code",
   "execution_count": null,
   "metadata": {},
   "outputs": [],
   "source": [
    "class Solution:\n",
    "    def orangesRotting(self, grid: List[List[int]]) -> int:\n",
    "        rows, cols = len(grid), len(grid[0])\n",
    "        queue = deque()\n",
    "        fresh_oranges = 0\n",
    "        \n",
    "        # Step 1: Initialize the queue with all rotten oranges and count fresh oranges.\n",
    "        # This is the multi-source initialization.\n",
    "        for r in range(rows):\n",
    "            for c in range(cols):\n",
    "                if grid[r][c] == 2:\n",
    "                    # (row, col, time)\n",
    "                    queue.append((r, c, 0))\n",
    "                elif grid[r][c] == 1:\n",
    "                    fresh_oranges += 1\n",
    "\n",
    "        # If there are no fresh oranges to begin with, no time is needed.\n",
    "        if fresh_oranges == 0:\n",
    "            return 0\n",
    "            \n",
    "        minutes_elapsed = 0\n",
    "        directions = [(0, 1), (0, -1), (1, 0), (-1, 0)]\n",
    "\n",
    "        # Step 2: Run the BFS process\n",
    "        while queue:\n",
    "            r, c, minutes = queue.popleft()\n",
    "            minutes_elapsed = max(minutes_elapsed, minutes)\n",
    "            \n",
    "            for dr, dc in directions:\n",
    "                nr, nc = r + dr, c + dc\n",
    "                \n",
    "                # Validate the neighbor: in bounds and is a fresh orange\n",
    "                if 0 <= nr < rows and 0 <= nc < cols and grid[nr][nc] == 1:\n",
    "                    # Mark as rotten\n",
    "                    grid[nr][nc] = 2\n",
    "                    # Enqueue for the next minute\n",
    "                    queue.append((nr, nc, minutes + 1))\n",
    "                    # Decrement the count of fresh oranges\n",
    "                    fresh_oranges -= 1\n",
    "        \n",
    "        # Step 3: After BFS, if fresh_oranges is 0, we succeeded. Otherwise, it's impossible.\n",
    "        return minutes_elapsed if fresh_oranges == 0 else -1\n",
    "\n",
    "# Example Usage:\n",
    "solver = Solution()\n",
    "grid = [[2,1,1],[1,1,0],[0,1,1]]\n",
    "result = solver.orangesRotting(grid)\n",
    "print(f\"Minimum minutes required: {result}\") # Expected: 4"
   ]
  },
  {
   "cell_type": "markdown",
   "metadata": {},
   "source": [
    "### Complexity Analysis\n",
    "\n",
    "* **Time Complexity:** $O(R \\cdot C)$, where $R$ is the number of rows and $C$ is the number of columns in the grid. In the worst case, we visit every cell exactly once during the initial scan and exactly once during the BFS traversal. \n",
    "\n",
    "* **Space Complexity:** $O(R \\cdot C)$. In the worst-case scenario, if the entire grid is filled with rotten oranges, the queue would need to store all $R \\cdot C$ cells. Therefore, the space required is proportional to the size of the grid."
   ]
  }
 ],
 "metadata": {
  "kernelspec": {
   "display_name": "venv (3.12.4)",
   "language": "python",
   "name": "python3"
  },
  "language_info": {
   "codemirror_mode": {
    "name": "ipython",
    "version": 3
   },
   "file_extension": ".py",
   "mimetype": "text/x-python",
   "name": "python",
   "nbconvert_exporter": "python",
   "pygments_lexer": "ipython3",
   "version": "3.12.4"
  }
 },
 "nbformat": 4,
 "nbformat_minor": 2
}
