{
 "cells": [
  {
   "cell_type": "markdown",
   "metadata": {},
   "source": [
    "# A LeetCoder's Guide to Graph Traversal"
   ]
  },
  {
   "cell_type": "markdown",
   "metadata": {},
   "source": [
    "## Chapter 1: How to Think in Graphs"
   ]
  },
  {
   "cell_type": "markdown",
   "metadata": {},
   "source": [
    "Welcome! Many LeetCode problems, even those that don't seem to mention graphs, are secretly graph problems in disguise. The key is to abstract the problem into a set of **nodes** (states or items) and **edges** (transitions or relationships). Once you see the graph, you can unlock a powerful toolbox of well-known algorithms to solve the problem systematically."
   ]
  },
  {
   "cell_type": "markdown",
   "metadata": {},
   "source": [
    "### How to Spot a Graph Problem 🕵️‍♀️\n",
    "\n",
    "Look for these common patterns:\n",
    "\n",
    "- **States and Transitions:** The problem involves moving from one state to another. A classic example is **Word Ladder (LC #127)**, where each word is a node, and an edge exists between two words if they are one letter apart. You are finding a path from a start state to an end state.\n",
    "\n",
    "- **Explicit Relationships:** The problem directly describes relationships between objects. This is common in problems involving course prerequisites, social networks, or dependencies. Each object is a node, and the relationship forms an edge.\n",
    "\n",
    "- **Grid/Matrix Traversal:** Many problems are set on a 2D grid. Think of each cell `(row, col)` as a node. The edges are implicit: they connect a cell to its adjacent neighbors (up, down, left, right). Problems like **Number of Islands (LC #200)** are classic examples."
   ]
  },
  {
   "cell_type": "markdown",
   "metadata": {},
   "source": [
    "## Chapter 2: Representing a Graph"
   ]
  },
  {
   "cell_type": "markdown",
   "metadata": {},
   "source": [
    "Before we can traverse a graph, we need to build it in memory. There are three common ways to represent a graph, but one is dominant in coding interviews."
   ]
  },
  {
   "cell_type": "markdown",
   "metadata": {},
   "source": [
    "### Adjacency List\n",
    "\n",
    "This is the most common and versatile representation for interviews. It's a dictionary (or a hash map) where each key is a node, and its value is a list of its neighbors.\n",
    "\n",
    "- **Pros:** Space-efficient for sparse graphs (where the number of edges is much less than the number of possible edges). Iterating through a node's neighbors is very fast.\n",
    "- **Cons:** Checking for the existence of a specific edge `(u, v)` can be slower, taking O(k) time where k is the number of neighbors of `u`."
   ]
  },
  {
   "cell_type": "code",
   "execution_count": null,
   "metadata": {},
   "outputs": [],
   "source": [
    "from collections import defaultdict\n",
    "\n",
    "def build_adjacency_list(edges):\n",
    "    \"\"\"Builds an adjacency list from a list of edges.\"\"\"\n",
    "    adj = defaultdict(list)\n",
    "    for u, v in edges:\n",
    "        adj[u].append(v)\n",
    "        # For an undirected graph, add the reverse edge as well\n",
    "        # adj[v].append(u)\n",
    "    return adj\n",
    "\n",
    "# Example Usage:\n",
    "edges = [['A', 'B'], ['B', 'C'], ['A', 'C'], ['C', 'D']]\n",
    "adjacency_list = build_adjacency_list(edges)\n",
    "print(dict(adjacency_list))"
   ]
  },
  {
   "cell_type": "markdown",
   "metadata": {},
   "source": [
    "### Adjacency Matrix\n",
    "\n",
    "An $N \\times N$ matrix where $N$ is the number of nodes. The entry `matrix[i][j]` is 1 (or the edge weight) if an edge exists from node `i` to node `j`, and 0 otherwise.\n",
    "\n",
    "- **Pros:** Checking for the existence of an edge `(i, j)` is very fast, an O(1) operation.\n",
    "- **Cons:** Requires $O(N^2)$ space, which is inefficient for sparse graphs. Adding or removing nodes is costly."
   ]
  },
  {
   "cell_type": "markdown",
   "metadata": {},
   "source": [
    "## Chapter 3: The 5-Step Framework for Graph Problems"
   ]
  },
  {
   "cell_type": "markdown",
   "metadata": {},
   "source": [
    "Use this systematic approach to deconstruct any graph problem you encounter.\n",
    "\n",
    "1.  **Identify**: Recognize the problem as a graph problem by looking for the patterns mentioned in Chapter 1.\n",
    "2.  **Model**: Clearly define what the nodes and edges represent. Are edges directed or undirected? Are they weighted?\n",
    "3.  **Select**: Choose the right traversal algorithm based on the problem's requirements:\n",
    "    - **DFS**: Path existence, cycle detection, topological sort, finding connected components.\n",
    "    - **BFS**: Shortest path in an *unweighted* graph.\n",
    "    - **Dijkstra's**: Shortest path in a *weighted* graph with non-negative weights.\n",
    "    - **Topological Sort**: Problems with dependencies or prerequisites.\n",
    "4.  **Implement**: Use a standard boilerplate template for your chosen algorithm. This minimizes bugs and saves time.\n",
    "5.  **Verify**: Test your implementation with edge cases like empty graphs, disconnected components, and cycles."
   ]
  },
  {
   "cell_type": "markdown",
   "metadata": {},
   "source": [
    "## Chapter 4: Depth-First Search (DFS) 🌲"
   ]
  },
  {
   "cell_type": "markdown",
   "metadata": {},
   "source": [
    "**Intuition**: DFS explores as far as possible down one path before backtracking. Imagine navigating a maze by always taking the first path you see, and when you hit a dead end, you backtrack to the last junction and try the next available path.\n",
    "\n",
    "**Use Cases**: \n",
    "- Finding if a path exists between two nodes.\n",
    "- Detecting cycles in a graph.\n",
    "- Finding all connected components.\n",
    "- Topological sorting (a variation of DFS)."
   ]
  },
  {
   "cell_type": "markdown",
   "metadata": {},
   "source": [
    "### Boilerplate Code (Recursive & Iterative)\n",
    "\n",
    "DFS can be implemented elegantly with recursion (using the call stack) or iteratively with an explicit stack."
   ]
  },
  {
   "cell_type": "code",
   "execution_count": null,
   "metadata": {},
   "outputs": [],
   "source": [
    "# Recursive DFS Boilerplate\n",
    "def dfs_recursive(graph, start_node, visited=None):\n",
    "    if visited is None:\n",
    "        visited = set()\n",
    "    \n",
    "    visited.add(start_node)\n",
    "    print(start_node, end=' ')\n",
    "    \n",
    "    for neighbor in graph.get(start_node, []):\n",
    "        if neighbor not in visited:\n",
    "            dfs_recursive(graph, neighbor, visited)\n",
    "\n",
    "# Iterative DFS Boilerplate\n",
    "def dfs_iterative(graph, start_node):\n",
    "    visited = set()\n",
    "    stack = [start_node]\n",
    "    \n",
    "    while stack:\n",
    "        node = stack.pop()\n",
    "        if node not in visited:\n",
    "            visited.add(node)\n",
    "            print(node, end=' ')\n",
    "            # Add neighbors to the stack in reverse to process them in order\n",
    "            for neighbor in reversed(graph.get(node, [])):\n",
    "                if neighbor not in visited:\n",
    "                    stack.append(neighbor)"
   ]
  },
  {
   "cell_type": "markdown",
   "metadata": {},
   "source": [
    "### LeetCode Case Study: Number of Islands (LC #200)\n",
    "\n",
    "Given an `m x n` 2D binary grid which represents a map of '1's (land) and '0's (water), return the number of islands. An island is surrounded by water and is formed by connecting adjacent lands horizontally or vertically."
   ]
  },
  {
   "cell_type": "code",
   "execution_count": null,
   "metadata": {},
   "outputs": [],
   "source": [
    "from typing import List\n",
    "\n",
    "class Solution_NumberOfIslands:\n",
    "    def numIslands(self, grid: List[List[str]]) -> int:\n",
    "        if not grid:\n",
    "            return 0\n",
    "\n",
    "        rows, cols = len(grid), len(grid[0])\n",
    "        num_islands = 0\n",
    "\n",
    "        def dfs(r, c):\n",
    "            # Boundary and water check\n",
    "            if r < 0 or c < 0 or r >= rows or c >= cols or grid[r][c] == '0':\n",
    "                return\n",
    "\n",
    "            # Mark the current cell as visited by changing it to '0'\n",
    "            grid[r][c] = '0'\n",
    "\n",
    "            # Explore neighbors\n",
    "            dfs(r + 1, c)\n",
    "            dfs(r - 1, c)\n",
    "            dfs(r, c + 1)\n",
    "            dfs(r, c - 1)\n",
    "\n",
    "        for r in range(rows):\n",
    "            for c in range(cols):\n",
    "                if grid[r][c] == '1':\n",
    "                    # Found a new island, explore it completely\n",
    "                    dfs(r, c)\n",
    "                    num_islands += 1\n",
    "        \n",
    "        return num_islands\n",
    "\n",
    "# Example Usage:\n",
    "solver = Solution_NumberOfIslands()\n",
    "grid = [\n",
    "  [\"1\",\"1\",\"0\",\"0\",\"0\"],\n",
    "  [\"1\",\"1\",\"0\",\"0\",\"0\"],\n",
    "  [\"0\",\"0\",\"1\",\"0\",\"0\"],\n",
    "  [\"0\",\"0\",\"0\",\"1\",\"1\"]\n",
    "]\n",
    "print(f\"Number of Islands: {solver.numIslands(grid)}\") # Expected: 3"
   ]
  },
  {
   "cell_type": "markdown",
   "metadata": {},
   "source": [
    "## Chapter 5: Breadth-First Search (BFS) 🌊"
   ]
  },
  {
   "cell_type": "markdown",
   "metadata": {},
   "source": [
    "**Intuition**: BFS explores nodes level by level. It starts at a source node and explores all its immediate neighbors first, then their neighbors, and so on. Imagine ripples spreading out from a stone dropped in a pond.\n",
    "\n",
    "**Core Strength**: Because of its level-by-level nature, BFS is the go-to algorithm for finding the **shortest path in an unweighted graph**."
   ]
  },
  {
   "cell_type": "markdown",
   "metadata": {},
   "source": [
    "### Boilerplate Code\n",
    "\n",
    "BFS is implemented iteratively using a queue (`deque` in Python) to keep track of the nodes to visit next."
   ]
  },
  {
   "cell_type": "code",
   "execution_count": null,
   "metadata": {},
   "outputs": [],
   "source": [
    "from collections import deque\n",
    "\n",
    "def bfs(graph, start_node):\n",
    "    visited = set()\n",
    "    queue = deque([start_node])\n",
    "    visited.add(start_node) # Mark as visited when enqueued\n",
    "    \n",
    "    while queue:\n",
    "        node = queue.popleft()\n",
    "        print(node, end=' ')\n",
    "        \n",
    "        for neighbor in graph.get(node, []):\n",
    "            if neighbor not in visited:\n",
    "                visited.add(neighbor)\n",
    "                queue.append(neighbor)"
   ]
  },
  {
   "cell_type": "markdown",
   "metadata": {},
   "source": [
    "### LeetCode Case Study: Word Ladder (LC #127)\n",
    "\n",
    "Given two words, `beginWord` and `endWord`, and a dictionary `wordList`, return the length of the shortest transformation sequence from `beginWord` to `endWord`, such that only one letter can be changed at a time and each transformed word must exist in the word list."
   ]
  },
  {
   "cell_type": "code",
   "execution_count": null,
   "metadata": {},
   "outputs": [],
   "source": [
    "from collections import deque\n",
    "from typing import List\n",
    "\n",
    "class Solution_WordLadder:\n",
    "    def ladderLength(self, beginWord: str, endWord: str, wordList: List[str]) -> int:\n",
    "        wordSet = set(wordList)\n",
    "        if endWord not in wordSet:\n",
    "            return 0\n",
    "        \n",
    "        queue = deque([(beginWord, 1)]) # (word, length of path)\n",
    "        visited = {beginWord}\n",
    "        \n",
    "        while queue:\n",
    "            current_word, length = queue.popleft()\n",
    "            \n",
    "            if current_word == endWord:\n",
    "                return length\n",
    "            \n",
    "            # Find all possible next words by changing one letter\n",
    "            for i in range(len(current_word)):\n",
    "                for char_code in range(ord('a'), ord('z') + 1):\n",
    "                    char = chr(char_code)\n",
    "                    next_word = current_word[:i] + char + current_word[i+1:]\n",
    "                    \n",
    "                    if next_word in wordSet and next_word not in visited:\n",
    "                        visited.add(next_word)\n",
    "                        queue.append((next_word, length + 1))\n",
    "                        \n",
    "        return 0 # End word not reachable\n",
    "\n",
    "# Example Usage:\n",
    "solver = Solution_WordLadder()\n",
    "beginWord = \"hit\"\n",
    "endWord = \"cog\"\n",
    "wordList = [\"hot\",\"dot\",\"dog\",\"lot\",\"log\",\"cog\"]\n",
    "print(f\"Shortest ladder length: {solver.ladderLength(beginWord, endWord, wordList)}\") # Expected: 5"
   ]
  },
  {
   "cell_type": "markdown",
   "metadata": {},
   "source": [
    "## Chapter 6: Dijkstra's Algorithm ⚖️"
   ]
  },
  {
   "cell_type": "markdown",
   "metadata": {},
   "source": [
    "**Why BFS Fails**: BFS finds the shortest path in terms of the *number of edges*. It treats every edge as having a weight of 1. When edges have different weights (costs), BFS is no longer guaranteed to find the cheapest path.\n",
    "\n",
    "**Dijkstra's Algorithm**: Solves the single-source shortest path problem for a **weighted directed graph with non-negative edge weights**."
   ]
  },
  {
   "cell_type": "markdown",
   "metadata": {},
   "source": [
    "### Mechanism\n",
    "\n",
    "Dijkstra's works by maintaining a set of visited nodes and the current shortest known distance to every other node. It uses a **greedy** approach:\n",
    "\n",
    "1.  Start at the source node, with a distance of 0.\n",
    "2.  At each step, select the unvisited node with the smallest known distance.\n",
    "3.  Visit this node and \"relax\" its neighbors: for each neighbor, check if the path through the current node is shorter than its previously known shortest path. If so, update it.\n",
    "4.  Repeat until the destination is visited or all reachable nodes have been visited.\n",
    "\n",
    "A **Priority Queue (min-heap)** is used to efficiently select the unvisited node with the smallest distance in step 2."
   ]
  },
  {
   "cell_type": "markdown",
   "metadata": {},
   "source": [
    "### Boilerplate Code\n",
    "We use Python's `heapq` module to implement the priority queue."
   ]
  },
  {
   "cell_type": "code",
   "execution_count": null,
   "metadata": {},
   "outputs": [],
   "source": [
    "import heapq\n",
    "\n",
    "def dijkstra(graph, start):\n",
    "    # distances dictionary to store the shortest distance from start to every other node\n",
    "    distances = {node: float('inf') for node in graph}\n",
    "    distances[start] = 0\n",
    "    \n",
    "    # Priority queue stores tuples of (distance, node)\n",
    "    priority_queue = [(0, start)]\n",
    "    \n",
    "    while priority_queue:\n",
    "        current_distance, current_node = heapq.heappop(priority_queue)\n",
    "        \n",
    "        # If we found a shorter path already, skip\n",
    "        if current_distance > distances[current_node]:\n",
    "            continue\n",
    "            \n",
    "        # Explore neighbors\n",
    "        for neighbor, weight in graph[current_node].items():\n",
    "            distance = current_distance + weight\n",
    "            \n",
    "            # If we found a shorter path to the neighbor, update it\n",
    "            if distance < distances[neighbor]:\n",
    "                distances[neighbor] = distance\n",
    "                heapq.heappush(priority_queue, (distance, neighbor))\n",
    "                \n",
    "    return distances"
   ]
  },
  {
   "cell_type": "markdown",
   "metadata": {},
   "source": [
    "### LeetCode Case Study: Network Delay Time (LC #743)\n",
    "\n",
    "You are given a network of `n` nodes, labeled from `1` to `n`. You are also given `times`, a list of travel times as directed edges `times[i] = (u, v, w)`, where `u` is the source node, `v` is the target node, and `w` is the time it takes for a signal to travel from source to target. We will send a signal from a given node `k`. Return the time it takes for all `n` nodes to receive the signal. If it is impossible for all `n` nodes to receive the signal, return `-1`."
   ]
  },
  {
   "cell_type": "code",
   "execution_count": null,
   "metadata": {},
   "outputs": [],
   "source": [
    "import heapq\n",
    "from collections import defaultdict\n",
    "from typing import List\n",
    "\n",
    "class Solution_NetworkDelay:\n",
    "    def networkDelayTime(self, times: List[List[int]], n: int, k: int) -> int:\n",
    "        # 1. Build the adjacency list\n",
    "        adj = defaultdict(list)\n",
    "        for u, v, w in times:\n",
    "            adj[u].append((v, w))\n",
    "        \n",
    "        # 2. Initialize distances and priority queue\n",
    "        distances = {i: float('inf') for i in range(1, n + 1)}\n",
    "        distances[k] = 0\n",
    "        pq = [(0, k)] # (distance, node)\n",
    "        visited_count = 0\n",
    "        \n",
    "        # 3. Dijkstra's Algorithm\n",
    "        while pq:\n",
    "            dist, node = heapq.heappop(pq)\n",
    "            \n",
    "            if dist > distances[node]:\n",
    "                continue\n",
    "            \n",
    "            visited_count += 1\n",
    "\n",
    "            for neighbor, weight in adj[node]:\n",
    "                new_dist = dist + weight\n",
    "                if new_dist < distances[neighbor]:\n",
    "                    distances[neighbor] = new_dist\n",
    "                    heapq.heappush(pq, (new_dist, neighbor))\n",
    "        \n",
    "        # 4. Find the result\n",
    "        max_delay = max(distances.values())\n",
    "        \n",
    "        return max_delay if max_delay != float('inf') else -1\n",
    "\n",
    "# Example Usage:\n",
    "solver = Solution_NetworkDelay()\n",
    "times = [[2,1,1],[2,3,1],[3,4,1]]\n",
    "n = 4\n",
    "k = 2\n",
    "print(f\"Network Delay Time: {solver.networkDelayTime(times, n, k)}\") # Expected: 2"
   ]
  },
  {
   "cell_type": "markdown",
   "metadata": {},
   "source": [
    "## Chapter 7: Topological Sort 📚"
   ]
  },
  {
   "cell_type": "markdown",
   "metadata": {},
   "source": [
    "**Intuition**: A topological sort is a linear ordering of nodes such that for every directed edge from node `u` to node `v`, node `u` comes before node `v` in the ordering. Think of it as ordering tasks with dependencies, like course prerequisites. You must take 'Calculus I' before 'Calculus II'.\n",
    "\n",
    "**Key Constraint**: Topological sort is only possible on a **Directed Acyclic Graph (DAG)**. If a cycle exists (e.g., A depends on B, and B depends on A), no valid ordering is possible."
   ]
  },
  {
   "cell_type": "markdown",
   "metadata": {},
   "source": [
    "### Mechanism (Kahn's Algorithm)\n",
    "\n",
    "Kahn's algorithm is an intuitive, BFS-based approach:\n",
    "\n",
    "1.  **Compute In-degrees**: For each node, count how many incoming edges it has.\n",
    "2.  **Initialize Queue**: Add all nodes with an in-degree of 0 to a queue. These are the starting points with no prerequisites.\n",
    "3.  **Process Nodes**: \n",
    "    - Dequeue a node and add it to the sorted list.\n",
    "    - For each of its neighbors, decrement their in-degree by 1 (since we've \"completed\" the prerequisite).\n",
    "    - If a neighbor's in-degree becomes 0, enqueue it.\n",
    "4.  **Check for Cycles**: If the final sorted list contains fewer nodes than the total number of nodes in the graph, a cycle must exist."
   ]
  },
  {
   "cell_type": "markdown",
   "metadata": {},
   "source": [
    "### Boilerplate Code"
   ]
  },
  {
   "cell_type": "code",
   "execution_count": null,
   "metadata": {},
   "outputs": [],
   "source": [
    "from collections import defaultdict, deque\n",
    "\n",
    "def topological_sort(nodes, edges):\n",
    "    adj = defaultdict(list)\n",
    "    in_degree = {node: 0 for node in nodes}\n",
    "    \n",
    "    for u, v in edges:\n",
    "        adj[u].append(v)\n",
    "        in_degree[v] += 1\n",
    "        \n",
    "    queue = deque([node for node in nodes if in_degree[node] == 0])\n",
    "    sorted_order = []\n",
    "    \n",
    "    while queue:\n",
    "        node = queue.popleft()\n",
    "        sorted_order.append(node)\n",
    "        \n",
    "        for neighbor in adj[node]:\n",
    "            in_degree[neighbor] -= 1\n",
    "            if in_degree[neighbor] == 0:\n",
    "                queue.append(neighbor)\n",
    "                \n",
    "    if len(sorted_order) == len(nodes):\n",
    "        return sorted_order\n",
    "    else:\n",
    "        return [] # Cycle detected"
   ]
  },
  {
   "cell_type": "markdown",
   "metadata": {},
   "source": [
    "### LeetCode Case Study: Course Schedule II (LC #210)\n",
    "\n",
    "There are a total of `numCourses` courses you have to take, labeled from `0` to `numCourses - 1`. You are given an array `prerequisites` where `prerequisites[i] = [ai, bi]` indicates that you must take course `bi` first if you want to take course `ai`. Return the ordering of courses you should take to finish all courses. If there are many valid answers, return any of them. If it is impossible to finish all courses, return an empty array."
   ]
  },
  {
   "cell_type": "code",
   "execution_count": null,
   "metadata": {},
   "outputs": [],
   "source": [
    "from collections import defaultdict, deque\n",
    "from typing import List\n",
    "\n",
    "class Solution_CourseSchedule:\n",
    "    def findOrder(self, numCourses: int, prerequisites: List[List[int]]) -> List[int]:\n",
    "        # 1. Build adjacency list and in-degree map\n",
    "        adj = defaultdict(list)\n",
    "        in_degree = {i: 0 for i in range(numCourses)}\n",
    "        \n",
    "        for course, prereq in prerequisites:\n",
    "            adj[prereq].append(course)\n",
    "            in_degree[course] += 1\n",
    "            \n",
    "        # 2. Initialize queue with courses having no prerequisites\n",
    "        queue = deque([c for c in range(numCourses) if in_degree[c] == 0])\n",
    "        sorted_order = []\n",
    "        \n",
    "        # 3. Process courses\n",
    "        while queue:\n",
    "            prereq = queue.popleft()\n",
    "            sorted_order.append(prereq)\n",
    "            \n",
    "            for course in adj[prereq]:\n",
    "                in_degree[course] -= 1\n",
    "                if in_degree[course] == 0:\n",
    "                    queue.append(course)\n",
    "                    \n",
    "        # 4. Check for cycle\n",
    "        if len(sorted_order) == numCourses:\n",
    "            return sorted_order\n",
    "        else:\n",
    "            return []\n",
    "\n",
    "# Example Usage:\n",
    "solver = Solution_CourseSchedule()\n",
    "numCourses = 4\n",
    "prerequisites = [[1,0],[2,0],[3,1],[3,2]]\n",
    "print(f\"Course order: {solver.findOrder(numCourses, prerequisites)}\") # Expected: [0, 1, 2, 3] or [0, 2, 1, 3]"
   ]
  },
  {
   "cell_type": "markdown",
   "metadata": {},
   "source": [
    "## Chapter 8: Deep Dive: Traversal on a 2D Matrix/Grid 🗺️"
   ]
  },
  {
   "cell_type": "markdown",
   "metadata": {},
   "source": [
    "### The Grid is an Implicit Graph\n",
    "\n",
    "In many problems, the graph isn't given to you as a list of edges. Instead, it's a grid. In this case:\n",
    "- A **node** is a cell at coordinates `(row, col)`.\n",
    "- An **edge** is an implicit connection between a cell and its adjacent neighbors (e.g., up, down, left, right).\n",
    "\n",
    "You don't need to build an explicit adjacency list. You can compute a cell's neighbors on the fly."
   ]
  },
  {
   "cell_type": "markdown",
   "metadata": {},
   "source": [
    "### Core Pattern 1: The Directions Array\n",
    "\n",
    "To avoid messy `if` statements for checking all four neighbors ( `(r+1, c)`, `(r-1, c)`, etc.), use a `directions` array. This makes your code cleaner and less error-prone, especially if you need 8-way movement."
   ]
  },
  {
   "cell_type": "code",
   "execution_count": null,
   "metadata": {},
   "outputs": [],
   "source": [
    "# A clean way to iterate through neighbors\n",
    "# (dr, dc) = (change in row, change in col)\n",
    "directions = [(0, 1), (0, -1), (1, 0), (-1, 0)] # Right, Left, Down, Up"
   ]
  },
  {
   "cell_type": "markdown",
   "metadata": {},
   "source": [
    "### Core Pattern 2: Tracking Visited Cells\n",
    "\n",
    "To avoid infinite loops and redundant work, you must keep track of which cells you've already visited. There are two main strategies:\n",
    "\n",
    "#### Method A: Auxiliary `visited` Matrix\n",
    "Create a separate boolean matrix of the same dimensions as the grid.\n",
    "```python\n",
    "visited = [[False] * COLS for _ in range(ROWS)]\n",
    "```\n",
    "- **Pros**: Non-destructive. It doesn't modify the original input grid, which is good practice.\n",
    "- **Cons**: Requires $O(R \\cdot C)$ extra space.\n",
    "\n",
    "#### Method B: In-Place Modification\n",
    "Modify the input grid itself to mark cells as visited (e.g., changing a '1' to a '#' or a land cell to a water cell).\n",
    "- **Pros**: $O(1)$ extra space, which can be a requirement in some problems.\n",
    "- **Cons**: Mutates the input. Always clarify with your interviewer if this is acceptable."
   ]
  },
  {
   "cell_type": "markdown",
   "metadata": {},
   "source": [
    "### Grid DFS: Boilerplate\n",
    "\n",
    "A recursive approach is often the most concise for grid DFS. The function call stack naturally handles the \"stack\" data structure for you."
   ]
  },
  {
   "cell_type": "code",
   "execution_count": null,
   "metadata": {},
   "outputs": [],
   "source": [
    "class GridDFS_Boilerplate:\n",
    "    def solve(self, grid):\n",
    "        if not grid:\n",
    "            return\n",
    "        \n",
    "        self.rows, self.cols = len(grid), len(grid[0])\n",
    "        self.grid = grid\n",
    "        self.visited = set() # Use a set of (r, c) tuples for sparse grids\n",
    "        \n",
    "        # Start traversal from a starting cell, e.g., (0, 0)\n",
    "        self.dfs(0, 0)\n",
    "        \n",
    "    def dfs(self, r, c):\n",
    "        # 1. Boundary Check\n",
    "        if not (0 <= r < self.rows and 0 <= c < self.cols):\n",
    "            return\n",
    "            \n",
    "        # 2. Visited Check (and any other invalid condition)\n",
    "        if (r, c) in self.visited: # or self.grid[r][c] == 'obstacle':\n",
    "            return\n",
    "            \n",
    "        # Mark as visited\n",
    "        self.visited.add((r, c))\n",
    "        \n",
    "        # --- Process the current cell --- \n",
    "        print(f\"Visiting ({r}, {c})\")\n",
    "        \n",
    "        # 3. Explore neighbors\n",
    "        directions = [(0, 1), (0, -1), (1, 0), (-1, 0)]\n",
    "        for dr, dc in directions:\n",
    "            self.dfs(r + dr, c + dc)"
   ]
  },
  {
   "cell_type": "markdown",
   "metadata": {},
   "source": [
    "### Grid BFS: Boilerplate\n",
    "\n",
    "An iterative, queue-based approach is required for BFS. This is essential for finding the shortest path in a grid (e.g., shortest maze exit)."
   ]
  },
  {
   "cell_type": "code",
   "execution_count": null,
   "metadata": {},
   "outputs": [],
   "source": [
    "from collections import deque\n",
    "\n",
    "class GridBFS_Boilerplate:\n",
    "    def solve(self, grid, start_r, start_c):\n",
    "        if not grid:\n",
    "            return\n",
    "        \n",
    "        rows, cols = len(grid), len(grid[0])\n",
    "        \n",
    "        # 1. Initialize queue and visited set\n",
    "        queue = deque([(start_r, start_c, 0)]) # (row, col, distance)\n",
    "        visited = {(start_r, start_c)}\n",
    "        \n",
    "        directions = [(0, 1), (0, -1), (1, 0), (-1, 0)]\n",
    "        \n",
    "        while queue:\n",
    "            r, c, dist = queue.popleft()\n",
    "            \n",
    "            # --- Process the current cell --- \n",
    "            print(f\"Visiting ({r}, {c}) at distance {dist}\")\n",
    "            \n",
    "            # 2. Explore neighbors\n",
    "            for dr, dc in directions:\n",
    "                new_r, new_c = r + dr, c + dc\n",
    "                \n",
    "                # 3. Boundary and Visited Checks\n",
    "                if (0 <= new_r < rows and 0 <= new_c < cols and\n",
    "                        (new_r, new_c) not in visited):\n",
    "                    \n",
    "                    # Mark visited *immediately* after adding to queue\n",
    "                    visited.add((new_r, new_c))\n",
    "                    queue.append((new_r, new_c, dist + 1))"
   ]
  },
  {
   "cell_type": "markdown",
   "metadata": {},
   "source": [
    "### Common Pitfalls ⚠️\n",
    "\n",
    "- **Boundary Checks**: Always the first thing you should check in your traversal function. Forgetting `0 <= new_r < ROWS` and `0 <= new_c < COLS` is a common source of errors.\n",
    "\n",
    "- **Visited Timing (BFS)**: This is a critical and subtle bug. **You must mark a cell as visited immediately after adding it to the queue**, not when you pop it from the queue. If you wait until you pop it, the same cell can be added to the queue multiple times by different neighbors, leading to incorrect results and TLE (Time Limit Exceeded)."
   ]
  },
  {
   "cell_type": "markdown",
   "metadata": {},
   "source": [
    "## Chapter 9: Other Key Concepts & Patterns"
   ]
  },
  {
   "cell_type": "markdown",
   "metadata": {},
   "source": [
    "### Cycle Detection\n",
    "\n",
    "- **Undirected Graph**: During a DFS, if you encounter a neighbor that is already visited but is *not* the immediate parent of the current node, you have found a cycle.\n",
    "- **Directed Graph**: During a DFS, keep track of nodes currently in the recursion stack. If you encounter a node that is already in the current recursion stack, you have found a back edge, which means there is a cycle. This is often implemented with a three-color system (white: unvisited, gray: visiting, black: visited)."
   ]
  },
  {
   "cell_type": "markdown",
   "metadata": {},
   "source": [
    "### Bipartite Graphs\n",
    "\n",
    "A graph is bipartite if its vertices can be divided into two disjoint and independent sets, U and V, such that every edge connects a vertex in U to one in V. In other words, you can \"2-color\" the graph such that no two adjacent nodes have the same color.\n",
    "\n",
    "**Implementation**: Use BFS or DFS. Start by coloring the source node with one color (e.g., 1). Then, traverse the graph. For every neighbor of a node, color it with the opposite color. If you ever find a neighbor that is already colored with the *same* color as the current node, the graph is not bipartite."
   ]
  },
  {
   "cell_type": "markdown",
   "metadata": {},
   "source": [
    "### LeetCode Examples\n",
    "\n",
    "- **Cycle Detection**: [Course Schedule (LC #207)](https://leetcode.com/problems/course-schedule/) - This is the canonical problem for detecting cycles in a directed graph.\n",
    "- **Bipartiteness**: [Is Graph Bipartite? (LC #785)](https://leetcode.com/problems/is-graph-bipartite/) - A direct application of the 2-coloring algorithm."
   ]
  }
 ],
 "metadata": {
  "kernelspec": {
   "display_name": "venv (3.12.4)",
   "language": "python",
   "name": "python3"
  },
  "language_info": {
   "codemirror_mode": {
    "name": "ipython",
    "version": 3
   },
   "file_extension": ".py",
   "mimetype": "text/x-python",
   "name": "python",
   "nbconvert_exporter": "python",
   "pygments_lexer": "ipython3",
   "version": "3.12.4"
  }
 },
 "nbformat": 4,
 "nbformat_minor": 2
}
