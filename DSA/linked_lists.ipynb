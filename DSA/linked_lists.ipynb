{
 "cells": [
  {
   "cell_type": "markdown",
   "metadata": {},
   "source": [
    "# A LeetCoder's Guide to Linked Lists"
   ]
  },
  {
   "cell_type": "markdown",
   "metadata": {},
   "source": [
    "## 📖 Chapter 1: Introduction to Linked Lists\n",
    "\n",
    "Welcome to the ultimate guide for mastering Linked Lists for your coding interviews! Linked lists are fundamental data structures that appear frequently in LeetCode problems. Unlike arrays, they are not stored in contiguous memory locations.\n",
    "\n",
    "A linked list is a chain of **nodes**. Each node contains two key pieces of information:\n",
    "1.  `val`: The data or value stored in the node.\n",
    "2.  `next`: A pointer (or reference) to the very next node in the chain. The last node's `next` pointer points to `None` (or `null`), signifying the end of the list."
   ]
  },
  {
   "cell_type": "code",
   "execution_count": 1,
   "metadata": {},
   "outputs": [],
   "source": [
    "# This is the standard definition for a singly-linked list node.\n",
    "# We will use this class definition for all problems in this guide.\n",
    "class ListNode:\n",
    "    def __init__(self, val=0, next=None):\n",
    "        self.val = val\n",
    "        self.next = next\n",
    "\n",
    "    # Optional: A helper function to print the list from this node\n",
    "    def __repr__(self):\n",
    "        result = []\n",
    "        curr = self\n",
    "        while curr:\n",
    "            result.append(str(curr.val))\n",
    "            curr = curr.next\n",
    "        return \" -> \".join(result)"
   ]
  },
  {
   "cell_type": "markdown",
   "metadata": {},
   "source": [
    "## 🏃‍♂️ Chapter 2: The Two-Pointer Technique\n",
    "\n",
    "If there is one pattern to rule them all for linked lists, it's the **Two-Pointer Technique**. Nearly every medium-to-hard linked list problem uses a variation of this pattern. It involves using two different pointers that traverse the list at different speeds or starting points to gather information."
   ]
  },
  {
   "cell_type": "markdown",
   "metadata": {},
   "source": [
    "### Variation 1: Fast & Slow Pointers\n",
    "\n",
    "This is the most common variation. You have two pointers, `slow` and `fast`.\n",
    "- `slow` moves one step at a time (`slow = slow.next`).\n",
    "- `fast` moves two steps at a time (`fast = fast.next.next`).\n",
    "\n",
    "**Common Use Cases:**\n",
    "1.  **Detecting a cycle:** If the `fast` pointer ever catches up to the `slow` pointer, there's a cycle. If `fast` reaches the end (`None`), there isn't.\n",
    "2.  **Finding the middle of a list:** When the `fast` pointer reaches the end of the list, the `slow` pointer will be exactly at the middle."
   ]
  },
  {
   "cell_type": "markdown",
   "metadata": {},
   "source": [
    "### Variation 2: \"Ahead\" & \"Behind\" Pointers\n",
    "\n",
    "This variation is used to find nodes that are a certain distance from each other or from the end of the list.\n",
    "\n",
    "**Common Use Cases:**\n",
    "1.  **Finding the Nth node from the end:** Move one pointer (`ahead`) `n` steps into the list first. Then, move both `ahead` and a second pointer (`behind`) one step at a time. When `ahead` reaches the end of the list, `behind` will be at the Nth node from the end."
   ]
  },
  {
   "cell_type": "markdown",
   "metadata": {},
   "source": [
    "## 👷‍♂️ Chapter 3: The Sure-Fire Way to Build a List: The Dummy Head\n",
    "\n",
    "A huge number of errors in linked list problems come from handling edge cases, especially related to the head of the list. What if the list is empty? What if you need to insert a node *before* the current head?\n",
    "\n",
    "The **Dummy Node** (also called a Sentinel Node) is a game-changing pattern that elegantly solves this. It's a placeholder node that you place *before* the actual head of your list. This ensures that your list always has a node to start from, even if the \"real\" list is empty. This simplifies your code by eliminating the need for special checks for `head == None`."
   ]
  },
  {
   "cell_type": "markdown",
   "metadata": {},
   "source": [
    "### The Dummy Head Recipe\n",
    "\n",
    "Here is a simple, repeatable recipe for building a new linked list:\n",
    "\n",
    "1.  **Initialize a Dummy Head:** Create a new node that will act as the placeholder.\n",
    "    `dummy = ListNode(-1)`\n",
    "2.  **Create a Pointer:** Create a pointer that will be used to build the list. Initialize it to the dummy head.\n",
    "    `current = dummy`\n",
    "3.  **Iterate and Build:** In a loop, create your new nodes and attach them to the `current` pointer.\n",
    "    `current.next = new_node`\n",
    "    `current = current.next`\n",
    "4.  **Return the Real Head:** At the end, the real head of your newly built list is `dummy.next`.\n",
    "    `return dummy.next`"
   ]
  },
  {
   "cell_type": "code",
   "execution_count": 2,
   "metadata": {},
   "outputs": [
    {
     "name": "stdout",
     "output_type": "stream",
     "text": [
      "Built List: 1 -> 2 -> 3 -> 4 -> 5\n"
     ]
    }
   ],
   "source": [
    "# Boilerplate: Building a linked list from a Python list using the Dummy Head pattern.\n",
    "def build_list_from_array(arr):\n",
    "    \"\"\"Builds a linked list from a Python list.\"\"\"\n",
    "    # 1. Initialize Dummy Head\n",
    "    dummy = ListNode(-1)\n",
    "    \n",
    "    # 2. Create a builder pointer\n",
    "    current = dummy\n",
    "    \n",
    "    # 3. Iterate and build\n",
    "    for val in arr:\n",
    "        current.next = ListNode(val)\n",
    "        current = current.next\n",
    "        \n",
    "    # 4. Return the real head\n",
    "    return dummy.next\n",
    "\n",
    "# Example usage:\n",
    "my_list = build_list_from_array([1, 2, 3, 4, 5])\n",
    "print(f\"Built List: {my_list}\")"
   ]
  },
  {
   "cell_type": "markdown",
   "metadata": {},
   "source": [
    "## 🔄 Chapter 4: Pattern 1: Reversal & Reordering\n",
    "\n",
    "Reversing a linked list is a classic problem and a building block for more complex ones. The key is to meticulously manage three pointers as you iterate through the list: `prev`, `curr`, and `next`.\n",
    "\n",
    "- `prev`: Keeps track of the node *before* the current one. It starts as `None`.\n",
    "- `curr`: The current node you are processing. It starts as `head`.\n",
    "- `next`: A temporary pointer to store the *next* node before you break the link."
   ]
  },
  {
   "cell_type": "markdown",
   "metadata": {},
   "source": [
    "### LeetCode Case Study: Reverse Linked List (LC #206)\n",
    "\n",
    "The iterative solution follows a simple loop:\n",
    "1.  Store the next node: `next_temp = curr.next`.\n",
    "2.  Reverse the current node's pointer: `curr.next = prev`.\n",
    "3.  Move `prev` up to `curr`: `prev = curr`.\n",
    "4.  Move `curr` up to the stored next node: `curr = next_temp`.\n",
    "\n",
    "When the loop finishes (`curr` is `None`), the `prev` pointer will be pointing to the new head of the reversed list."
   ]
  },
  {
   "cell_type": "code",
   "execution_count": 3,
   "metadata": {},
   "outputs": [
    {
     "name": "stdout",
     "output_type": "stream",
     "text": [
      "Reversed List: 5 -> 4 -> 3 -> 2 -> 1\n"
     ]
    }
   ],
   "source": [
    "from typing import Optional\n",
    "\n",
    "class Solution_LC206:\n",
    "    def reverseList_iterative(self, head: Optional[ListNode]) -> Optional[ListNode]:\n",
    "        \"\"\"Iterative solution for reversing a linked list.\"\"\"\n",
    "        prev = None\n",
    "        curr = head\n",
    "        \n",
    "        while curr:\n",
    "            # 1. Store the next node before we break the link\n",
    "            next_temp = curr.next\n",
    "            \n",
    "            # 2. Reverse the link\n",
    "            curr.next = prev\n",
    "            \n",
    "            # 3. & 4. Move pointers one step forward\n",
    "            prev = curr\n",
    "            curr = next_temp\n",
    "            \n",
    "        # The new head is the last node we processed, which is `prev`\n",
    "        return prev\n",
    "\n",
    "    def reverseList_recursive(self, head: Optional[ListNode]) -> Optional[ListNode]:\n",
    "        \"\"\"Recursive solution for reversing a linked list.\"\"\"\n",
    "        # Base case: if the list is empty or has one node, it's already reversed.\n",
    "        if not head or not head.next:\n",
    "            return head\n",
    "        \n",
    "        # Recursively reverse the rest of the list.\n",
    "        # `reversed_head` will be the new head of the reversed sub-list.\n",
    "        reversed_head = self.reverseList_recursive(head.next)\n",
    "        \n",
    "        # `head.next` is now the last node of the reversed sub-list.\n",
    "        # We want its `next` pointer to point back to `head`.\n",
    "        head.next.next = head\n",
    "        \n",
    "        # `head` is now the last node of the newly extended list.\n",
    "        # Break its original link to avoid cycles.\n",
    "        head.next = None\n",
    "        \n",
    "        return reversed_head\n",
    "\n",
    "# Example usage:\n",
    "solver = Solution_LC206()\n",
    "my_list = build_list_from_array([1, 2, 3, 4, 5])\n",
    "reversed_list = solver.reverseList_iterative(my_list)\n",
    "print(f\"Reversed List: {reversed_list}\")"
   ]
  },
  {
   "cell_type": "markdown",
   "metadata": {},
   "source": [
    "## 🤝 Chapter 5: Pattern 2: Merging & Sorting\n",
    "\n",
    "Merging problems involve weaving two or more linked lists together into one. The core idea is to maintain a pointer for each list and iteratively compare their values to decide which node to add next to the result list.\n",
    "\n",
    "This is a perfect use case for the **Dummy Head** pattern. We create a dummy head to simplify building the new, merged list. We compare nodes from `list1` and `list2`, append the smaller one to our merged list, and advance the pointer of the list from which we took the node."
   ]
  },
  {
   "cell_type": "markdown",
   "metadata": {},
   "source": [
    "### LeetCode Case Study: Merge Two Sorted Lists (LC #21)"
   ]
  },
  {
   "cell_type": "code",
   "execution_count": 4,
   "metadata": {},
   "outputs": [
    {
     "name": "stdout",
     "output_type": "stream",
     "text": [
      "Merged List: 1 -> 1 -> 2 -> 3 -> 4 -> 4\n"
     ]
    }
   ],
   "source": [
    "class Solution_LC21:\n",
    "    def mergeTwoLists(self, list1: Optional[ListNode], list2: Optional[ListNode]) -> Optional[ListNode]:\n",
    "        \"\"\"Merges two sorted linked lists.\"\"\"\n",
    "        # Use the Dummy Head pattern to build the result list.\n",
    "        dummy = ListNode(-1)\n",
    "        current = dummy\n",
    "        \n",
    "        # Pointers for list1 and list2\n",
    "        p1, p2 = list1, list2\n",
    "        \n",
    "        # Iterate while both lists have nodes\n",
    "        while p1 and p2:\n",
    "            if p1.val <= p2.val:\n",
    "                current.next = p1\n",
    "                p1 = p1.next\n",
    "            else:\n",
    "                current.next = p2\n",
    "                p2 = p2.next\n",
    "            current = current.next\n",
    "            \n",
    "        # At the end, one of the lists might have remaining nodes.\n",
    "        # Append the rest of the non-empty list.\n",
    "        if p1:\n",
    "            current.next = p1\n",
    "        elif p2:\n",
    "            current.next = p2\n",
    "            \n",
    "        # The merged list starts after the dummy node.\n",
    "        return dummy.next\n",
    "\n",
    "# Example usage:\n",
    "solver = Solution_LC21()\n",
    "list1 = build_list_from_array([1, 2, 4])\n",
    "list2 = build_list_from_array([1, 3, 4])\n",
    "merged_list = solver.mergeTwoLists(list1, list2)\n",
    "print(f\"Merged List: {merged_list}\")"
   ]
  },
  {
   "cell_type": "markdown",
   "metadata": {},
   "source": [
    "## 🌀 Chapter 6: Pattern 3: Cycle Detection\n",
    "\n",
    "Cycle detection is a classic problem that is almost always solved with the **Fast & Slow Pointer** technique (also known as Floyd's Tortoise and Hare algorithm). \n",
    "\n",
    "As described in Chapter 2, we move a `slow` pointer one step at a time and a `fast` pointer two steps at a time. If there is a cycle, the `fast` pointer will eventually lap the `slow` pointer, and they will meet. If there is no cycle, the `fast` pointer will reach the end of the list."
   ]
  },
  {
   "cell_type": "markdown",
   "metadata": {},
   "source": [
    "### LeetCode Case Study: Linked List Cycle (LC #141)"
   ]
  },
  {
   "cell_type": "code",
   "execution_count": 5,
   "metadata": {},
   "outputs": [
    {
     "name": "stdout",
     "output_type": "stream",
     "text": [
      "Has Cycle: True\n",
      "Has Cycle: False\n"
     ]
    }
   ],
   "source": [
    "class Solution_LC141:\n",
    "    def hasCycle(self, head: Optional[ListNode]) -> bool:\n",
    "        \"\"\"Detects if a linked list has a cycle.\"\"\"\n",
    "        if not head or not head.next:\n",
    "            return False\n",
    "        \n",
    "        slow = head\n",
    "        fast = head.next\n",
    "        \n",
    "        while fast and fast.next:\n",
    "            if slow == fast:\n",
    "                return True\n",
    "            slow = slow.next\n",
    "            fast = fast.next.next\n",
    "            \n",
    "        return False\n",
    "\n",
    "# Example Usage:\n",
    "solver = Solution_LC141()\n",
    "head = ListNode(3)\n",
    "node2 = ListNode(2)\n",
    "node0 = ListNode(0)\n",
    "node4 = ListNode(-4)\n",
    "head.next = node2\n",
    "node2.next = node0\n",
    "node0.next = node4\n",
    "node4.next = node2 # This creates the cycle\n",
    "print(f\"Has Cycle: {solver.hasCycle(head)}\")\n",
    "\n",
    "non_cycle_list = build_list_from_array([1, 2, 3])\n",
    "print(f\"Has Cycle: {solver.hasCycle(non_cycle_list)}\")"
   ]
  },
  {
   "cell_type": "markdown",
   "metadata": {},
   "source": [
    "## 🗑️ Chapter 7: Pattern 4: Deletion & Removal\n",
    "\n",
    "The core concept of deletion is simple: to delete a node, you must find its **predecessor** and change its `next` pointer to skip over the node you want to delete. For example, to delete `node B` in the sequence `A -> B -> C`, you need a pointer to `A` and set `A.next = C`.\n",
    "\n",
    "This can be tricky at the head of the list, since the head has no predecessor. This is another prime opportunity to use the **Dummy Head** pattern. By placing a dummy node before the head, you guarantee that every node you might want to delete has a predecessor."
   ]
  },
  {
   "cell_type": "markdown",
   "metadata": {},
   "source": [
    "### LeetCode Case Study: Remove Nth Node From End of List (LC #19)\n",
    "\n",
    "This problem is a beautiful combination of two patterns:\n",
    "1.  **\"Ahead & Behind\" Pointers:** To find the Nth node from the end. We'll advance an `ahead` pointer `n` steps first. The node we want to *delete* is the one after the `behind` pointer when `ahead` reaches the end.\n",
    "2.  **Dummy Head:** To handle the edge case where we need to remove the first node of the list. The `behind` pointer starts at the dummy node, making it the predecessor of the head."
   ]
  },
  {
   "cell_type": "code",
   "execution_count": 6,
   "metadata": {},
   "outputs": [
    {
     "name": "stdout",
     "output_type": "stream",
     "text": [
      "List after removing 2nd from end: 1 -> 2 -> 3 -> 5\n",
      "List after removing 1st from end: None\n"
     ]
    }
   ],
   "source": [
    "class Solution_LC19:\n",
    "    def removeNthFromEnd(self, head: Optional[ListNode], n: int) -> Optional[ListNode]:\n",
    "        \"\"\"Removes the nth node from the end of the list.\"\"\"\n",
    "        # 1. Use a Dummy Head to simplify edge cases (like removing the head).\n",
    "        dummy = ListNode(0, head)\n",
    "        \n",
    "        # 2. Use the \"Ahead & Behind\" pointer technique.\n",
    "        # `behind` will point to the node *before* the one to be deleted.\n",
    "        behind = dummy\n",
    "        ahead = head\n",
    "        \n",
    "        # 3. Move the `ahead` pointer n steps forward.\n",
    "        for _ in range(n):\n",
    "            ahead = ahead.next\n",
    "            \n",
    "        # 4. Move both pointers together until `ahead` reaches the end.\n",
    "        # Now `behind` is at the predecessor of the target node.\n",
    "        while ahead:\n",
    "            ahead = ahead.next\n",
    "            behind = behind.next\n",
    "            \n",
    "        # 5. Delete the node by skipping it.\n",
    "        behind.next = behind.next.next\n",
    "        \n",
    "        return dummy.next\n",
    "\n",
    "# Example Usage:\n",
    "solver = Solution_LC19()\n",
    "my_list = build_list_from_array([1, 2, 3, 4, 5])\n",
    "# Remove the 2nd node from the end (the node with value 4)\n",
    "new_list = solver.removeNthFromEnd(my_list, 2)\n",
    "print(f\"List after removing 2nd from end: {new_list}\")\n",
    "\n",
    "my_list2 = build_list_from_array([1])\n",
    "# Remove the 1st node from the end (the only node)\n",
    "new_list2 = solver.removeNthFromEnd(my_list2, 1)\n",
    "print(f\"List after removing 1st from end: {new_list2}\")"
   ]
  },
  {
   "cell_type": "markdown",
   "metadata": {},
   "source": [
    "## 🧠 Chapter 8: Synthesis Problems (LeetCode Medium)\n",
    "\n",
    "Medium and Hard LeetCode problems rarely test just one pattern. They require you to synthesize multiple techniques to solve a more complex problem. Let's look at two classic examples."
   ]
  },
  {
   "cell_type": "markdown",
   "metadata": {},
   "source": [
    "### Problem 1: Reorder List (LC #143)\n",
    "\n",
    "**Goal:** Reorder a list `L0 → L1 → … → Ln-1 → Ln` to be `L0 → Ln → L1 → Ln-1 → …`\n",
    "\n",
    "This problem seems complex, but it's just a sequence of patterns we've already learned. We can break it down into a clear, high-level plan:\n",
    "\n",
    "1.  **Find the middle** of the list using the **Fast & Slow Pointer** technique. This will be our splitting point.\n",
    "2.  **Split the list** into two separate halves at the middle.\n",
    "3.  **Reverse the second half** of the list using the standard **Reversal** pattern.\n",
    "4.  **Merge the two halves** by interleaving nodes from the first half and the reversed second half."
   ]
  },
  {
   "cell_type": "code",
   "execution_count": 7,
   "metadata": {},
   "outputs": [
    {
     "name": "stdout",
     "output_type": "stream",
     "text": [
      "Reordered List: 1 -> 5 -> 2 -> 4 -> 3\n"
     ]
    }
   ],
   "source": [
    "class Solution_LC143:\n",
    "    def reorderList(self, head: Optional[ListNode]) -> None:\n",
    "        \"\"\"Reorders the list by combining multiple patterns.\"\"\"\n",
    "        if not head or not head.next:\n",
    "            return\n",
    "        \n",
    "        # 1. Find the middle of the list\n",
    "        slow, fast = head, head.next\n",
    "        while fast and fast.next:\n",
    "            slow = slow.next\n",
    "            fast = fast.next.next\n",
    "        \n",
    "        # 2. Split the list into two halves\n",
    "        second_half = slow.next\n",
    "        slow.next = None # Terminate the first half\n",
    "        first_half = head\n",
    "        \n",
    "        # 3. Reverse the second half\n",
    "        prev = None\n",
    "        curr = second_half\n",
    "        while curr:\n",
    "            next_temp = curr.next\n",
    "            curr.next = prev\n",
    "            prev = curr\n",
    "            curr = next_temp\n",
    "        second_half_reversed = prev\n",
    "        \n",
    "        # 4. Merge the two halves by interleaving\n",
    "        p1, p2 = first_half, second_half_reversed\n",
    "        while p2: # The second half can be shorter or equal in length\n",
    "            # Store next nodes\n",
    "            p1_next = p1.next\n",
    "            p2_next = p2.next\n",
    "            \n",
    "            # Interleave\n",
    "            p1.next = p2\n",
    "            p2.next = p1_next\n",
    "            \n",
    "            # Move pointers\n",
    "            p1 = p1_next\n",
    "            p2 = p2_next\n",
    "            \n",
    "# Example Usage:\n",
    "solver = Solution_LC143()\n",
    "my_list = build_list_from_array([1, 2, 3, 4, 5])\n",
    "solver.reorderList(my_list)\n",
    "print(f\"Reordered List: {my_list}\")"
   ]
  },
  {
   "cell_type": "markdown",
   "metadata": {},
   "source": [
    "### Problem 2: Copy List with Random Pointer (LC #138)\n",
    "\n",
    "**Goal:** Create a deep copy of a linked list where each node has a `val`, a `next` pointer, and an additional `random` pointer that can point to any node in the list or `None`.\n",
    "\n",
    "A simple iterative copy fails because when we create a new node, we don't know where its `random` pointer should point yet—the node it's supposed to point to may not have been created. The optimal solution uses a hash map (dictionary in Python) to keep track of the relationship between old nodes and their new copies.\n",
    "\n",
    "The plan is a two-pass approach:\n",
    "1.  **First Pass:** Iterate through the original list. For each `old_node`, create its corresponding `new_node` and store the mapping in a hash map: `map[old_node] = new_node`.\n",
    "2.  **Second Pass:** Iterate through the original list again. For each `old_node`, use the map to set the pointers of its copy. The `next` pointer of `new_node` is simply `map[old_node.next]`, and the `random` pointer is `map[old_node.random]`."
   ]
  },
  {
   "cell_type": "code",
   "execution_count": 8,
   "metadata": {},
   "outputs": [],
   "source": [
    "# Definition for a Node with a random pointer.\n",
    "class Node:\n",
    "    def __init__(self, x: int, next: 'Node' = None, random: 'Node' = None):\n",
    "        self.val = int(x)\n",
    "        self.next = next\n",
    "        self.random = random\n",
    "\n",
    "class Solution_LC138:\n",
    "    def copyRandomList(self, head: 'Optional[Node]') -> 'Optional[Node]':\n",
    "        if not head:\n",
    "            return None\n",
    "        \n",
    "        # Hash map to store the mapping from old nodes to new nodes.\n",
    "        # {old_node: new_node}\n",
    "        old_to_new_map = {}\n",
    "        \n",
    "        # --- First Pass: Create new nodes and populate the map ---\n",
    "        curr = head\n",
    "        while curr:\n",
    "            old_to_new_map[curr] = Node(curr.val)\n",
    "            curr = curr.next\n",
    "            \n",
    "        # --- Second Pass: Connect the new nodes' pointers ---\n",
    "        curr = head\n",
    "        while curr:\n",
    "            # Get the new node corresponding to the current old node\n",
    "            new_node = old_to_new_map[curr]\n",
    "            \n",
    "            # Set the next pointer\n",
    "            if curr.next:\n",
    "                new_node.next = old_to_new_map[curr.next]\n",
    "            \n",
    "            # Set the random pointer\n",
    "            if curr.random:\n",
    "                new_node.random = old_to_new_map[curr.random]\n",
    "                \n",
    "            curr = curr.next\n",
    "            \n",
    "        # The head of the new list is the new node corresponding to the old head\n",
    "        return old_to_new_map[head]"
   ]
  },
  {
   "cell_type": "markdown",
   "metadata": {},
   "source": [
    "## ✅ Chapter 9: Final Tips for Success"
   ]
  },
  {
   "cell_type": "markdown",
   "metadata": {},
   "source": [
    "### Meticulous Pointer Management: Your Golden Rules\n",
    "\n",
    "1.  **✏️ Draw It Out:** This cannot be overstated. Before writing a single line of code for a complex pointer manipulation problem, draw the nodes on a whiteboard or piece of paper. Trace how your pointers (`prev`, `curr`, `slow`, `fast`, etc.) move with each step. This will help you catch logical errors before they become bugs.\n",
    "2.  ** paranoid about Nulls:** The most common runtime error with linked lists is the dreaded null pointer exception (in Python, `AttributeError: 'NoneType' object has no attribute 'next'`). Before you ever access `node.next`, you **must** be certain that `node` itself is not `None`. This is especially important in loops and conditions (e.g., `while fast and fast.next:`)."
   ]
  }
 ],
 "metadata": {
  "kernelspec": {
   "display_name": "venv (3.12.4)",
   "language": "python",
   "name": "python3"
  },
  "language_info": {
   "codemirror_mode": {
    "name": "ipython",
    "version": 3
   },
   "file_extension": ".py",
   "mimetype": "text/x-python",
   "name": "python",
   "nbconvert_exporter": "python",
   "pygments_lexer": "ipython3",
   "version": "3.12.4"
  }
 },
 "nbformat": 4,
 "nbformat_minor": 2
}
