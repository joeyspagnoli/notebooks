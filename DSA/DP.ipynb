{
 "cells": [
  {
   "cell_type": "markdown",
   "metadata": {},
   "source": [
    "# The Ultimate Guide to Dynamic Programming (DP)"
   ]
  },
  {
   "cell_type": "markdown",
   "metadata": {},
   "source": [
    "Welcome! If you've ever felt that Dynamic Programming is an intimidating, magical concept, this notebook is for you. Our goal is to demystify DP by breaking it down from first principles into a systematic, repeatable framework. By the end, you'll not only understand DP but have a concrete blueprint to solve DP problems yourself."
   ]
  },
  {
   "cell_type": "code",
   "execution_count": null,
   "metadata": {},
   "outputs": [],
   "source": [
    "import sys\n",
    "import collections\n",
    "\n",
    "# It's good practice to increase recursion limit for deep recursive calls in DP\n",
    "sys.setrecursionlimit(10**6)"
   ]
  },
  {
   "cell_type": "markdown",
   "metadata": {},
   "source": [
    "## Chapter 1: The \"Aha!\" Moment - What is Dynamic Programming?"
   ]
  },
  {
   "cell_type": "markdown",
   "metadata": {},
   "source": [
    "### The Core Analogy: Smart Test-Taking\n",
    "\n",
    "Imagine you're taking a difficult math test. You're working on a complex problem and find you need to calculate `25 * 13`. You do the math and get `325`. Later, in a different problem, you see the expression `(25 * 13) + 75`. \n",
    "\n",
    "What do you do? Do you re-calculate `25 * 13` all over again? Of course not. You remember the answer you already computed. You simply reuse your previous work. \n",
    "\n",
    "> **Dynamic Programming is this simple idea in disguise: solve a problem once, store its answer, and if you ever need that same answer again, just look it up.**\n",
    "\n",
    "At its heart, DP is a technique for optimizing recursive algorithms by caching the results of subproblems to avoid re-computation."
   ]
  },
  {
   "cell_type": "markdown",
   "metadata": {},
   "source": [
    "### The Two Pillars of DP\n",
    "\n",
    "An problem can be solved with Dynamic Programming only if it exhibits two key properties:"
   ]
  },
  {
   "cell_type": "markdown",
   "metadata": {},
   "source": [
    "#### 1. Overlapping Subproblems\n",
    "\n",
    "This means the algorithm ends up solving the exact same subproblem multiple times. This is the symptom of wasted work that DP aims to fix.\n",
    "\n",
    "The classic example is the Fibonacci sequence. The recursive definition is $fib(n) = fib(n-1) + fib(n-2)$. Let's visualize the computation for `fib(5)`:"
   ]
  },
  {
   "cell_type": "markdown",
   "metadata": {},
   "source": [
    "```\n",
    "                          fib(5)\n",
    "                        /       \\\n",
    "                  fib(4)         fib(3)   <-- We compute fib(3) here\n",
    "                /      \\        /      \\\n",
    "          fib(3)      fib(2)    fib(2)   fib(1)\n",
    "         /     \\      /    \\    /    \\\n",
    "      fib(2)  fib(1) fib(1) fib(0) fib(1) fib(0)\n",
    "      /    \\\n",
    "   fib(1) fib(0)\n",
    "```\n",
    "\n",
    "Notice the waste? \n",
    "- `fib(3)` is computed 2 times.\n",
    "- `fib(2)` is computed 3 times.\n",
    "- `fib(1)` is computed 5 times!\n",
    "\n",
    "These are the **overlapping subproblems**. A DP approach would compute `fib(3)` once, save the result, and reuse it the second time it's needed."
   ]
  },
  {
   "cell_type": "markdown",
   "metadata": {},
   "source": [
    "#### 2. Optimal Substructure\n",
    "\n",
    "This is a fancy way of saying that the optimal solution to a larger problem can be constructed from the optimal solutions of its smaller subproblems.\n",
    "\n",
    "**Analogy:** If you want to find the shortest (optimal) path from New York to Los Angeles, and that path goes through Chicago, then the portion of the path from New York to Chicago *must* be the shortest path between New York and Chicago. If it weren't, you could swap it for a shorter NY-Chicago path and improve your overall solution, which is a contradiction.\n",
    "\n",
    "For Fibonacci, the optimal solution for `fib(5)` is built directly from the optimal solutions for `fib(4)` and `fib(3)`. This property lets us build our solution from the bottom up or trust our recursive calls."
   ]
  },
  {
   "cell_type": "markdown",
   "metadata": {},
   "source": [
    "## Chapter 2: The Unbreakable Framework - Your DP Problem-Solving Blueprint"
   ]
  },
  {
   "cell_type": "markdown",
   "metadata": {},
   "source": [
    "This is the most important chapter. Forget trying to guess the solution. Follow these four steps mechanically to derive a DP solution from scratch."
   ]
  },
  {
   "cell_type": "markdown",
   "metadata": {},
   "source": [
    "### Step 1: Brute-Force it with Recursion\n",
    "\n",
    "Your first goal is **correctness, not efficiency**. Don't even think about DP yet. A DP problem can almost always be expressed as a recursive relationship. Think about the choices you can make at each step.\n",
    "\n",
    "For Fibonacci, the brute-force recursion is simply the definition itself."
   ]
  },
  {
   "cell_type": "code",
   "execution_count": null,
   "metadata": {},
   "outputs": [],
   "source": [
    "def fib_brute_force(n):\n",
    "    # Base cases\n",
    "    if n <= 1:\n",
    "        return n\n",
    "    # Recursive step (the choice)\n",
    "    return fib_brute_force(n - 1) + fib_brute_force(n - 2)"
   ]
  },
  {
   "cell_type": "markdown",
   "metadata": {},
   "source": [
    "### Step 2: Identify the \"State\" and Write the Recurrence Relation\n",
    "\n",
    "The \"state\" is the set of variables that uniquely defines a subproblem. **Ask yourself: What information do I need to solve this specific subproblem?**\n",
    "\n",
    "In the case of `fib_brute_force(n)`, the only thing we need to know is `n`. So, our state is just `n`.\n",
    "\n",
    "The recurrence relation is the mathematical formula that mirrors the recursive calls. From our code, we can see:\n",
    "\n",
    "$$ \n",
    "F(n) = F(n-1) + F(n-2) \n",
    "$$ \n",
    "With base cases $F(0) = 0$ and $F(1) = 1$."
   ]
  },
  {
   "cell_type": "markdown",
   "metadata": {},
   "source": [
    "### Step 3: Apply Memoization (Top-Down DP)\n",
    "\n",
    "This is the easy win. We take our correct but slow brute-force recursion and add a cache (a hash map or array) to store the results of subproblems we've already solved.\n",
    "\n",
    "Here is the boilerplate pattern:\n",
    "1.  Create a cache (e.g., `memo = {}`).\n",
    "2.  Before computing, check if the answer for the current state is in the cache. If yes, return it.\n",
    "3.  If not, compute the answer recursively as before.\n",
    "4.  Before returning the answer, store it in the cache."
   ]
  },
  {
   "cell_type": "markdown",
   "metadata": {},
   "source": [
    "Let's apply this to our Fibonacci function."
   ]
  },
  {
   "cell_type": "code",
   "execution_count": null,
   "metadata": {},
   "outputs": [],
   "source": [
    "def fib_memo(n, memo={}):\n",
    "    # 2. Check if the state is in the cache\n",
    "    if n in memo:\n",
    "        return memo[n]\n",
    "    \n",
    "    # Base cases (same as before)\n",
    "    if n <= 1:\n",
    "        return n\n",
    "    \n",
    "    # 3. Compute the result recursively\n",
    "    result = fib_memo(n - 1, memo) + fib_memo(n - 2, memo)\n",
    "    \n",
    "    # 4. Store the result in the cache before returning\n",
    "    memo[n] = result\n",
    "    return result\n",
    "\n",
    "# Calling it for a larger number\n",
    "print(f\"fib_memo(50) = {fib_memo(50)}\")"
   ]
  },
  {
   "cell_type": "markdown",
   "metadata": {},
   "source": [
    "This simple change dramatically improves the time complexity. The brute force was exponential ($O(2^n)$), while the memoized version is linear ($O(n)$) because we only compute each `fib(k)` for $k \\in [0, n]$ once."
   ]
  },
  {
   "cell_type": "markdown",
   "metadata": {},
   "source": [
    "### Step 4: Convert to Tabulation (Bottom-Up DP)\n",
    "\n",
    "Tabulation is about solving the problem iteratively. Instead of starting from the goal `n` and going down, we start from the base cases and build our way up to `n`.\n",
    "\n",
    "**Analogy:** We're filling out a spreadsheet (or a table). We fill in the first few cells with the base cases, and then use a formula to fill in the rest, one by one.\n",
    "\n",
    "Here is the pattern:\n",
    "1.  Create a DP table (usually an array or 2D array). The size is determined by the state. For Fibonacci, our state is just `n`, so we need an array of size `n+1`.\n",
    "2.  Initialize the table with the base cases.\n",
    "3.  Iterate through the state space, filling the table using the recurrence relation."
   ]
  },
  {
   "cell_type": "code",
   "execution_count": null,
   "metadata": {},
   "outputs": [],
   "source": [
    "def fib_tab(n):\n",
    "    if n <= 1:\n",
    "        return n\n",
    "    \n",
    "    # 1. Create the DP table of size n+1\n",
    "    dp = [0] * (n + 1)\n",
    "    \n",
    "    # 2. Initialize with base cases\n",
    "    dp[0] = 0\n",
    "    dp[1] = 1\n",
    "    \n",
    "    # 3. Iterate and fill the table using the recurrence\n",
    "    for i in range(2, n + 1):\n",
    "        dp[i] = dp[i-1] + dp[i-2]\n",
    "        \n",
    "    return dp[n]\n",
    "\n",
    "print(f\"fib_tab(50) = {fib_tab(50)}\")"
   ]
  },
  {
   "cell_type": "markdown",
   "metadata": {},
   "source": [
    "The time and space complexity are both $O(n)$ for this tabulated solution."
   ]
  },
  {
   "cell_type": "markdown",
   "metadata": {},
   "source": [
    "## Chapter 3: Memoization vs. Tabulation - A Deeper Dive"
   ]
  },
  {
   "cell_type": "markdown",
   "metadata": {},
   "source": [
    "### Mental Models\n",
    "\n",
    "**Memoization (Top-Down): The CEO**\n",
    "> \"I'm the CEO. I need the answer for `n=50`. I don't know how to solve it, so I'll ask my managers for the answers to `n=49` and `n=48`. I trust them to figure it out. If they've solved it before, they'll have the answer written down and give it to me instantly. If not, they'll recursively ask *their* subordinates, solve it, write it down so they never have to solve it again, and report back to me.\" \n",
    "\n",
    "It's **goal-oriented** and **lazy** (it only solves subproblems that are actually needed).\n",
    "\n",
    "**Tabulation (Bottom-Up): The New Hire**\n",
    "> \"I'm a new hire. I'm not sure what the final goal is, but I know how to solve the simplest cases. I'll start by solving for `n=0` and `n=1` and writing down the answers. Then, I'll use those results to solve for `n=2`. Then I'll use those to solve for `n=3`, and so on, building my way up systematically until I've solved for `n=50` and can give the final answer to the boss.\"\n",
    "\n",
    "It's **systematic** and **exhaustive** (it solves every subproblem from 0 to n)."
   ]
  },
  {
   "cell_type": "markdown",
   "metadata": {},
   "source": [
    "### Comparison Table\n",
    "\n",
    "| Feature                 | Memoization (Top-Down)                                 | Tabulation (Bottom-Up)                               |\n",
    "|-------------------------|--------------------------------------------------------|------------------------------------------------------|\n",
    "| **Implementation** | Often more intuitive; a direct optimization of the recursive brute-force. | Can be harder to figure out the correct iteration order. |\n",
    "| **Performance** | Can be slightly slower due to recursion overhead (function call stack). | Generally faster as it's an iterative loop. No recursion overhead. |\n",
    "| **Subproblem Solving** | Solves only the subproblems required to reach the target. | Solves all subproblems up to the target, which might be unnecessary. |\n",
    "| **State Transitions** | Handles complex state transitions naturally through recursion. | Requires careful planning for complex transitions. |\n",
    "| **Potential Pitfalls** | Can hit the recursion depth limit for very deep problems. | Prone to off-by-one errors and incorrect loop ordering. |"
   ]
  },
  {
   "cell_type": "markdown",
   "metadata": {},
   "source": [
    "## Chapter 4: Core DP Patterns & LeetCode Case Studies"
   ]
  },
  {
   "cell_type": "markdown",
   "metadata": {},
   "source": [
    "Let's apply our 4-step framework to real interview problems."
   ]
  },
  {
   "cell_type": "markdown",
   "metadata": {},
   "source": [
    "### Pattern 1: 1D DP (Sequences)\n",
    "\n",
    "These problems typically involve making decisions at each step of a 1D sequence (like an array). The state is usually just the current index `i`."
   ]
  },
  {
   "cell_type": "markdown",
   "metadata": {},
   "source": [
    "#### Case Study 1: Coin Change (LeetCode 322)\n",
    "\n",
    "**Problem:** Given coins of different denominations and a total amount, find the fewest number of coins to make up that amount. If impossible, return -1.\n",
    "\n",
    "**Example:** `coins = [1, 2, 5]`, `amount = 11`. Output: `3` (since `5 + 5 + 1 = 11`)."
   ]
  },
  {
   "cell_type": "markdown",
   "metadata": {},
   "source": [
    "--- \n",
    "**Step 1: Brute-Force Recursion**\n",
    "\n",
    "At any given `amount`, what are our choices? We can try using each coin. If we use a coin `c`, we then need to solve the subproblem for `amount - c`. We want the minimum of all these choices.\n",
    "\n",
    "Let's define a function `solve(amount)` that returns the minimum coins for that amount."
   ]
  },
  {
   "cell_type": "code",
   "execution_count": null,
   "metadata": {},
   "outputs": [],
   "source": [
    "def coinChange_brute_force(coins, amount):\n",
    "    # Base case: if amount is 0, we need 0 coins.\n",
    "    if amount == 0:\n",
    "        return 0\n",
    "    # Base case: if amount is negative, this path is impossible.\n",
    "    if amount < 0:\n",
    "        return float('inf')\n",
    "    \n",
    "    min_coins = float('inf')\n",
    "    \n",
    "    # For each coin, make a choice\n",
    "    for coin in coins:\n",
    "        # Solve the subproblem for the remaining amount\n",
    "        result = coinChange_brute_force(coins, amount - coin)\n",
    "        \n",
    "        # If the subproblem was solvable, consider this path\n",
    "        if result != float('inf'):\n",
    "            min_coins = min(min_coins, result + 1) # +1 for the current coin\n",
    "            \n",
    "    return min_coins\n",
    "\n",
    "# Wrapper to handle the final -1 conversion\n",
    "def solve_coin_change_brute(coins, amount):\n",
    "    result = coinChange_brute_force(coins, amount)\n",
    "    return result if result != float('inf') else -1\n",
    "\n",
    "# This will be very slow for larger amounts!\n",
    "# print(solve_coin_change_brute([1, 2, 5], 20)) "
   ]
  },
  {
   "cell_type": "markdown",
   "metadata": {},
   "source": [
    "--- \n",
    "**Step 2: State & Recurrence Relation**\n",
    "\n",
    "-   **State:** The only thing we need to define our subproblem is the `amount` remaining. So, state is `(amount)`.\n",
    "-   **Recurrence Relation:**\n",
    "$$ \n",
    "F(a) = 1 + \\min_{c \\in coins} F(a - c) \n",
    "$$ \n",
    "With base cases $F(0) = 0$ and $F(a < 0) = \\infty$."
   ]
  },
  {
   "cell_type": "markdown",
   "metadata": {},
   "source": [
    "--- \n",
    "**Step 3: Memoization (Top-Down)**\n",
    "\n",
    "We add a cache (`memo`) to our brute-force solution to store results for amounts we've already calculated."
   ]
  },
  {
   "cell_type": "code",
   "execution_count": null,
   "metadata": {},
   "outputs": [],
   "source": [
    "def coinChange_memo(coins, amount, memo):\n",
    "    if amount in memo: return memo[amount]\n",
    "    if amount == 0: return 0\n",
    "    if amount < 0: return float('inf')\n",
    "    \n",
    "    min_coins = float('inf')\n",
    "    for coin in coins:\n",
    "        result = coinChange_memo(coins, amount - coin, memo)\n",
    "        if result != float('inf'):\n",
    "            min_coins = min(min_coins, result + 1)\n",
    "            \n",
    "    memo[amount] = min_coins\n",
    "    return min_coins\n",
    "\n",
    "def solve_coin_change_memo(coins, amount):\n",
    "    memo = {}\n",
    "    result = coinChange_memo(coins, amount, memo)\n",
    "    return result if result != float('inf') else -1\n",
    "\n",
    "print(f\"Coin Change [1,2,5] for 11: {solve_coin_change_memo([1, 2, 5], 11)}\")\n",
    "print(f\"Coin Change [1,2,5] for 100: {solve_coin_change_memo([1, 2, 5], 100)}\")"
   ]
  },
  {
   "cell_type": "markdown",
   "metadata": {},
   "source": [
    "**Time Complexity:** $O(A \\cdot C)$ where $A$ is the amount and $C$ is the number of coins. Each state `(amount)` is computed once, and for each state, we loop through all coins.\n",
    "**Space Complexity:** $O(A)$ for the recursion stack and memoization table."
   ]
  },
  {
   "cell_type": "markdown",
   "metadata": {},
   "source": [
    "--- \n",
    "**Step 4: Tabulation (Bottom-Up)**\n",
    "\n",
    "We'll build a 1D DP array of size `amount + 1`. `dp[i]` will store the minimum coins needed for amount `i`.\n",
    "\n",
    "1.  Create `dp` array of size `amount + 1`, initialized to a large value (infinity).\n",
    "2.  Set base case: `dp[0] = 0`.\n",
    "3.  Loop from `i = 1` to `amount`.\n",
    "4.  For each `i`, loop through the coins. Update `dp[i]` using the recurrence: `dp[i] = min(dp[i], 1 + dp[i - coin])`."
   ]
  },
  {
   "cell_type": "code",
   "execution_count": null,
   "metadata": {},
   "outputs": [],
   "source": [
    "def coinChange_tab(coins, amount):\n",
    "    # 1. Create DP table, initialize with a value representing infinity\n",
    "    dp = [float('inf')] * (amount + 1)\n",
    "    \n",
    "    # 2. Set base case\n",
    "    dp[0] = 0\n",
    "    \n",
    "    # 3. Loop through all amounts from 1 to amount\n",
    "    for i in range(1, amount + 1):\n",
    "        # 4. For each amount, check each coin\n",
    "        for coin in coins:\n",
    "            if i - coin >= 0:\n",
    "                # Apply recurrence relation\n",
    "                dp[i] = min(dp[i], 1 + dp[i - coin])\n",
    "    \n",
    "    # Final answer is in the last cell\n",
    "    result = dp[amount]\n",
    "    return result if result != float('inf') else -1\n",
    "\n",
    "print(f\"Coin Change [1,2,5] for 11: {coinChange_tab([1, 2, 5], 11)}\")\n",
    "print(f\"Coin Change [1,2,5] for 100: {coinChange_tab([1, 2, 5], 100)}\")"
   ]
  },
  {
   "cell_type": "markdown",
   "metadata": {},
   "source": [
    "**Time Complexity:** $O(A \\cdot C)$ - same as memoization.\n",
    "**Space Complexity:** $O(A)$ for the DP table."
   ]
  },
  {
   "cell_type": "markdown",
   "metadata": {},
   "source": [
    "### Pattern 2: 2D DP (Grids / Two Sequences)\n",
    "\n",
    "These problems involve two changing parameters, leading to a 2D state. Common examples include comparing two strings or making decisions based on an item `i` and a remaining capacity `w`."
   ]
  },
  {
   "cell_type": "markdown",
   "metadata": {},
   "source": [
    "#### Case Study 2: 0/1 Knapsack Problem\n",
    "\n",
    "**Problem:** Given a list of items, each with a weight and a value, determine the maximum total value you can carry in a knapsack with a fixed weight capacity. You can either take an item or leave it (0/1 choice).\n",
    "\n",
    "**Example:** `weights = [1, 2, 3]`, `values = [6, 10, 12]`, `capacity = 5`. \n",
    "Output: `22` (by taking items with weight 2 and 3, total value 10+12=22, total weight 5)."
   ]
  },
  {
   "cell_type": "markdown",
   "metadata": {},
   "source": [
    "--- \n",
    "**Step 1: Brute-Force Recursion**\n",
    "\n",
    "Let's define a function `solve(index, capacity)`. For each item at `index`, we have two choices:\n",
    "1.  **Don't take the item:** The value is `solve(index + 1, capacity)`.\n",
    "2.  **Take the item (if we can):** The value is `values[index] + solve(index + 1, capacity - weights[index])`.\n",
    "\n",
    "We want the maximum of these two choices."
   ]
  },
  {
   "cell_type": "code",
   "execution_count": null,
   "metadata": {},
   "outputs": [],
   "source": [
    "def knapsack_brute_force(weights, values, capacity, index):\n",
    "    # Base case: if no items left or no capacity, value is 0\n",
    "    if index >= len(weights) or capacity <= 0:\n",
    "        return 0\n",
    "    \n",
    "    # Choice 1: Don't take the item at 'index'\n",
    "    val_without = knapsack_brute_force(weights, values, capacity, index + 1)\n",
    "    \n",
    "    # Choice 2: Take the item at 'index', if it fits\n",
    "    val_with = 0\n",
    "    if weights[index] <= capacity:\n",
    "        val_with = values[index] + knapsack_brute_force(weights, values, capacity - weights[index], index + 1)\n",
    "        \n",
    "    return max(val_with, val_without)\n",
    "\n",
    "# This will also be very slow!\n",
    "# print(knapsack_brute_force([1, 2, 3], [6, 10, 12], 5, 0))"
   ]
  },
  {
   "cell_type": "markdown",
   "metadata": {},
   "source": [
    "--- \n",
    "**Step 2: State & Recurrence Relation**\n",
    "\n",
    "-   **State:** To uniquely define a subproblem, we need to know which item we're considering (`index`) and the remaining `capacity`. So, the state is `(index, capacity)`.\n",
    "-   **Recurrence Relation:**\n",
    "$$ \n",
    "F(i, c) = \\max(\\ F(i+1, c),\\ v[i] + F(i+1, c - w[i])\\ )\n",
    "$$"
   ]
  },
  {
   "cell_type": "markdown",
   "metadata": {},
   "source": [
    "--- \n",
    "**Step 3: Memoization (Top-Down)**\n",
    "\n",
    "We'll use a 2D cache (or a dictionary with tuple keys) to store the results for each `(index, capacity)` state."
   ]
  },
  {
   "cell_type": "code",
   "execution_count": null,
   "metadata": {},
   "outputs": [],
   "source": [
    "def knapsack_memo(weights, values, capacity, index, memo):\n",
    "    if index >= len(weights) or capacity <= 0:\n",
    "        return 0\n",
    "    \n",
    "    if (index, capacity) in memo:\n",
    "        return memo[(index, capacity)]\n",
    "\n",
    "    val_without = knapsack_memo(weights, values, capacity, index + 1, memo)\n",
    "    \n",
    "    val_with = 0\n",
    "    if weights[index] <= capacity:\n",
    "        val_with = values[index] + knapsack_memo(weights, values, capacity - weights[index], index + 1, memo)\n",
    "    \n",
    "    memo[(index, capacity)] = max(val_with, val_without)\n",
    "    return memo[(index, capacity)]\n",
    "\n",
    "weights = [1, 2, 3]\n",
    "values = [6, 10, 12]\n",
    "capacity = 5\n",
    "print(f\"Knapsack (Memo): {knapsack_memo(weights, values, capacity, 0, {})}\")"
   ]
  },
  {
   "cell_type": "markdown",
   "metadata": {},
   "source": [
    "**Time Complexity:** $O(N \\cdot W)$ where $N$ is the number of items and $W$ is the capacity. Each state `(index, capacity)` is computed only once.\n",
    "**Space Complexity:** $O(N \\cdot W)$ for the cache and recursion stack."
   ]
  },
  {
   "cell_type": "markdown",
   "metadata": {},
   "source": [
    "--- \n",
    "**Step 4: Tabulation (Bottom-Up)**\n",
    "\n",
    "We'll create a 2D DP table of size `(N+1) x (W+1)`. `dp[i][w]` will store the maximum value using the first `i` items with capacity `w`.\n",
    "\n",
    "The loops will iterate through items `i` and capacities `w`."
   ]
  },
  {
   "cell_type": "code",
   "execution_count": null,
   "metadata": {},
   "outputs": [],
   "source": [
    "def knapsack_tab(weights, values, capacity):\n",
    "    n = len(weights)\n",
    "    # Create a 2D DP table\n",
    "    dp = [[0 for _ in range(capacity + 1)] for _ in range(n + 1)]\n",
    "    \n",
    "    # Iterate through items (rows)\n",
    "    for i in range(1, n + 1):\n",
    "        # Current item's index is i-1\n",
    "        weight = weights[i-1]\n",
    "        value = values[i-1]\n",
    "        # Iterate through capacities (columns)\n",
    "        for w in range(1, capacity + 1):\n",
    "            # Choice 1: Don't take the current item\n",
    "            # The value is the same as the value from the previous item at same capacity\n",
    "            val_without = dp[i-1][w]\n",
    "            \n",
    "            # Choice 2: Take the current item, if it fits\n",
    "            val_with = 0\n",
    "            if w >= weight:\n",
    "                # Value is current item's value + value from previous items with remaining capacity\n",
    "                val_with = value + dp[i-1][w - weight]\n",
    "                \n",
    "            dp[i][w] = max(val_with, val_without)\n",
    "            \n",
    "    return dp[n][capacity]\n",
    "\n",
    "print(f\"Knapsack (Tab): {knapsack_tab(weights, values, capacity)}\")"
   ]
  },
  {
   "cell_type": "markdown",
   "metadata": {},
   "source": [
    "**Time Complexity:** $O(N \\cdot W)$ \n",
    "**Space Complexity:** $O(N \\cdot W)$"
   ]
  },
  {
   "cell_type": "markdown",
   "metadata": {},
   "source": [
    "#### Bonus: Space Optimization for Knapsack\n",
    "\n",
    "Notice that to compute the current row `dp[i]`, we only ever need the information from the *previous* row `dp[i-1]`. We don't need all `N` rows at once. This allows us to optimize the space complexity from $O(N \\cdot W)$ to just $O(W)$.\n",
    "\n",
    "We can use two 1D arrays (`prev_row`, `curr_row`) or, even better, a single 1D array by iterating the capacity loop in reverse to avoid using the already updated values from the current item's pass."
   ]
  },
  {
   "cell_type": "code",
   "execution_count": null,
   "metadata": {},
   "outputs": [],
   "source": [
    "def knapsack_tab_optimized(weights, values, capacity):\n",
    "    n = len(weights)\n",
    "    # Use a single 1D array for DP\n",
    "    dp = [0] * (capacity + 1)\n",
    "    \n",
    "    # Iterate through items\n",
    "    for i in range(n):\n",
    "        weight = weights[i]\n",
    "        value = values[i]\n",
    "        # Iterate backwards to use previous row's data\n",
    "        for w in range(capacity, weight - 1, -1):\n",
    "            dp[w] = max(dp[w], value + dp[w - weight])\n",
    "            \n",
    "    return dp[capacity]\n",
    "\n",
    "print(f\"Knapsack (Space Optimized): {knapsack_tab_optimized(weights, values, capacity)}\")"
   ]
  },
  {
   "cell_type": "markdown",
   "metadata": {},
   "source": [
    "**Time Complexity:** $O(N \\cdot W)$ \n",
    "**Space Complexity:** $O(W)$ - a huge improvement!"
   ]
  },
  {
   "cell_type": "markdown",
   "metadata": {},
   "source": [
    "## Chapter 5:  Conclusion and Next Steps"
   ]
  },
  {
   "cell_type": "markdown",
   "metadata": {},
   "source": [
    "### Key Takeaways\n",
    "\n",
    "Dynamic Programming is not magic. It is a systematic process for optimizing a naive recursive solution that suffers from overlapping subproblems.\n",
    "\n",
    "**Your Unbreakable Framework:**\n",
    "1.  **Solve with Brute-Force Recursion:** Focus on correctness and the choices at each step.\n",
    "2.  **Identify State & Recurrence:** Find the function parameters that define a subproblem and write down the formula.\n",
    "3.  **Memoize:** Add a cache to the brute-force solution for an easy performance win.\n",
    "4.  **Tabulate:** Convert the top-down logic to a bottom-up iterative approach by filling a DP table.\n",
    "5.  **(Optional) Optimize Space:** Look for opportunities to reduce the DP table's dimensions.\n",
    "\n",
    "By following this framework, you can turn a problem that seems impossible into a mechanical, step-by-step process."
   ]
  },
  {
   "cell_type": "markdown",
   "metadata": {},
   "source": [
    "### Further Practice Problems by Pattern\n",
    "\n",
    "**1D DP:**\n",
    "- Climbing Stairs (LeetCode 70)\n",
    "- House Robber (LeetCode 198) & House Robber II (LeetCode 213)\n",
    "- Word Break (LeetCode 139)\n",
    "- Longest Increasing Subsequence (LeetCode 300)\n",
    "\n",
    "**2D DP:**\n",
    "- Longest Common Subsequence (LeetCode 1143)\n",
    "- Edit Distance (LeetCode 72)\n",
    "- Unique Paths (LeetCode 62)\n",
    "- Regular Expression Matching (LeetCode 10)\n",
    "\n",
    "**Advanced DP:**\n",
    "- (Bitmask DP) Traveling Salesperson Problem\n",
    "- (DP on Trees) House Robber III (LeetCode 337)"
   ]
  }
 ],
 "metadata": {
  "kernelspec": {
   "display_name": "Python 3 (ipykernel)",
   "language": "python",
   "name": "python3"
  },
  "language_info": {
   "codemirror_mode": {
    "name": "ipython",
    "version": 3
   },
   "file_extension": ".py",
   "mimetype": "text/x-python",
   "name": "python",
   "nbconvert_exporter": "python",
   "pygments_lexer": "ipython3",
   "version": "3.12.4"
  }
 },
 "nbformat": 4,
 "nbformat_minor": 4
}
