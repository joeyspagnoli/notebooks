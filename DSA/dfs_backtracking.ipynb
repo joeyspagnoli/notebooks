{
 "cells": [
  {
   "cell_type": "markdown",
   "metadata": {},
   "source": [
    "# Chapter 3: Traversing the Depths with DFS and Backtracking"
   ]
  },
  {
   "cell_type": "markdown",
   "metadata": {},
   "source": [
    "## 3.1 The Essence of Exploration: Depth-First Search\n",
    "\n",
    "Depth-First Search (DFS) is a fundamental algorithm for traversing or searching tree and graph data structures. It embodies a strategy of profound, exhaustive exploration of a single path before considering alternatives."
   ]
  },
  {
   "cell_type": "markdown",
   "metadata": {},
   "source": [
    "### Intuition: The Maze Analogy\n",
    "\n",
    "Imagine you are navigating a vast, complex maze. To ensure you explore every passage, you might adopt the following strategy: upon reaching a junction with multiple paths, you choose one and follow it to its absolute end. If that end is the maze's exit, you have succeeded. If it is a dead end, you must retrace your steps (i.e., **backtrack**) to the last junction you were at and explore the next available, untried path.\n",
    "\n",
    "This is the very essence of Depth-First Search. It prioritizes depth over breadth, committing to a single line of inquiry until it is fully resolved before systematically returning to explore other options. This methodical process guarantees that every reachable node or state will eventually be visited."
   ]
  },
  {
   "cell_type": "markdown",
   "metadata": {},
   "source": [
    "### Mechanism: Going Deep Before Going Wide\n",
    "\n",
    "Unlike its counterpart, Breadth-First Search (BFS), which explores all neighbors at the present depth before moving to the next level, DFS ventures as far as possible down one branch. This behavior is naturally managed by a **stack** data structure, which operates on a Last-In, First-Out (LIFO) principle.\n",
    "\n",
    "The stack can be implemented in two primary ways:\n",
    "1.  **Implicitly (Recursion):** The most common and often most elegant implementation of DFS uses the program's **call stack**. Each recursive function call pushes a new frame onto the stack, representing a deeper level of traversal. When a base case is met or a path is exhausted, the function returns, popping its frame off the stack and effectively \"backtracking\" to the previous state.\n",
    "2.  **Explicitly (Iteration):** An iterative version of DFS can be built using an explicit stack data structure, such as a Python `list` or `collections.deque`. The algorithm starts by pushing the root node onto the stack. It then enters a loop that continues as long as the stack is not empty, where it pops a node, processes it, and pushes its unvisited neighbors onto the stack."
   ]
  },
  {
   "cell_type": "markdown",
   "metadata": {},
   "source": [
    "### Core Applications\n",
    "\n",
    "DFS is a versatile algorithm that forms the backbone of many other complex algorithms. Its applications include:\n",
    "- **Graph and Tree Traversal:** Systematically visiting every vertex in a graph or node in a tree.\n",
    "- **Finding Connected Components:** Identifying all subgraphs where any two vertices are connected to each other by paths.\n",
    "- **Topological Sorting:** Linearly ordering the vertices of a directed acyclic graph (DAG).\n",
    "- **Cycle Detection:** Determining if a graph contains any cycles.\n",
    "- **Pathfinding:** Finding a path between two vertices in a graph.\n",
    "- **Foundation for Backtracking:** Providing the core engine for backtracking algorithms, which explore all potential solutions to a problem."
   ]
  },
  {
   "cell_type": "markdown",
   "metadata": {},
   "source": [
    "## 3.2 DFS on Trees: Traversal Orders\n",
    "\n",
    "When applied to trees, DFS gives rise to three canonical traversal orders, distinguished by the sequence in which the current node (the \"root\" of the subtree being considered) is processed relative to its left and right subtrees. \n",
    "\n",
    "Consider the following binary tree for illustration:\n",
    "```\n",
    "      F\n",
    "     / \\\n",
    "    B   G\n",
    "   / \\   \\\n",
    "  A   D   I\n",
    "     / \\ / \n",
    "    C  E H\n",
    "```"
   ]
  },
  {
   "cell_type": "markdown",
   "metadata": {},
   "source": [
    "### Pre-order Traversal (Root, Left, Right)\n",
    "In a pre-order traversal, the current node is processed **before** its children. The traversal recursively visits the left subtree and then the right subtree.\n",
    "- **Order for example tree:** `F, B, A, D, C, E, G, I, H`\n",
    "- **Use Cases:** This order is useful for creating a copy of a tree or for obtaining the prefix expression of an expression tree."
   ]
  },
  {
   "cell_type": "markdown",
   "metadata": {},
   "source": [
    "### In-order Traversal (Left, Root, Right)\n",
    "In an in-order traversal, the current node is processed **between** visiting its left and right subtrees.\n",
    "- **Order for example tree:** `A, B, C, D, E, F, G, H, I`\n",
    "- **Use Cases:** Its primary application is with Binary Search Trees (BSTs), where an in-order traversal visits the nodes in ascending sorted order."
   ]
  },
  {
   "cell_type": "markdown",
   "metadata": {},
   "source": [
    "### Post-order Traversal (Left, Right, Root)\n",
    "In a post-order traversal, the current node is processed **after** its left and right subtrees have been fully visited.\n",
    "- **Order for example tree:** `A, C, E, D, B, H, I, G, F`\n",
    "- **Use Cases:** This is commonly used when you need to process children before the parent, such as safely deallocating all nodes in a tree (you must delete the children before the parent) or computing the size of each subtree."
   ]
  },
  {
   "cell_type": "markdown",
   "metadata": {},
   "source": [
    "### Boilerplate: Tree Traversal"
   ]
  },
  {
   "cell_type": "code",
   "execution_count": null,
   "metadata": {},
   "outputs": [],
   "source": [
    "from typing import List, Optional\n",
    "\n",
    "class TreeNode:\n",
    "    \"\"\"Definition for a binary tree node.\"\"\"\n",
    "    def __init__(self, val=0, left=None, right=None):\n",
    "        self.val = val\n",
    "        self.left = left\n",
    "        self.right = right\n",
    "\n",
    "def preorder_traversal(root: Optional[TreeNode]) -> List[int]:\n",
    "    \"\"\"Performs a recursive pre-order traversal.\"\"\"\n",
    "    res = []\n",
    "    def dfs(node):\n",
    "        if not node:\n",
    "            return\n",
    "        # 1. Visit the root\n",
    "        res.append(node.val)\n",
    "        # 2. Traverse the left subtree\n",
    "        dfs(node.left)\n",
    "        # 3. Traverse the right subtree\n",
    "        dfs(node.right)\n",
    "    dfs(root)\n",
    "    return res\n",
    "\n",
    "def inorder_traversal(root: Optional[TreeNode]) -> List[int]:\n",
    "    \"\"\"Performs a recursive in-order traversal.\"\"\"\n",
    "    res = []\n",
    "    def dfs(node):\n",
    "        if not node:\n",
    "            return\n",
    "        # 1. Traverse the left subtree\n",
    "        dfs(node.left)\n",
    "        # 2. Visit the root\n",
    "        res.append(node.val)\n",
    "        # 3. Traverse the right subtree\n",
    "        dfs(node.right)\n",
    "    dfs(root)\n",
    "    return res\n",
    "\n",
    "def postorder_traversal(root: Optional[TreeNode]) -> List[int]:\n",
    "    \"\"\"Performs a recursive post-order traversal.\"\"\"\n",
    "    res = []\n",
    "    def dfs(node):\n",
    "        if not node:\n",
    "            return\n",
    "        # 1. Traverse the left subtree\n",
    "        dfs(node.left)\n",
    "        # 2. Traverse the right subtree\n",
    "        dfs(node.right)\n",
    "        # 3. Visit the root\n",
    "        res.append(node.val)\n",
    "    dfs(root)\n",
    "    return res"
   ]
  },
  {
   "cell_type": "markdown",
   "metadata": {},
   "source": [
    "## 3.3 From Traversal to Problem Solving: Backtracking\n",
    "\n",
    "### The Connection: An Evolution of DFS\n",
    "\n",
    "**Backtracking is an advanced application of Depth-First Search.** While a standard DFS is concerned with *visiting* all reachable nodes, backtracking leverages the same depth-first exploration mechanism for a different purpose: to systematically search for solutions to a computational problem by constructing a solution candidate step-by-step and abandoning a path as soon as it is determined that it cannot possibly lead to a valid, complete solution."
   ]
  },
  {
   "cell_type": "markdown",
   "metadata": {},
   "source": [
    "### The Core Idea: The Decision Tree\n",
    "\n",
    "The most powerful mental model for a backtracking problem is the **decision tree** (also known as the state-space tree). At each step of the algorithm, we face a **choice**. Making a choice corresponds to descending one level deeper in the decision tree along a specific branch.\n",
    "\n",
    "This exploration continues until one of two conditions is met:\n",
    "1.  We reach a state that represents a valid solution.\n",
    "2.  We reach a state where it becomes clear that no valid solution can be found by proceeding further down this path.\n",
    "\n",
    "In the second case, the algorithm **prunes** the current branch of the decision tree. It undoes the most recent choice—this is the \"backtrack\" step—and returns to the previous decision point to explore a different choice. This pruning is the key to backtracking's efficiency, as it avoids the exhaustive exploration of paths that are guaranteed to fail."
   ]
  },
  {
   "cell_type": "markdown",
   "metadata": {},
   "source": [
    "### The Three Components of a Backtracking Problem\n",
    "Every backtracking problem can be deconstructed into three fundamental components:\n",
    "\n",
    "1.  **Choice:** The set of options available at the current state. *Example: In a Sudoku puzzle, the choices for an empty cell are the numbers 1 through 9.*\n",
    "2.  **Constraint:** The set of rules that must not be violated. A choice is only valid if it satisfies all constraints. *Example: In Sudoku, a number can only be placed if it doesn't already exist in the current row, column, or 3x3 subgrid.*\n",
    "3.  **Goal:** The condition that defines a complete and valid solution. This is the base case for the recursion. *Example: In Sudoku, the goal is a completely filled and valid grid.*"
   ]
  },
  {
   "cell_type": "markdown",
   "metadata": {},
   "source": [
    "## 3.4 Problem Identification: When to Use Backtracking\n",
    "\n",
    "Identifying problems amenable to a backtracking solution is a critical skill for algorithmic problem-solving. The following checklist provides strong signals that backtracking is the intended approach:\n",
    "\n",
    "- **Generating All Solutions:** The problem statement explicitly asks for **all possible** solutions, or a count of all solutions. Keywords include:\n",
    "  - *\"Find all possible combinations...\"*\n",
    "  - *\"Generate all valid permutations...\"*\n",
    "  - *\"Return all subsets...\"*\n",
    "  - *\"How many ways are there to...\"*\n",
    "\n",
    "- **Sequence of Decisions:** The problem can be modeled as making a sequence of decisions, where each decision constrains the subsequent set of available choices.\n",
    "\n",
    "- **Combinatorial Nature:** The problem involves constructing objects (e.g., permutations, combinations, subsets, partitions) that satisfy certain constraints.\n",
    "\n",
    "- **Classic Problem Archetypes:** The problem is a variation of a classic backtracking problem, such as:\n",
    "  - Sudoku Solvers\n",
    "  - N-Queens\n",
    "  - Combination Sum\n",
    "  - Permutations\n",
    "  - Word Search"
   ]
  },
  {
   "cell_type": "markdown",
   "metadata": {},
   "source": [
    "## 3.5 The Backtracking Boilerplate\n",
    "\n",
    "Nearly all backtracking algorithms can be implemented using a single, powerful recursive template. Mastering this boilerplate is paramount to solving this class of problems efficiently and reliably during technical interviews."
   ]
  },
  {
   "cell_type": "code",
   "execution_count": null,
   "metadata": {},
   "outputs": [],
   "source": [
    "def backtrack(current_state, ...):\n",
    "    # 1. Base Case: Check if the current state is a valid, complete solution.\n",
    "    if is_a_solution(current_state):\n",
    "        add_solution_to_results(current_state)\n",
    "        return\n",
    "\n",
    "    # 2. Iterate through all possible \"choices\" that can be made from the current state.\n",
    "    for choice in get_all_possible_choices(current_state):\n",
    "        # An optional but crucial optimization: if the choice violates a constraint,\n",
    "        # prune this path early by skipping it.\n",
    "        if not is_valid(choice, current_state):\n",
    "            continue\n",
    "            \n",
    "        # 3. Make the choice: Modify the state to reflect the current choice.\n",
    "        # This action takes us one step deeper into the decision tree.\n",
    "        make_choice(choice, current_state)\n",
    "\n",
    "        # 4. Recurse: Call the backtrack function with the new state to explore further.\n",
    "        backtrack(current_state, ...)\n",
    "\n",
    "        # 5. Undo the choice: This is the \"backtrack\" step. Revert the state\n",
    "        # to what it was before the choice was made. This allows us to explore\n",
    "        # other branches of the decision tree.\n",
    "        undo_choice(choice, current_state)"
   ]
  },
  {
   "cell_type": "markdown",
   "metadata": {},
   "source": [
    "### Explanation of the Boilerplate Steps:\n",
    "\n",
    "1.  **The Base Case (`is_a_solution`):** This is the termination condition for the recursion. It checks if the `current_state` (e.g., a path, a permutation, a filled grid) meets the problem's goal. If so, we record the solution and return, as there is no need to explore this path further.\n",
    "\n",
    "2.  **The Loop (`get_all_possible_choices`):** This loop generates all potential next steps from the `current_state`. The set of choices may be static (e.g., numbers 1-9 in Sudoku) or dynamic (e.g., remaining unused numbers for a permutation).\n",
    "\n",
    "3.  **Make the Choice (`make_choice`):** This is the action of committing to a choice. It involves updating our state variables. For example, adding an element to a list representing the current subset, or placing a number on a Sudoku board.\n",
    "\n",
    "4.  **Recurse (`backtrack(...)`):** This is the heart of the depth-first exploration. We call the function on itself with the modified state, effectively descending one level deeper in the decision tree.\n",
    "\n",
    "5.  **Undo the Choice (`undo_choice`):** This step is the defining feature of backtracking and is absolutely critical. After a recursive call returns (meaning it has fully explored all paths stemming from our last choice), we must revert the state to its previous condition. This is what allows us to explore the *next* choice in the loop from a clean slate. A common implementation is `path.pop()` if we added an element to a list."
   ]
  },
  {
   "cell_type": "markdown",
   "metadata": {},
   "source": [
    "## 3.6 LeetCode Case Study: \"Subsets\" (Problem 78)\n",
    "\n",
    "Let's apply this framework to a canonical backtracking problem."
   ]
  },
  {
   "cell_type": "markdown",
   "metadata": {},
   "source": [
    "### Problem Statement\n",
    "\n",
    "> Given an integer array `nums` of **unique** elements, return **all possible subsets** (the power set).\n",
    ">\n",
    "> The solution set must not contain duplicate subsets. You can return the solution in any order.\n",
    "\n",
    "**Example:**\n",
    "```\n",
    "Input: nums = [1, 2, 3]\n",
    "Output: [[], [1], [2], [1, 2], [3], [1, 3], [2, 3], [1, 2, 3]]\n",
    "```"
   ]
  },
  {
   "cell_type": "markdown",
   "metadata": {},
   "source": [
    "### Problem Identification & Strategy\n",
    "\n",
    "- **Identification:** The problem explicitly asks for **\"all possible subsets,\"** a primary keyword indicating a backtracking approach.\n",
    "\n",
    "- **Strategy (Decision Tree):** We can model this as a sequence of decisions. For each number in the input array `nums`, we have two choices:\n",
    "  1.  **Include** the number in the current subset we are building.\n",
    "  2.  **Do not include** the number in the current subset.\n",
    "\n",
    "By exploring all possible combinations of these choices, we will generate every possible subset. The backtracking algorithm will manage this exploration systematically."
   ]
  },
  {
   "cell_type": "markdown",
   "metadata": {},
   "source": [
    "### Step-by-Step Solution Walkthrough\n",
    "\n",
    "Let's trace the execution for `nums = [1, 2]`. We will use `path` to store the current subset being built and `results` to store all completed subsets.\n",
    "\n",
    "```\n",
    "backtrack(start_index=0, path=[])\n",
    "  // We always add the current path as a valid subset.\n",
    "  results.add( [] )\n",
    "\n",
    "  // Loop for choices from index 0: i = 0 (num=1)\n",
    "  1. CHOOSE 1: path = [1]\n",
    "     backtrack(start_index=1, path=[1])\n",
    "       results.add( [1] )\n",
    "\n",
    "       // Loop for choices from index 1: i = 1 (num=2)\n",
    "       2. CHOOSE 2: path = [1, 2]\n",
    "          backtrack(start_index=2, path=[1, 2])\n",
    "            results.add( [1, 2] )\n",
    "            // Loop for choices from index 2 is empty. Return.\n",
    "          // Backtrack from choice 2\n",
    "       3. UNDO 2: path = [1]\n",
    "\n",
    "       // Loop for choices from index 1 is finished. Return.\n",
    "     // Backtrack from choice 1\n",
    "  4. UNDO 1: path = []\n",
    "\n",
    "  // Loop for choices from index 0: i = 1 (num=2)\n",
    "  5. CHOOSE 2: path = [2]\n",
    "     backtrack(start_index=2, path=[2])\n",
    "       results.add( [2] )\n",
    "       // Loop for choices from index 2 is empty. Return.\n",
    "     // Backtrack from choice 2\n",
    "  6. UNDO 2: path = []\n",
    "\n",
    "  // Loop for choices from index 0 is finished. Return.\n",
    "```\n",
    "Final `results`: `[ [], [1], [1, 2], [2] ]`"
   ]
  },
  {
   "cell_type": "markdown",
   "metadata": {},
   "source": [
    "### Code Implementation"
   ]
  },
  {
   "cell_type": "code",
   "execution_count": null,
   "metadata": {},
   "outputs": [],
   "source": [
    "from typing import List\n",
    "\n",
    "class Solution:\n",
    "    def subsets(self, nums: List[int]) -> List[List[int]]:\n",
    "        results = []\n",
    "        current_path = []\n",
    "\n",
    "        def backtrack(start_index: int):\n",
    "            # 1. Base Case / Goal: Every path constructed is a valid subset.\n",
    "            # We add a copy of the current path to our results.\n",
    "            # A copy is necessary because current_path will be modified during backtracking.\n",
    "            results.append(list(current_path))\n",
    "\n",
    "            # The base case for stopping the recursion is when the start_index\n",
    "            # goes beyond the array bounds, which naturally ends the loop below.\n",
    "            if start_index >= len(nums):\n",
    "                return\n",
    "\n",
    "            # 2. Iterate through all possible \"choices\".\n",
    "            # The choice at this step is which number to add next.\n",
    "            # By starting the loop from `start_index`, we ensure that we do not reuse\n",
    "            # elements and avoid generating duplicate subsets (e.g., [1, 2] and [2, 1]).\n",
    "            for i in range(start_index, len(nums)):\n",
    "                \n",
    "                # 3. Make the choice: Add the current element to our path.\n",
    "                current_path.append(nums[i])\n",
    "\n",
    "                # 4. Recurse: Explore further with the new state.\n",
    "                # We pass `i + 1` to the next call to ensure the next choices\n",
    "                # are from the remaining part of the array.\n",
    "                backtrack(i + 1)\n",
    "\n",
    "                # 5. Undo the choice: This is the backtrack step.\n",
    "                # We remove the element we just added, so that in the next iteration\n",
    "                # of the loop, we can explore paths without this element.\n",
    "                current_path.pop()\n",
    "        \n",
    "        backtrack(0)\n",
    "        return results\n",
    "\n",
    "# Example Usage:\n",
    "solver = Solution()\n",
    "nums_example = [1, 2, 3]\n",
    "print(f\"Subsets for {nums_example}:\\n{solver.subsets(nums_example)}\")"
   ]
  },
  {
   "cell_type": "markdown",
   "metadata": {},
   "source": [
    "### Complexity Analysis\n",
    "\n",
    "Let $N$ be the number of elements in the input array `nums`.\n",
    "\n",
    "- **Time Complexity: $O(N \\cdot 2^N)$**\n",
    "  - For each element in `nums`, we have two choices: either include it in the subset or not. This leads to a total of $2^N$ possible subsets.\n",
    "  - For each of these $2^N$ subsets, we create a copy of the `current_path` to add to our `results`. In the worst case, the path can have a length of $N$. \n",
    "  - Therefore, the total time complexity is dominated by the process of generating all $2^N$ subsets and copying them, resulting in $O(N \\cdot 2^N)$.\n",
    "\n",
    "- **Space Complexity: $O(N)$**\n",
    "  - The primary contributor to the space complexity is the recursion call stack. The depth of the recursion is at most $N$, as we make one recursive call for each element we choose to include in the path.\n",
    "  - The `current_path` also stores at most $N$ elements.\n",
    "  - Therefore, the space required is proportional to $N$. (Note: This analysis excludes the space required for the output list `results`, which would be $O(N \\cdot 2^N)$.)"
   ]
  }
 ],
 "metadata": {
  "kernelspec": {
   "display_name": "Python 3",
   "language": "python",
   "name": "python3"
  },
  "language_info": {
   "codemirror_mode": {
    "name": "ipython",
    "version": 3
   },
   "file_extension": ".py",
   "mimetype": "text/x-python",
   "name": "python",
   "nbconvert_exporter": "python",
   "pygments_lexer": "ipython3",
   "version": "3.9.12"
  }
 },
 "nbformat": 4,
 "nbformat_minor": 2
}