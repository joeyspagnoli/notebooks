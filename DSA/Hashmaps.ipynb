{
 "cells": [
  {
   "cell_type": "markdown",
   "metadata": {},
   "source": [
    "# Chapter 2: The Power of Hash Maps"
   ]
  },
  {
   "cell_type": "markdown",
   "metadata": {},
   "source": [
    "## 2.1 🚀 The Most Important Data Structure: Hash Maps\n",
    "\n",
    "In the landscape of data structures, the **Hash Map**—known as a `dictionary` in Python—stands out as arguably the most critical tool for a software engineer, particularly in the context of coding interviews. Its prevalence stems from a single, powerful capability: the ability to perform average-time **$O(1)$ complexity for lookups, insertions, and deletions**.\n",
    "\n",
    "This constant-time performance allows for the creation of highly efficient algorithms that would otherwise be sluggish. Many brute-force solutions with quadratic complexity, such as $O(n^2)$, can often be optimized to linear time, $O(n)$, by the clever application of a hash map. This optimization is not just an incremental improvement; it is a fundamental shift in efficiency that separates a non-viable solution from a production-ready one.\n",
    "\n",
    "Therefore, it is essential to internalize the following critical thinking question. It should be the first thing you ask yourself when aiming to optimize a slow algorithm:\n",
    "\n",
    "> **If you are ever stuck on an $O(n^2)$ solution, ask yourself: 'Can a hash map help?'**"
   ]
  },
  {
   "cell_type": "markdown",
   "metadata": {},
   "source": [
    "## 2.2 ⚙️ Under the Hood: How Hashing Works\n",
    "\n",
    "To wield hash maps effectively, it is crucial to understand their internal mechanics. A hash map is a generalization of a standard array. While an array uses an integer index to access an element, a hash map allows you to use a key of almost any type (e.g., a string, a number, or a tuple) to find its corresponding value. This is achieved through three core components:"
   ]
  },
  {
   "cell_type": "markdown",
   "metadata": {},
   "source": [
    "### Hash Function\n",
    "A hash function is a mathematical function that takes a key as input and deterministically produces an integer output. This integer is the \"hash code.\" In the context of a hash map, this hash code is then mapped to an index within the underlying array.\n",
    "$$ \\text{index} = \\text{hash}(\\text{key}) \\pmod{M} $$\n",
    "Where $M$ is the size of the underlying array. A good hash function distributes keys uniformly across the available indices to minimize collisions.\n",
    "\n",
    "### Buckets\n",
    "The underlying data store for a hash map is an array. Each slot in this array is called a **bucket**. The index calculated by the hash function determines which bucket a key-value pair should be placed in.\n",
    "\n",
    "### Collision Resolution\n",
    "A **hash collision** occurs when two distinct keys produce the same hash code, and thus map to the same bucket index. Since two items cannot occupy the same single slot, a strategy is needed to handle this. The most common method is **Chaining**.\n",
    "\n",
    "With chaining, each bucket, instead of holding a single value, holds a pointer to another data structure, typically a linked list. If multiple keys map to the same bucket, their key-value pairs are simply appended to the linked list at that index. When retrieving a value, the hash map first finds the correct bucket and then traverses the linked list, comparing the given key with the keys stored in the list until a match is found.\n",
    "\n"
   ]
  },
  {
   "cell_type": "markdown",
   "metadata": {},
   "source": [
    "## 2.3 💡 Common Problem Pattern: Finding Duplicates & Pairs\n",
    "\n",
    "The $O(1)$ lookup capability of a hash map makes it exceptionally well-suited for problems that involve searching for items. This includes detecting duplicates, finding pairs that satisfy a specific condition, or, more generally, checking for the existence of an element in a collection.\n",
    "\n",
    "A classic example is the **\"Two Sum\"** problem (LeetCode 1): given an array of integers `nums` and a target integer `target`, find the indices of two numbers such that they add up to `target`.\n",
    "\n",
    "A naive, brute-force approach would use nested loops to check every possible pair of numbers, resulting in an $O(n^2)$ time complexity. However, a hash map can optimize this to $O(n)$.\n",
    "\n",
    "The optimized algorithm works as follows: iterate through the array once. For each element `num`, calculate its required complement, `complement = target - num`. Then, check if `complement` already exists in the hash map. \n",
    "* If it does, we have found our pair.\n",
    "* If it does not, add the current element `num` and its index to the hash map and proceed to the next element.\n",
    "\n",
    "This works because by the time we are at index `i`, our hash map contains all the elements seen at indices `0` through `i-1`. The lookup for the complement is an $O(1)$ operation on average, and we only pass through the array once, yielding a total time complexity of $O(n)$."
   ]
  },
  {
   "cell_type": "markdown",
   "metadata": {},
   "source": [
    "### Boilerplate: The 'Two Sum' Pattern\n",
    "\n",
    "This pattern is fundamental. It uses a hash map to store seen values and their indices, enabling a single-pass solution."
   ]
  },
  {
   "cell_type": "code",
   "execution_count": null,
   "metadata": {},
   "outputs": [],
   "source": [
    "from typing import List\n",
    "\n",
    "def find_sum_pair(nums: List[int], target: int) -> List[int]:\n",
    "    \"\"\"\n",
    "    Finds two numbers in a list that sum to a target value.\n",
    "    \n",
    "    This function uses a hash map to achieve O(n) time complexity.\n",
    "    Args:\n",
    "        nums: A list of integers.\n",
    "        target: The target sum.\n",
    "    Returns:\n",
    "        A list containing the indices of the two numbers, or an empty list if no pair is found.\n",
    "    \"\"\"\n",
    "    seen_map = {}  # Key: number, Value: index\n",
    "    \n",
    "    for i, num in enumerate(nums):\n",
    "        complement = target - num\n",
    "        \n",
    "        # O(1) average time lookup\n",
    "        if complement in seen_map:\n",
    "            # Found the pair\n",
    "            return [seen_map[complement], i]\n",
    "        \n",
    "        # Add the current number and its index to the map for future lookups\n",
    "        seen_map[num] = i\n",
    "        \n",
    "    return [] # Return empty list if no solution is found\n",
    "\n",
    "# Example usage:\n",
    "my_nums = [2, 7, 11, 15]\n",
    "my_target = 9\n",
    "result = find_sum_pair(my_nums, my_target)\n",
    "print(f\"Input: {my_nums}, Target: {my_target}\")\n",
    "print(f\"Result (Indices): {result}\") # Expected output: [0, 1]"
   ]
  },
  {
   "cell_type": "markdown",
   "metadata": {},
   "source": [
    "## 2.4 📊 Common Problem Pattern: Grouping & Counting\n",
    "\n",
    "Another powerful application of hash maps is aggregating data. This pattern involves iterating through a collection of items and using a hash map to either group them by a common property or count their frequencies.\n",
    "\n",
    "For example, to count the frequency of each character in a string, you can iterate through the string. For each character, you use it as a key in a hash map. The value associated with that key is an integer counter, which you increment on each appearance. This simple process efficiently categorizes and counts elements in linear time."
   ]
  },
  {
   "cell_type": "markdown",
   "metadata": {},
   "source": [
    "### Boilerplate: Grouping and Counting\n",
    "\n",
    "Python's `collections` module provides specialized dictionary subclasses that make these tasks even more straightforward. The two most important are `defaultdict` for grouping and `Counter` for counting."
   ]
  },
  {
   "cell_type": "code",
   "execution_count": null,
   "metadata": {},
   "outputs": [],
   "source": [
    "from collections import defaultdict\n",
    "\n",
    "# Template 1: Grouping items into lists using defaultdict\n",
    "words = [\"apple\", \"ant\", \"ball\", \"bat\", \"cat\", \"car\"]\n",
    "\n",
    "# Group words by their first letter\n",
    "grouped_words = defaultdict(list)\n",
    "\n",
    "for word in words:\n",
    "    key = word[0]\n",
    "    grouped_words[key].append(word)\n",
    "\n",
    "print(\"Grouping with defaultdict:\")\n",
    "print(dict(grouped_words)) # Convert to regular dict for clean printing"
   ]
  },
  {
   "cell_type": "markdown",
   "metadata": {},
   "source": [
    "The `defaultdict(list)` automatically provides an empty list for any new key that is accessed, saving you from writing boilerplate code to check if the key already exists."
   ]
  },
  {
   "cell_type": "code",
   "execution_count": null,
   "metadata": {},
   "outputs": [],
   "source": [
    "from collections import Counter\n",
    "\n",
    "# Template 2: Counting item frequencies with Counter\n",
    "data = ['a', 'b', 'a', 'c', 'b', 'a', 'd']\n",
    "\n",
    "# Counter can be initialized directly from an iterable\n",
    "frequency_counts = Counter(data)\n",
    "\n",
    "print(\"\\nCounting with Counter:\")\n",
    "print(frequency_counts)\n",
    "\n",
    "# Accessing counts is easy\n",
    "print(f\"Count of 'a': {frequency_counts['a']}\") # Outputs 3\n",
    "print(f\"Count of 'z': {frequency_counts['z']}\") # Outputs 0, no error"
   ]
  },
  {
   "cell_type": "markdown",
   "metadata": {},
   "source": [
    "## 2.5 ⚡️ Application: Caching & Memoization\n",
    "\n",
    "A hash map is the perfect data structure for caching the results of expensive computations. The input to a function can serve as the key, and the result can serve as the value. Before re-computing a result, the function first checks if the input already exists as a key in its cache. If so, it returns the stored value directly, which is an $O(1)$ operation.\n",
    "\n",
    "This powerful technique is known as **Memoization** and is a cornerstone of **Dynamic Programming**. It is used to optimize recursive algorithms that have overlapping subproblems, such as the classic Fibonacci sequence calculation, transforming an exponential-time complexity into a linear-time one."
   ]
  },
  {
   "cell_type": "markdown",
   "metadata": {},
   "source": [
    "### Boilerplate: Memoization\n",
    "\n",
    "This template shows how to add a cache (a dictionary) to a recursive function to store and retrieve previously computed results."
   ]
  },
  {
   "cell_type": "code",
   "execution_count": null,
   "metadata": {},
   "outputs": [],
   "source": [
    "# A dictionary used as a cache for memoization\n",
    "fib_cache = {}\n",
    "\n",
    "def fibonacci_memoized(n: int) -> int:\n",
    "    \"\"\"\n",
    "    Calculates the n-th Fibonacci number using memoization.\n",
    "    \"\"\"\n",
    "    # Base cases\n",
    "    if n <= 1:\n",
    "        return n\n",
    "    \n",
    "    # Check the cache first (O(1) lookup)\n",
    "    if n in fib_cache:\n",
    "        return fib_cache[n]\n",
    "    \n",
    "    # If not in cache, compute it, then store it\n",
    "    result = fibonacci_memoized(n - 1) + fibonacci_memoized(n - 2)\n",
    "    fib_cache[n] = result\n",
    "    \n",
    "    return result\n",
    "\n",
    "# Example usage:\n",
    "n = 30\n",
    "print(f\"Fibonacci({n}) = {fibonacci_memoized(n)}\")"
   ]
  },
  {
   "cell_type": "markdown",
   "metadata": {},
   "source": [
    "## 2.6 🐍 Advanced Techniques & Pythonic Tips\n",
    "\n",
    "Mastery of hash maps in Python involves understanding the nuances of different dictionary types and adhering to language-specific rules."
   ]
  },
  {
   "cell_type": "markdown",
   "metadata": {},
   "source": [
    "### `defaultdict` vs. `Counter` vs. Standard `dict`\n",
    "\n",
    "* **`dict` (with `.get()`)**: Use a standard dictionary when you need full control. The `.get(key, default)` method is your primary tool for avoiding `KeyError` exceptions. Use it when you need to provide a default value on-the-fly without permanently adding it to the dictionary. *Example: `count = my_dict.get('key', 0) + 1`*\n",
    "\n",
    "* **`collections.defaultdict`**: Use this when you are grouping items into collections (like lists, sets, or other dictionaries). It simplifies the code by automatically creating a default item (e.g., an empty list) for a new key upon its first access, eliminating the need for existence checks.\n",
    "\n",
    "* **`collections.Counter`**: Use this specifically for counting hashable objects. It is a dictionary subclass where elements are stored as keys and their counts are stored as values. It provides helpful methods like `.most_common()` and allows for direct arithmetic operations (e.g., subtracting one Counter from another to see the difference, which is invaluable for anagram problems)."
   ]
  },
  {
   "cell_type": "markdown",
   "metadata": {},
   "source": [
    "### Hashability: The Immutable Key Rule\n",
    "\n",
    "A crucial constraint for dictionary keys in Python is that they must be **hashable**. An object is hashable if it has a hash value that never changes during its lifetime. This implies that keys must be of an **immutable** type.\n",
    "\n",
    "* **Hashable (Valid Keys)**: `str`, `int`, `float`, `bool`, `tuple`, `frozenset`.\n",
    "* **Unhashable (Invalid Keys)**: `list`, `dict`, `set`. Attempting to use these as keys will raise a `TypeError: unhashable type`.\n",
    "\n",
    "The reason for this rule is simple: if a key's value could change, its hash would also change, and the dictionary would no longer be able to find the object."
   ]
  },
  {
   "cell_type": "markdown",
   "metadata": {},
   "source": [
    "### Using Tuples as Composite Keys\n",
    "\n",
    "A powerful and common technique is to use a tuple as a dictionary key. Since tuples are immutable, they are hashable. This is extremely useful when a single piece of data is insufficient to uniquely identify an entry. For example, in problems involving a grid or matrix, you can use a coordinate pair `(row, col)` as a single key to store information about a specific cell."
   ]
  },
  {
   "cell_type": "code",
   "execution_count": null,
   "metadata": {},
   "outputs": [],
   "source": [
    "# Example: Storing data for grid coordinates\n",
    "grid_data = {}\n",
    "point1 = (10, 25) # A (row, col) tuple\n",
    "point2 = (30, 15)\n",
    "\n",
    "grid_data[point1] = \"Start Node\"\n",
    "grid_data[point2] = \"End Node\"\n",
    "to_find = (10, 25)\n",
    "if to_find in grid_data:\n",
    "    print(f\"Data at {to_find}: {grid_data[to_find]}\")"
   ]
  },
  {
   "cell_type": "markdown",
   "metadata": {},
   "source": [
    "### Choosing a Canonical Key\n",
    "\n",
    "For many advanced hash map problems, particularly those involving grouping, the central challenge is not the data structure itself, but rather devising a **canonical representation** for the data that can serve as the key. A canonical representation is a standard, unique format for data that may have multiple equivalent forms.\n",
    "\n",
    "For example, in the \"Group Anagrams\" problem, the words \"eat,\" \"tea,\" and \"ate\" are different strings but are equivalent in terms of their letters. A canonical key for this group would be the sorted string \"aet\". By mapping each word to its canonical (sorted) form, we can easily group all anagrams together under the same key."
   ]
  },
  {
   "cell_type": "markdown",
   "metadata": {},
   "source": [
    "## 2.7 🧩 LeetCode Case Study: \"Group Anagrams\"\n",
    "\n",
    "Let's apply these concepts to a classic LeetCode problem that perfectly illustrates the grouping pattern and the need for a canonical key."
   ]
  },
  {
   "cell_type": "markdown",
   "metadata": {},
   "source": [
    "### Problem Statement\n",
    "\n",
    "**LeetCode 49: Group Anagrams**\n",
    "\n",
    "Given an array of strings `strs`, group the anagrams together. You can return the answer in any order.\n",
    "\n",
    "An **Anagram** is a word or phrase formed by rearranging the letters of a different word or phrase, typically using all the original letters exactly once.\n",
    "\n",
    "**Example:**\n",
    "```\n",
    "Input: strs = [\"eat\",\"tea\",\"tan\",\"ate\",\"nat\",\"bat\"]\n",
    "Output: [[\"bat\"],[\"nat\",\"tan\"],[\"ate\",\"eat\",\"tea\"]]\n",
    "```"
   ]
  },
  {
   "cell_type": "markdown",
   "metadata": {},
   "source": [
    "### Problem Identification & Strategy\n",
    "\n",
    "1.  **Identify the Pattern**: The problem asks us to \"group\" items. This immediately signals that a hash map is an excellent candidate data structure. The goal is to map each string to a group.\n",
    "\n",
    "2.  **Devise a Key**: We need a key that is identical for all anagrams in a group but unique between different groups. What do \"eat\", \"tea\", and \"ate\" have in common? They are composed of the exact same letters. If we sort the characters of each word, they all produce the same result: `\"aet\"`. This sorted string is the perfect **canonical key**.\n",
    "\n",
    "3.  **Choose the Right Tool**: Since we are grouping strings into lists, `collections.defaultdict(list)` is the ideal tool. It will automatically create a new list for the first word we encounter for any given canonical key."
   ]
  },
  {
   "cell_type": "markdown",
   "metadata": {},
   "source": [
    "### Step-by-Step Solution\n",
    "\n",
    "The algorithm is as follows:\n",
    "\n",
    "1.  Initialize an empty `defaultdict(list)` named `anagram_map`.\n",
    "2.  Iterate through each `word` in the input list `strs`.\n",
    "3.  For each `word`, compute its canonical key by sorting its characters. In Python, this can be done via `\"\".join(sorted(word))`.\n",
    "4.  Use this canonical key to access `anagram_map` and append the original `word` to the list associated with that key.\n",
    "5.  After the loop finishes, the values of `anagram_map` will be the lists of grouped anagrams. Return these values."
   ]
  },
  {
   "cell_type": "markdown",
   "metadata": {},
   "source": [
    "Here is the complete Python implementation for the 'Group Anagrams' problem."
   ]
  },
  {
   "cell_type": "code",
   "execution_count": null,
   "metadata": {},
   "outputs": [],
   "source": [
    "from collections import defaultdict\n",
    "from typing import List\n",
    "\n",
    "def group_anagrams(strs: List[str]) -> List[List[str]]:\n",
    "    \"\"\"\n",
    "    Groups anagrams together from a list of strings.\n",
    "    \n",
    "    Args:\n",
    "        strs: A list of strings.\n",
    "    Returns:\n",
    "        A list of lists, where each inner list contains a group of anagrams.\n",
    "    \"\"\"\n",
    "    # Use defaultdict(list) to automatically handle the creation of new groups.\n",
    "    anagram_map = defaultdict(list)\n",
    "    \n",
    "    for word in strs:\n",
    "        # The canonical key for an anagram group is the sorted string.\n",
    "        # A tuple is used here because it is immutable and thus hashable.\n",
    "        canonical_key = tuple(sorted(word))\n",
    "        \n",
    "        # Append the original word to the list for its corresponding canonical key.\n",
    "        anagram_map[canonical_key].append(word)\n",
    "    \n",
    "    # The values of the map are the lists of grouped anagrams.\n",
    "    return list(anagram_map.values())\n",
    "\n",
    "# Example usage:\n",
    "input_strs = [\"eat\",\"tea\",\"tan\",\"ate\",\"nat\",\"bat\"]\n",
    "grouped = group_anagrams(input_strs)\n",
    "print(f\"Input: {input_strs}\")\n",
    "print(f\"Grouped Anagrams: {grouped}\")"
   ]
  },
  {
   "cell_type": "markdown",
   "metadata": {},
   "source": [
    "### Complexity Analysis\n",
    "\n",
    "Let $N$ be the number of strings in the input list `strs`.\n",
    "Let $K$ be the maximum length of a string in `strs`.\n",
    "\n",
    "* **Time Complexity: $O(N \\cdot K)$**\n",
    "    * We iterate through each of the $N$ strings in the input list.\n",
    "    * For each string of length up to $K$, the dominant operation is creating the character count array. This requires a single pass through the string's characters, taking $O(K)$ time.\n",
    "    * The subsequent operations (converting the count list to a tuple and inserting into the hash map) are constant time on average with respect to the string's length.\n",
    "    * Therefore, the total time complexity is the product of these two operations: $O(N \\cdot K)$. This is a significant improvement over the $O(N \\cdot K \\log K)$ complexity of the sorting-based approach.\n",
    "\n",
    "* **Space Complexity: $O(N \\cdot K)$**\n",
    "    * The space complexity is determined by the storage required for the `anagram_map`.\n",
    "    * In the worst-case scenario, every string is unique, and no anagrams are found. In this case, the hash map must store all $N$ original strings.\n",
    "    * The total space required is the sum of the lengths of all strings, which is bounded by $O(N \\cdot K)$. The space for the keys (tuples of fixed size 26) is negligible in comparison."
   ]
  }
 ],
 "metadata": {
  "kernelspec": {
   "display_name": "Python 3",
   "language": "python",
   "name": "python3"
  },
  "language_info": {
   "codemirror_mode": {
    "name": "ipython",
    "version": 3
   },
   "file_extension": ".py",
   "mimetype": "text/x-python",
   "name": "python",
   "nbconvert_exporter": "python",
   "pygments_lexer": "ipython3",
   "version": "3.9.12"
  }
 },
 "nbformat": 4,
 "nbformat_minor": 2
}
