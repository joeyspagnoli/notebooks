{
 "cells": [
  {
   "cell_type": "markdown",
   "metadata": {},
   "source": [
    "# Mastering Prefix & Suffix Sums: From Theory to Problem-Solving Patterns"
   ]
  },
  {
   "cell_type": "markdown",
   "metadata": {},
   "source": [
    "Welcome! This notebook is your guide to mastering a fundamental and powerful technique in algorithms: **Prefix and Suffix Sums** (also known as Prefix/Suffix Arrays). While the concept is simple, its applications are vast and often unlock elegant solutions to seemingly complex problems.\n",
    "\n",
    "Our goal is to move beyond the basic definition and help you develop the intuition to **identify** when this pattern is the right tool for the job."
   ]
  },
  {
   "cell_type": "code",
   "execution_count": 2,
   "metadata": {},
   "outputs": [],
   "source": [
    "from typing import List\n",
    "import operator"
   ]
  },
  {
   "cell_type": "markdown",
   "metadata": {},
   "source": [
    "## 📘 Section 1: The Core Concept of Prefix Sums"
   ]
  },
  {
   "cell_type": "markdown",
   "metadata": {},
   "source": [
    "A **prefix sum array** (or running sum) is an array where each element `prefix[i]` stores the cumulative sum of all elements from the beginning of the original array up to index `i`.\n",
    "\n",
    "### Simple Visualization\n",
    "\n",
    "Imagine you have an array `nums`:\n",
    "```\n",
    "nums   = [ 2,  5,  1,  8,  3 ]\n",
    "```\n",
    "Its prefix sum array, `prefix`, would be:\n",
    "```\n",
    "prefix = [ 2,  7,  8, 16, 19 ]\n",
    "         |   |   |   |   |\n",
    "         |   |   |   |   +-- 16 + 3\n",
    "         |   |   |   +------ 8 + 8\n",
    "         |   |   +---------- 7 + 1\n",
    "         |   +-------------- 2 + 5\n",
    "         +------------------ 2\n",
    "```"
   ]
  },
  {
   "cell_type": "markdown",
   "metadata": {},
   "source": [
    "Let's implement a function to build this array. A common and useful convention is to pad the prefix sum array with a leading `0`. This makes range sum calculations much cleaner."
   ]
  },
  {
   "cell_type": "code",
   "execution_count": null,
   "metadata": {},
   "outputs": [],
   "source": [
    "def build_prefix_sum(nums: List[int]) -> List[int]:\n",
    "    \"\"\"Builds a prefix sum array with a leading 0 for easier calculations.\"\"\"\n",
    "    prefix_sum = [0] * (len(nums) + 1)\n",
    "    for i in range(len(nums)):\n",
    "        prefix_sum[i+1] = prefix_sum[i] + nums[i]\n",
    "    return prefix_sum\n",
    "\n",
    "# Example usage\n",
    "nums = [2, 5, 1, 8, 3]\n",
    "prefix = build_prefix_sum(nums)\n",
    "print(f\"Original Array: {nums}\")\n",
    "print(f\"Prefix Sum Array: {prefix}\")"
   ]
  },
  {
   "cell_type": "markdown",
   "metadata": {},
   "source": [
    "### The Superpower: O(1) Range Sum Queries\n",
    "\n",
    "The primary benefit of a prefix sum array is its ability to calculate the sum of any subarray `nums[i:j+1]` in constant time, $O(1)$, after the initial $O(n)$ preprocessing step to build the array.\n",
    "\n",
    "The sum of elements from index `i` to `j` (inclusive) is given by:\n",
    "$$ \\text{sum}(i, j) = \\text{prefix}[j+1] - \\text{prefix}[i] $$\n",
    "\n",
    "Why does this work? \n",
    "- `prefix[j+1]` is the sum of all elements from the start up to index `j`.\n",
    "- `prefix[i]` is the sum of all elements from the start up to index `i-1`.\n",
    "\n",
    "Subtracting the two leaves you with exactly the sum of elements from `i` to `j`."
   ]
  },
  {
   "cell_type": "markdown",
   "metadata": {},
   "source": [
    "Let's test this. We want to find the sum of the subarray from index 1 to 3 (inclusive), which is `[5, 1, 8]`."
   ]
  },
  {
   "cell_type": "code",
   "execution_count": null,
   "metadata": {},
   "outputs": [],
   "source": [
    "i, j = 1, 3\n",
    "subarray_sum = prefix[j+1] - prefix[i]\n",
    "\n",
    "print(f\"Sum of nums[{i}:{j+1}] is {sum(nums[i:j+1])}\")\n",
    "print(f\"Calculated using prefix sum: prefix[{j+1}] - prefix[{i}] = {prefix[j+1]} - {prefix[i]} = {subarray_sum}\")"
   ]
  },
  {
   "cell_type": "markdown",
   "metadata": {},
   "source": [
    "## 🧠 Section 2: Generalizing Beyond \"Sums\""
   ]
  },
  {
   "cell_type": "markdown",
   "metadata": {},
   "source": [
    "The key insight is that this pattern isn't just about addition. It's about pre-calculating a running **aggregation** for any **associative operation**. An operation `*` is associative if `(a * b) * c = a * (b * c)`.\n",
    "\n",
    "Let's look at a few examples."
   ]
  },
  {
   "cell_type": "markdown",
   "metadata": {},
   "source": [
    "### Prefix Product\n",
    "Instead of adding, we multiply. This is the core idea behind solving the famous \"Product of Array Except Self\" problem."
   ]
  },
  {
   "cell_type": "code",
   "execution_count": null,
   "metadata": {},
   "outputs": [],
   "source": [
    "def build_prefix_product(nums: List[int]) -> List[int]:\n",
    "    prefix_prod = [1] * (len(nums) + 1)\n",
    "    for i in range(len(nums)):\n",
    "        prefix_prod[i+1] = prefix_prod[i] * nums[i]\n",
    "    return prefix_prod\n",
    "\n",
    "nums_prod = [1, 2, 3, 4, 5]\n",
    "prefix_product = build_prefix_product(nums_prod)\n",
    "print(f\"Original Array: {nums_prod}\")\n",
    "print(f\"Prefix Product Array: {prefix_product}\")"
   ]
  },
  {
   "cell_type": "markdown",
   "metadata": {},
   "source": [
    "### Prefix XOR\n",
    "The XOR operation (`^`) is also associative. Prefix XOR is useful in problems involving subarray properties related to bitwise operations."
   ]
  },
  {
   "cell_type": "code",
   "execution_count": null,
   "metadata": {},
   "outputs": [],
   "source": [
    "def build_prefix_xor(nums: List[int]) -> List[int]:\n",
    "    prefix_x = [0] * (len(nums) + 1)\n",
    "    for i in range(len(nums)):\n",
    "        prefix_x[i+1] = prefix_x[i] ^ nums[i]\n",
    "    return prefix_x\n",
    "\n",
    "nums_xor = [8, 1, 2, 10, 3]\n",
    "prefix_xor = build_prefix_xor(nums_xor)\n",
    "print(f\"Original Array: {nums_xor}\")\n",
    "print(f\"Prefix XOR Array: {prefix_xor}\")"
   ]
  },
  {
   "cell_type": "markdown",
   "metadata": {},
   "source": [
    "### Prefix Min/Max\n",
    "We can also find the running minimum or maximum value seen so far."
   ]
  },
  {
   "cell_type": "code",
   "execution_count": null,
   "metadata": {},
   "outputs": [],
   "source": [
    "def build_prefix_min(nums: List[int]) -> List[int]:\n",
    "    prefix_m = [float('inf')] * len(nums)\n",
    "    prefix_m[0] = nums[0]\n",
    "    for i in range(1, len(nums)):\n",
    "        prefix_m[i] = min(prefix_m[i-1], nums[i])\n",
    "    return prefix_m\n",
    "\n",
    "nums_min_max = [10, 5, 12, 3, 20, 8]\n",
    "prefix_min = build_prefix_min(nums_min_max)\n",
    "print(f\"Original Array: {nums_min_max}\")\n",
    "print(f\"Prefix Min Array: {prefix_min}\")"
   ]
  },
  {
   "cell_type": "markdown",
   "metadata": {},
   "source": [
    "## Section 3: Introducing Suffix Sums"
   ]
  },
  {
   "cell_type": "markdown",
   "metadata": {},
   "source": [
    "As you might guess, a **suffix sum array** is the mirror image of a prefix sum. Each element `suffix[i]` stores the cumulative sum of all elements from index `i` to the *end* of the original array.\n",
    "\n",
    "They are useful when a calculation at index `i` depends on an aggregation of everything to its **right**."
   ]
  },
  {
   "cell_type": "markdown",
   "metadata": {},
   "source": [
    "Here is a function to build a suffix sum array. We also pad this array for consistency, but this time at the end."
   ]
  },
  {
   "cell_type": "code",
   "execution_count": null,
   "metadata": {},
   "outputs": [],
   "source": [
    "def build_suffix_sum(nums: List[int]) -> List[int]:\n",
    "    \"\"\"Builds a suffix sum array with a trailing 0.\"\"\"\n",
    "    # Initialize with a trailing 0\n",
    "    suffix_sum = [0] * (len(nums) + 1)\n",
    "    # Iterate backwards from the end of nums\n",
    "    for i in range(len(nums) - 1, -1, -1):\n",
    "        suffix_sum[i] = suffix_sum[i+1] + nums[i]\n",
    "    return suffix_sum\n",
    "\n",
    "# Example usage\n",
    "nums = [2, 5, 1, 8, 3]\n",
    "suffix = build_suffix_sum(nums)\n",
    "print(f\"Original Array: {nums}\")\n",
    "print(f\"Suffix Sum Array: {suffix}\")"
   ]
  },
  {
   "cell_type": "markdown",
   "metadata": {},
   "source": [
    "## 🔍 Section 4: The Art of Identification: When to Use This Pattern"
   ]
  },
  {
   "cell_type": "markdown",
   "metadata": {},
   "source": [
    "This is the most crucial skill. How do you spot a problem that's secretly a prefix/suffix sum problem? Look for these signals."
   ]
  },
  {
   "cell_type": "markdown",
   "metadata": {},
   "source": [
    "### 4.1 Signal Keywords & Phrases\n",
    "If you see these terms in a problem description, your \"prefix sum\" alarm should go off:\n",
    "\n",
    "- **\"Sum of a subarray / range\"**: This is the most direct signal.\n",
    "- **\"Running total / product / count\"**: The problem is explicitly asking for a prefix aggregation.\n",
    "- **\"Find an equilibrium/pivot index\"**: This often requires comparing a sum of elements on the left with a sum on the right.\n",
    "- **\"Partition an array into parts with equal sums\"**: Similar to the pivot index, this involves checking sums of different segments of the array.\n",
    "- **\"Calculations involving all elements to the left/right of an index\"**: A dead giveaway that a prefix or suffix aggregation is needed."
   ]
  },
  {
   "cell_type": "markdown",
   "metadata": {},
   "source": [
    "### 4.2 Underlying Problem Patterns\n",
    "\n",
    "Beyond keywords, the problem's structure can point to this solution:\n",
    "\n",
    "#### The \"Equilibrium\" Pattern\n",
    "These problems involve finding an index `i` that balances the array. The calculation at `i` requires knowing the aggregated value of `nums[0...i-1]` and `nums[i+1...n-1]`. \n",
    "- **Classic Use Case:** Using both a prefix sum and a suffix sum array. You can iterate through the array and, at each index `i`, you can instantly query the left sum (from the prefix array) and the right sum (from the suffix array).\n",
    "\n",
    "#### The \"Static Range Query\" Pattern\n",
    "The problem asks you to answer one or more queries about the sum (or product, XOR, etc.) of various ranges in an array. The key here is that the array itself does **not** change between queries.\n",
    "- **Classic Use Case:** Pre-calculate a prefix sum array once. Then, answer every query in $O(1)$ time. This is a massive improvement over the naive approach of iterating and summing for each query, which would be $O(k \\cdot n)$ where $k$ is the number of queries.\n",
    "\n",
    "#### The \"Dependency\" Pattern\n",
    "The desired result for an index `i` depends on an aggregation of all elements before it (prefix) or after it (suffix). \n",
    "- **Classic Use Case:** \"Product of Array Except Self\". To find the result for index `i`, you need the product of everything to the left of `i` and the product of everything to the right of `i`."
   ]
  },
  {
   "cell_type": "markdown",
   "metadata": {},
   "source": [
    "## 🛠️ Section 5: Guided Problem-Solving with Examples"
   ]
  },
  {
   "cell_type": "markdown",
   "metadata": {},
   "source": [
    "### Problem 1 (Easy): Range Sum Query - Immutable (LeetCode 303)"
   ]
  },
  {
   "cell_type": "markdown",
   "metadata": {},
   "source": [
    "**Problem Statement:** Given an integer array `nums`, handle multiple queries of the following type:\n",
    "1. Calculate the sum of the elements of `nums` between indices `left` and `right` inclusive where `left <= right`.\n",
    "\n",
    "**1. Identify the Clues:**\n",
    "- **Keywords:** \"Calculate the sum of the elements... between indices\", \"handle multiple queries\".\n",
    "- **Pattern:** This is a textbook example of the **Static Range Query** pattern.\n",
    "\n",
    "**2. Formulate the Approach:**\n",
    "Instead of re-calculating the sum for every query, we can pre-calculate a prefix sum array in the constructor (`__init__`). Each subsequent `sumRange` call can then use this pre-calculated array to find the answer in $O(1)$ time.\n",
    "\n",
    "**3. Provide the Code:**"
   ]
  },
  {
   "cell_type": "code",
   "execution_count": 3,
   "metadata": {},
   "outputs": [
    {
     "name": "stdout",
     "output_type": "stream",
     "text": [
      "Sum of range (0, 2): 1\n",
      "Sum of range (2, 5): -1\n",
      "Sum of range (0, 5): -3\n"
     ]
    }
   ],
   "source": [
    "class NumArray:\n",
    "\n",
    "    def __init__(self, nums: List[int]):\n",
    "        # Pre-calculate the prefix sum in the constructor.\n",
    "        # We use the padded version with a leading 0.\n",
    "        self.prefix_sum = [0] * (len(nums) + 1)\n",
    "        for i in range(len(nums)):\n",
    "            self.prefix_sum[i+1] = self.prefix_sum[i] + nums[i]\n",
    "\n",
    "    def sumRange(self, left: int, right: int) -> int:\n",
    "        # Answer each query in O(1) time.\n",
    "        # The sum from left to right is prefix[right+1] - prefix[left].\n",
    "        return self.prefix_sum[right + 1] - self.prefix_sum[left]\n",
    "\n",
    "# Example Usage:\n",
    "num_array = NumArray([-2, 0, 3, -5, 2, -1])\n",
    "print(f\"Sum of range (0, 2): {num_array.sumRange(0, 2)}\") # Expected: 1\n",
    "print(f\"Sum of range (2, 5): {num_array.sumRange(2, 5)}\") # Expected: -1\n",
    "print(f\"Sum of range (0, 5): {num_array.sumRange(0, 5)}\") # Expected: -3"
   ]
  },
  {
   "cell_type": "markdown",
   "metadata": {},
   "source": [
    "### Problem 2 (Medium): Product of Array Except Self (LeetCode 238)"
   ]
  },
  {
   "cell_type": "markdown",
   "metadata": {},
   "source": [
    "**Problem Statement:** Given an integer array `nums`, return an array `answer` such that `answer[i]` is equal to the product of all the elements of `nums` except `nums[i]`. You must solve it in $O(n)$ time and without using the division operation.\n",
    "\n",
    "**1. Identify the Clues:**\n",
    "- **Keywords:** \"product of all the elements ... except `nums[i]`\". This implies a calculation involving everything to the left and everything to the right of `i`.\n",
    "- **Pattern:** This is a combination of the **Dependency** and **Equilibrium** patterns. The result at `i` depends on the product of `nums[0...i-1]` and the product of `nums[i+1...n-1]`.\n",
    "\n",
    "**2. Formulate the Approach:**\n",
    "We can't use division, so we can't just find the total product and divide by `nums[i]`.\n",
    "Instead, for each index `i`, we need:\n",
    "1. The product of all numbers to its left (a prefix product).\n",
    "2. The product of all numbers to its right (a suffix product).\n",
    "\n",
    "We can compute a `prefix_products` array and a `suffix_products` array. Then, `answer[i] = prefix_products[i] * suffix_products[i]`.\n",
    "\n",
    "A clever optimization is to do this in two passes using a single result array, saving space.\n",
    "\n",
    "**3. Provide the Code:**"
   ]
  },
  {
   "cell_type": "code",
   "execution_count": null,
   "metadata": {},
   "outputs": [],
   "source": [
    "def productExceptSelf(nums: List[int]) -> List[int]:\n",
    "    n = len(nums)\n",
    "    answer = [1] * n\n",
    "\n",
    "    # First pass: Calculate prefix products\n",
    "    # At the end of this loop, answer[i] will contain the product of all elements to the left of i.\n",
    "    prefix_product = 1\n",
    "    for i in range(n):\n",
    "        answer[i] = prefix_product\n",
    "        prefix_product *= nums[i]\n",
    "\n",
    "    # Second pass: Calculate suffix products and multiply with the prefix product\n",
    "    # We use a single variable to store the running suffix product.\n",
    "    suffix_product = 1\n",
    "    for i in range(n - 1, -1, -1):\n",
    "        answer[i] *= suffix_product\n",
    "        suffix_product *= nums[i]\n",
    "        \n",
    "    return answer\n",
    "\n",
    "# Example Usage:\n",
    "nums_prod_ex = [1, 2, 3, 4]\n",
    "print(f\"Product except self for {nums_prod_ex}: {productExceptSelf(nums_prod_ex)}\") # Expected: [24, 12, 8, 6]"
   ]
  },
  {
   "cell_type": "markdown",
   "metadata": {},
   "source": [
    "### Problem 3 (Medium): Find Pivot Index (LeetCode 724)"
   ]
  },
  {
   "cell_type": "markdown",
   "metadata": {},
   "source": [
    "**Problem Statement:** Given an array of integers `nums`, calculate the pivot index. The pivot index is the index where the sum of all the numbers strictly to the left of the index is equal to the sum of all the numbers strictly to the index's right.\n",
    "\n",
    "**1. Identify the Clues:**\n",
    "- **Keywords:** \"pivot index\", \"sum of all numbers... to the left... is equal to the sum... to the right\".\n",
    "- **Pattern:** This is a perfect example of the **Equilibrium** pattern.\n",
    "\n",
    "**2. Formulate the Approach:**\n",
    "To check if index `i` is a pivot, we need `sum(nums[0...i-1])` and `sum(nums[i+1...n-1])`.\n",
    "A naive approach would be to recalculate these sums for each index, leading to an $O(n^2)$ solution. \n",
    "\n",
    "A better approach using prefix sums: calculate the `total_sum` of the array first. Then, iterate through the array, maintaining a `left_sum`. For any index `i`, the `right_sum` can be found instantly:\n",
    "$$ \\text{right\\_sum} = \\text{total\\_sum} - \\text{left\\_sum} - \\text{nums}[i] $$\n",
    "\n",
    "This allows us to check each index in $O(1)$ time, for a total time complexity of $O(n)$.\n",
    "\n",
    "**3. Provide the Code:**"
   ]
  },
  {
   "cell_type": "code",
   "execution_count": null,
   "metadata": {},
   "outputs": [],
   "source": [
    "def pivotIndex(nums: List[int]) -> int:\n",
    "    total_sum = sum(nums)\n",
    "    left_sum = 0\n",
    "\n",
    "    for i in range(len(nums)):\n",
    "        # The right sum is the total sum minus the left sum and the current element\n",
    "        right_sum = total_sum - left_sum - nums[i]\n",
    "        \n",
    "        # Check for equilibrium\n",
    "        if left_sum == right_sum:\n",
    "            return i\n",
    "        \n",
    "        # Update the left_sum for the next iteration\n",
    "        left_sum += nums[i]\n",
    "        \n",
    "    # If no pivot index is found\n",
    "    return -1\n",
    "\n",
    "# Example Usage:\n",
    "nums_pivot_1 = [1, 7, 3, 6, 5, 6]\n",
    "print(f\"Pivot index for {nums_pivot_1}: {pivotIndex(nums_pivot_1)}\") # Expected: 3\n",
    "\n",
    "nums_pivot_2 = [1, 2, 3]\n",
    "print(f\"Pivot index for {nums_pivot_2}: {pivotIndex(nums_pivot_2)}\") # Expected: -1"
   ]
  },
  {
   "cell_type": "markdown",
   "metadata": {},
   "source": [
    "## ✅ Section 6: Conclusion & Further Practice"
   ]
  },
  {
   "cell_type": "markdown",
   "metadata": {},
   "source": [
    "### Key Takeaways\n",
    "- **Pre-calculation is Key:** The core idea is to spend $O(n)$ time upfront to build a prefix/suffix aggregation array.\n",
    "- **Constant Time Queries:** This preprocessing allows you to answer subsequent queries about ranges or dependencies in $O(1)$ time.\n",
    "- **It's Not Just Sums:** The pattern applies to any associative operation (product, XOR, min/max, etc.).\n",
    "- **Learn the Signals:** Recognizing keywords like \"range sum\", \"pivot\", and \"left/right of index\" is crucial for identifying when to apply this powerful pattern.\n",
    "\n",
    "### Further Practice Problems\n",
    "Test your new skills on these problems, which all have solutions involving prefix sums:\n",
    "- **LeetCode 560:** Subarray Sum Equals K (Hint: Use a hash map to store prefix sums seen so far).\n",
    "- **LeetCode 525:** Contiguous Array\n",
    "- **LeetCode 974:** Subarray Sums Divisible by K\n",
    "- **LeetCode 325:** Maximum Size Subarray Sum Equals k\n",
    "- **LeetCode 2270:** Number of Ways to Split Array"
   ]
  }
 ],
 "metadata": {
  "kernelspec": {
   "display_name": "venv",
   "language": "python",
   "name": "python3"
  },
  "language_info": {
   "codemirror_mode": {
    "name": "ipython",
    "version": 3
   },
   "file_extension": ".py",
   "mimetype": "text/x-python",
   "name": "python",
   "nbconvert_exporter": "python",
   "pygments_lexer": "ipython3",
   "version": "3.12.4"
  }
 },
 "nbformat": 4,
 "nbformat_minor": 2
}
